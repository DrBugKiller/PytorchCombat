{
 "cells": [
  {
   "cell_type": "markdown",
   "metadata": {},
   "source": [
    "# Adam\n",
    "\n",
    "Adam是一个结合了**momentum**和**RMSProp**的优化算法:\n",
    "- **momentum**增加了梯度动量的概念.\n",
    "- **RMSProp**对学习率进行了改进,分母增加了$s$, 还增加了移动平均权重 $\\rho$的概念.\n",
    "\n",
    "$$\n",
    "v = \\beta_1 v + (1 - \\beta_1) g      \\space\\space\\space\\space\\space\\space\\space\\space(1)   \\\\    \n",
    "s = \\beta_2 s + (1 - \\beta_2) g^2     \\space\\space\\space\\space\\space\\space\\space\\space(2)\n",
    "$$\n",
    "\n",
    "$v$ 是梯度的累加, $s$ 是梯度平方的累加.\n",
    "\n",
    "在 adam 算法里，为了减轻 v 和 s 被初始化为 0 的初期对计算指数加权移动平均的影响，每次 v 和 s 都做下面的修正, $t$是指数.\n",
    "\n",
    "$$\n",
    "\\hat{v} = \\frac{v}{1 - \\beta_1^t}     \\space\\space\\space\\space\\space\\space\\space\\space(3)  \\\\\n",
    "\\hat{s} = \\frac{s}{1 - \\beta_2^t}     \\space\\space\\space\\space\\space\\space\\space\\space(4)\n",
    "$$\n",
    "\n",
    "这里 t 是迭代次数，可以看到，当 $0 \\leq \\beta_1, \\beta_2 \\leq 1$ 的时候，迭代到后期 t 比较大，那么 $\\beta_1^t$ 和 $\\beta_2^t$ 就几乎为 0，就不会对 v 和 s 有任何影响了，算法作者建议$\\beta_1 = 0.9$, $\\beta_2 = 0.999$。\n",
    "\n",
    "$$\n",
    "g' = \\frac{\\eta \\hat{v}}{\\sqrt{\\hat{s} + \\epsilon}}  \\space\\space\\space\\space\\space\\space\\space\\space(5)\n",
    "$$\n",
    "\n",
    "这里 $\\eta$ 是学习率，$epsilon$ 仍然是为了数值稳定性而添加的常数，最后参数更新有\n",
    "\n",
    "$$\n",
    "\\theta_i = \\theta_{i-1} - g'  \\space\\space\\space\\space\\space\\space\\space\\space(6)\n",
    "$$"
   ]
  },
  {
   "cell_type": "markdown",
   "metadata": {},
   "source": [
    "## 一. 手动实现Adam"
   ]
  },
  {
   "cell_type": "code",
   "execution_count": 8,
   "metadata": {},
   "outputs": [],
   "source": [
    "def adam(parameters, vs, sqrs, lr, t, beta1=0.9, beta2=0.999):\n",
    "    eps=1e-8\n",
    "    for param, v, sqr in zip(parameters,vs,sqrs):\n",
    "        v[:]=beta1 *v + (1-beta1)*param.grad.data #公式(1)\n",
    "        sqr[:]=beta2*sqr+(1-beta1)*param.grad.data**2 #公式(2)\n",
    "        \n",
    "        v_hat=v/(1-beta1**t) #公式(3)\n",
    "        s_hat=sqr/(1-beta2**t) #公式(4)\n",
    "        param.data=param.data- lr*v_hat/torch.sqrt(s_hat+eps) #公式(5)"
   ]
  },
  {
   "cell_type": "code",
   "execution_count": 5,
   "metadata": {},
   "outputs": [],
   "source": [
    "import numpy as np\n",
    "import torch\n",
    "from torchvision.datasets import MNIST\n",
    "from torch.utils.data import DataLoader\n",
    "from torch import nn\n",
    "from torch.autograd import Variable\n",
    "import time\n",
    "import matplotlib.pyplot as plt\n",
    "\n",
    "def data_tf(x):\n",
    "    x=np.array(x,dtype='float32')/255\n",
    "    x = (x - 0.5) / 0.5 # 标准化，这个技巧之后会讲到\n",
    "    x = x.reshape((-1,)) # 拉平\n",
    "    x = torch.from_numpy(x)\n",
    "    return x\n",
    "\n",
    "train_set = MNIST('./data', train=True, transform=data_tf, download=True) # 载入数据集，申明定义的数据变换\n",
    "test_set = MNIST('./data', train=False, transform=data_tf, download=True)"
   ]
  },
  {
   "cell_type": "code",
   "execution_count": 14,
   "metadata": {},
   "outputs": [
    {
     "name": "stdout",
     "output_type": "stream",
     "text": [
      "epoch:0,train_loss:0.67149\n",
      "epoch:1,train_loss:0.33829\n",
      "epoch:2,train_loss:0.28926\n",
      "epoch:3,train_loss:0.25524\n",
      "epoch:4,train_loss:0.22780\n",
      "Used 36.08968s\n"
     ]
    }
   ],
   "source": [
    "#定义loss函数\n",
    "criterion=nn.CrossEntropyLoss()\n",
    "\n",
    "train_data=DataLoader(train_set, batch_size=64, shuffle=True)\n",
    "\n",
    "net=nn.Sequential(nn.Linear(784,200),\n",
    "                 nn.ReLU(),\n",
    "                 nn.Linear(200,10))\n",
    "\n",
    "sqrs=[]\n",
    "vs=[]\n",
    "for param in net.parameters():\n",
    "    sqrs.append(torch.zeros_like(param.data))\n",
    "    vs.append(torch.zeros_like(param.data))\n",
    "t=1\n",
    "#开始训练\n",
    "losses=[]\n",
    "idx=0\n",
    "start=time.time()\n",
    "\n",
    "for e in range(5):\n",
    "    train_loss=0\n",
    "    for im,label in train_data:\n",
    "        out=net(Variable(im))\n",
    "        loss=criterion(out,Variable(label))\n",
    "        \n",
    "        net.zero_grad()\n",
    "        loss.backward()\n",
    "        \n",
    "        adam(net.parameters(),vs,sqrs,1e-3,t)\n",
    "        t+=1\n",
    "        train_loss+=loss.item()\n",
    "        if idx%30==0:\n",
    "            losses.append(loss.item())\n",
    "        idx+=1\n",
    "    print('epoch:{},train_loss:{:.5f}'.format(e,train_loss/len(train_data)))\n",
    "print('Used {:.5f}s'.format(time.time()-start))"
   ]
  },
  {
   "cell_type": "code",
   "execution_count": 15,
   "metadata": {},
   "outputs": [
    {
     "data": {
      "text/plain": [
       "<matplotlib.legend.Legend at 0x2e573790ba8>"
      ]
     },
     "execution_count": 15,
     "metadata": {},
     "output_type": "execute_result"
    },
    {
     "data": {
      "image/png": "[encoded data removed]",
      "text/plain": [
       "<Figure size 432x288 with 1 Axes>"
      ]
     },
     "metadata": {},
     "output_type": "display_data"
    }
   ],
   "source": [
    "x_axis = np.linspace(0, 5, len(losses), endpoint=True)\n",
    "plt.semilogy(x_axis, losses, label='adam')\n",
    "plt.legend(loc='best')"
   ]
  },
  {
   "cell_type": "markdown",
   "metadata": {},
   "source": [
    "可以看到使用adam算法loss能够更快更好地收敛,但是一定小心学习率的设定,使用自适应的算法一般需要**更小的学习率**."
   ]
  },
  {
   "cell_type": "markdown",
   "metadata": {},
   "source": [
    "## 二. torch自带Adam-`torch.optim.Adam()`"
   ]
  },
  {
   "cell_type": "code",
   "execution_count": 16,
   "metadata": {},
   "outputs": [
    {
     "name": "stdout",
     "output_type": "stream",
     "text": [
      "epoch:0,train_loss:0.35177\n",
      "epoch:1,train_loss:0.16791\n",
      "epoch:2,train_loss:0.12309\n",
      "epoch:3,train_loss:0.09832\n",
      "epoch:4,train_loss:0.08406\n",
      "Used 41.37819s\n"
     ]
    }
   ],
   "source": [
    "train_data=DataLoader(train_set,batch_size=64,shuffle=True)\n",
    "net=nn.Sequential(nn.Linear(784,200),\n",
    "                 nn.ReLU(),\n",
    "                 nn.Linear(200,10))\n",
    "\n",
    "optimizer=torch.optim.Adam(net.parameters(),lr=1e-3)\n",
    "\n",
    "#开始训练\n",
    "start=time.time()\n",
    "for e in range(5):\n",
    "    train_loss=0\n",
    "    for im,label in train_data:\n",
    "        im=Variable(im)\n",
    "        label=Variable(label)\n",
    "        out=net(im)\n",
    "        loss=criterion(out,label)\n",
    "        optimizer.zero_grad()\n",
    "        loss.backward()\n",
    "        optimizer.step()\n",
    "        train_loss+=loss.item()\n",
    "    print('epoch:{},train_loss:{:.5f}'.format(e,train_loss/len(train_data)))\n",
    "end=time.time()\n",
    "print('Used {:.5f}s'.format(end-start))"
   ]
  },
  {
   "cell_type": "markdown",
   "metadata": {},
   "source": [
    "![](https://raw.githubusercontent.com/cs231n/cs231n.github.io/master/assets/nn3/opt1.gif)\n",
    "\n",
    "![](https://raw.githubusercontent.com/cs231n/cs231n.github.io/master/assets/nn3/opt2.gif)\n"
   ]
  }
 ],
 "metadata": {
  "kernelspec": {
   "display_name": "Python 3",
   "language": "python",
   "name": "python3"
  },
  "language_info": {
   "codemirror_mode": {
    "name": "ipython",
    "version": 3
   },
   "file_extension": ".py",
   "mimetype": "text/x-python",
   "name": "python",
   "nbconvert_exporter": "python",
   "pygments_lexer": "ipython3",
   "version": "3.6.5"
  }
 },
 "nbformat": 4,
 "nbformat_minor": 2
}
