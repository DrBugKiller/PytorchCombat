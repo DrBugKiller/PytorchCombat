{
 "cells": [
  {
   "cell_type": "markdown",
   "metadata": {},
   "source": [
    "# Adadelta\n",
    "- Adadelta 算是 Adagrad 法的延伸，它跟 RMSProp 一样，都是为了解决 Adagrad 中**学习率减小过快**的问题.\n",
    "- RMSProp 是通过移动加权平均(缩放梯度平方)的方式，而 Adadelta 也是一种方法，有趣的是，**它并不需要学习率这个参数**。\n",
    "- RMSProp 是对分母进行的优化,分子上的原始学习率是固定的; \n",
    "- Adadelta是在RMSProp的基础上又对分子进行了优化,不再是固定的 $\\eta$(eta), 而是逐渐变大的累加式变量 $\\Delta \\theta$\n",
    "\n",
    "\n",
    "### RMSProp公式:\n",
    "$$\n",
    "\\theta_{i+1} = \\theta_i- \\frac{\\eta}{\\sqrt{s_i + \\epsilon}}g\n",
    "$$\n",
    "### Adadelta公式:\n",
    "$$\n",
    "\\theta_{i+1} = \\theta_i - \\frac{\\sqrt{\\Delta \\theta_i + \\epsilon}}{\\sqrt{s_i + \\epsilon}} g   \\space\\space\\space\\space(0)\n",
    "$$\n",
    "其中,\n",
    "$$\n",
    "s_{i+1} = \\rho s_i + (1 - \\rho) g^2          \\space\\space\\space\\space(1)\n",
    "$$\n",
    "\n",
    "这里 $\\rho$ 和 RMSProp 中的 $\\alpha$ 都是移动平均系数，g 是参数的梯度\n",
    "\n",
    "$$\n",
    "\\Delta \\theta_{i+1} = \\rho \\Delta \\theta_i + (1 - \\rho) g_i'^2   \\space\\space\\space\\space(3)\n",
    "$$\n",
    "\n",
    "$$\n",
    "g_i' = \\frac{\\sqrt{\\Delta \\theta_i + \\epsilon}}{\\sqrt{s_i + \\epsilon}} g_i    \\space\\space\\space\\space(2)\n",
    "$$\n",
    "\n",
    "可见, $s$ 每次增加的是梯度$g$ 的平方,而$\\Delta \\theta$ 每次增加的是参数实际的变化量, 即梯度$g$ 的平方再乘以之前由$s$ 和$\\Delta \\theta$ 计算出的系数."
   ]
  },
  {
   "cell_type": "markdown",
   "metadata": {},
   "source": [
    "## 手动实现Adadelta优化函数"
   ]
  },
  {
   "cell_type": "code",
   "execution_count": 7,
   "metadata": {},
   "outputs": [],
   "source": [
    "def adadelta(parameters, sqrs, deltas, rho):\n",
    "    eps=1e-6\n",
    "    for param,sqr,delta in zip(parameters,sqrs,deltas):\n",
    "        sqr[:]=rho*sqr + (1-rho)*param.grad.data**2 #对应公式(1)\n",
    "        cur_delta=torch.sqrt(delta+eps)/torch.sqrt(sqr+eps)*param.grad.data  #对应公式(2)\n",
    "        delta[:]=rho*delta+(1-rho)*cur_delta**2 #对应公式(3)\n",
    "        param.data=param.data-cur_delta #对应公式(0)"
   ]
  },
  {
   "cell_type": "code",
   "execution_count": 3,
   "metadata": {},
   "outputs": [],
   "source": [
    "import numpy as np\n",
    "import torch\n",
    "from torch.autograd import Variable\n",
    "from torch import nn\n",
    "from torch.utils.data import DataLoader\n",
    "import time\n",
    "import matplotlib.pyplot as plt\n",
    "from torchvision.datasets import MNIST\n",
    "\n",
    "def data_tf(x):\n",
    "    x = np.array(x, dtype='float32') / 255\n",
    "    x = (x - 0.5) / 0.5 # 标准化，这个技巧之后会讲到\n",
    "    x = x.reshape((-1,)) # 拉平\n",
    "    x = torch.from_numpy(x)\n",
    "    return x\n",
    "\n",
    "train_set = MNIST('../data', train=True, transform=data_tf, download=True) # 载入数据集，申明定义的数据变换\n",
    "test_set = MNIST('../data', train=False, transform=data_tf, download=True)\n",
    "\n",
    "# 定义 loss 函数\n",
    "criterion = nn.CrossEntropyLoss()"
   ]
  },
  {
   "cell_type": "code",
   "execution_count": 8,
   "metadata": {},
   "outputs": [
    {
     "name": "stdout",
     "output_type": "stream",
     "text": [
      "epoch:0,Train_loss:0.36636\n",
      "epoch:1,Train_loss:0.16245\n",
      "epoch:2,Train_loss:0.12097\n",
      "epoch:3,Train_loss:0.10369\n",
      "epoch:4,Train_loss:0.08911\n",
      "使用时间:35.68398\n"
     ]
    }
   ],
   "source": [
    "train_data=DataLoader(train_set, batch_size=64, shuffle=True)\n",
    "net=nn.Sequential(nn.Linear(784,200),\n",
    "                 nn.ReLU(),\n",
    "                 nn.Linear(200,10))\n",
    "#因为Adadelta有两个变量需要迭代更新,分别是s和\\Delta\\theta\n",
    "sqrs=[]\n",
    "deltas=[]\n",
    "for param in net.parameters():\n",
    "    sqrs.append(torch.zeros_like(param.data))\n",
    "    deltas.append(torch.zeros_like(param.data))\n",
    "\n",
    "# 开始训练\n",
    "losses=[]\n",
    "idx=0\n",
    "start=time.time()\n",
    "\n",
    "for e in range(5):\n",
    "    train_loss=0\n",
    "    for im,label in train_data:\n",
    "        out=net(Variable(im))\n",
    "        loss=criterion(out,Variable(label))\n",
    "        \n",
    "        net.zero_grad()\n",
    "        loss.backward()\n",
    "        adadelta(net.parameters(),sqrs,deltas,0.9) #rho设置为0.9\n",
    "        \n",
    "        train_loss+=loss.item()\n",
    "        if idx%30==0:\n",
    "            losses.append(loss.item())\n",
    "        idx+=1\n",
    "    print('epoch:{},Train_loss:{:.5f}'.format(e,train_loss/len(train_data)))\n",
    "end=time.time()\n",
    "print('使用时间:{:.5f}'.format(end-start))"
   ]
  },
  {
   "cell_type": "code",
   "execution_count": 9,
   "metadata": {},
   "outputs": [
    {
     "data": {
      "text/plain": [
       "<matplotlib.legend.Legend at 0x2612a22bc18>"
      ]
     },
     "execution_count": 9,
     "metadata": {},
     "output_type": "execute_result"
    },
    {
     "data": {
      "image/png": "[encoded data removed]",
      "text/plain": [
       "<Figure size 432x288 with 1 Axes>"
      ]
     },
     "metadata": {},
     "output_type": "display_data"
    }
   ],
   "source": [
    "x_axis = np.linspace(0, 5, len(losses), endpoint=True)\n",
    "plt.semilogy(x_axis, losses, label='rho=0.99')\n",
    "plt.legend(loc='best')"
   ]
  },
  {
   "cell_type": "markdown",
   "metadata": {},
   "source": [
    "## torch自带Adadelta优化函数"
   ]
  },
  {
   "cell_type": "code",
   "execution_count": 15,
   "metadata": {},
   "outputs": [
    {
     "name": "stdout",
     "output_type": "stream",
     "text": [
      "epoch:0,loss:0.31295\n",
      "epoch:1,loss:0.10840\n",
      "epoch:2,loss:0.20857\n",
      "epoch:3,loss:0.10646\n",
      "epoch:4,loss:0.05195\n",
      "Used 29.61564s\n"
     ]
    }
   ],
   "source": [
    "train_data=DataLoader(train_set,batch_size=64, shuffle=True)\n",
    "\n",
    "net=nn.Sequential(nn.Linear(784,200),\n",
    "                 nn.ReLU(),\n",
    "                 nn.Linear(200,10))\n",
    "\n",
    "optimizer=torch.optim.Adadelta(net.parameters(),rho=0.9)\n",
    "\n",
    "start=time.time()\n",
    "\n",
    "for e in range(5):\n",
    "    train_loss=0\n",
    "    for im,label in train_data:\n",
    "        out=net(Variable(im))\n",
    "        loss=criterion(out,Variable(label))\n",
    "        \n",
    "        optimizer.zero_grad()\n",
    "        loss.backward()\n",
    "        \n",
    "        optimizer.step()\n",
    "        \n",
    "        train_loss+=loss.item()\n",
    "    print('epoch:{},loss:{:.5f}'.format(e,loss.item()))\n",
    "print('Used {:.5f}s'.format(time.time()-start))"
   ]
  }
 ],
 "metadata": {
  "kernelspec": {
   "display_name": "Python 3",
   "language": "python",
   "name": "python3"
  },
  "language_info": {
   "codemirror_mode": {
    "name": "ipython",
    "version": 3
   },
   "file_extension": ".py",
   "mimetype": "text/x-python",
   "name": "python",
   "nbconvert_exporter": "python",
   "pygments_lexer": "ipython3",
   "version": "3.6.5"
  }
 },
 "nbformat": 4,
 "nbformat_minor": 2
}
