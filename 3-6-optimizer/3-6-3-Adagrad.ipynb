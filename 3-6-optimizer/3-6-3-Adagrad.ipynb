{
 "cells": [
  {
   "cell_type": "markdown",
   "metadata": {},
   "source": [
    "# Adagrad\n",
    "SGD,Momentum都是固定学习率的优化方法.Adagrad采用自适应学习率来优化更新."
   ]
  },
  {
   "cell_type": "markdown",
   "metadata": {},
   "source": [
    "**SGD**的更新函数:\n",
    "$$\n",
    "\\theta_{i+1} = \\theta_i - \\eta \\nabla L(\\theta)\n",
    "$$\n",
    "**Adagrad**的更新函数:\n",
    "$$\n",
    "\\theta_{i+1} = \\theta_i- \\frac{\\eta}{\\sqrt{s + \\epsilon}}\\nabla L(\\theta)\n",
    "$$\n",
    "- 其中,$s$是模型**从训练开始的梯度平方的累加.** \n",
    "\n",
    "- $\\epsilon$ 是为了数值稳定性而加上的，因为有可能 s 的值为 0，那么 0 出现在分母就会出现无穷大的情况，通常 $\\epsilon$ 取 $10^{-10}$.\n",
    "\n",
    "\n",
    "1. 优点: *如此一来,就达到了一中效果: 某个参数梯度大,但是学习率小;另一个参数梯度小,但是学习率大.**\n",
    "2. 缺点: 因为是梯度平方的累加,导致分母后期很大,整体的学习率变小,收敛速度变慢."
   ]
  },
  {
   "cell_type": "markdown",
   "metadata": {},
   "source": [
    "## 一. 手动实现Adagrad"
   ]
  },
  {
   "cell_type": "code",
   "execution_count": 8,
   "metadata": {},
   "outputs": [],
   "source": [
    "def sgd_adagrad(parameters,sqrs,lr):\n",
    "    eps=1e-10 #防止分母为零\n",
    "    for param, sqr in zip(parameters,sqrs):\n",
    "        sqr[:]=sqr+param.grad.data**2 #累加梯度的平方\n",
    "        div=lr/torch.sqrt(sqr+eps)*param.grad.data\n",
    "        param.data=param.data-div"
   ]
  },
  {
   "cell_type": "code",
   "execution_count": 5,
   "metadata": {},
   "outputs": [],
   "source": [
    "import numpy as np\n",
    "import torch\n",
    "from torchvision.datasets import MNIST\n",
    "from torch.utils.data import DataLoader\n",
    "from torch.autograd import Variable\n",
    "from torch import nn\n",
    "import time\n",
    "import matplotlib.pyplot as plt"
   ]
  },
  {
   "cell_type": "code",
   "execution_count": 12,
   "metadata": {},
   "outputs": [
    {
     "name": "stdout",
     "output_type": "stream",
     "text": [
      "epoch:0,loss:2.13282\n",
      "epoch:1,loss:0.25222\n",
      "epoch:2,loss:0.18310\n",
      "epoch:3,loss:0.14787\n",
      "epoch:4,loss:0.12313\n",
      "Used 30.83085s\n"
     ]
    }
   ],
   "source": [
    "def data_tf(x):\n",
    "    x=np.array(x,dtype='float32')\n",
    "    x=(x-0.5)/0.5\n",
    "    x=x.reshape((-1,))\n",
    "    x=torch.Tensor(x)\n",
    "    return x\n",
    "train_set=MNIST('../data',train=True,transform=data_tf,download=True)\n",
    "test_set=MNIST('../data',train=False,transform=data_tf,download=True)\n",
    "\n",
    "criterion=nn.CrossEntropyLoss()\n",
    "\n",
    "train_data=DataLoader(train_set,batch_size=64, shuffle=True)\n",
    "net=nn.Sequential(nn.Linear(784,200),\n",
    "                 nn.ReLU(),\n",
    "                 nn.Linear(200,10))\n",
    "\n",
    "#初始化梯度平方项\n",
    "sqrs=[]\n",
    "for param in net.parameters():\n",
    "    sqrs.append(torch.zeros_like(param.data))\n",
    "#开始训练\n",
    "losses=[]\n",
    "idx=0\n",
    "start=time.time()\n",
    "for e in range(5):\n",
    "    train_loss=0\n",
    "    for im,label in train_data:\n",
    "        out=net(Variable(im))\n",
    "        loss=criterion(out,Variable(label))\n",
    "        net.zero_grad()\n",
    "        loss.backward()\n",
    "        sgd_adagrad(net.parameters(),sqrs,1e-2)\n",
    "        train_loss+=loss.item()\n",
    "        if idx%30==0:\n",
    "            losses.append(loss.item())\n",
    "        idx+=1\n",
    "    print('epoch:{},loss:{:.5f}'.format(e,train_loss/len(train_data)))\n",
    "print('Used {:.5f}s'.format(time.time()-start))"
   ]
  },
  {
   "cell_type": "code",
   "execution_count": 13,
   "metadata": {},
   "outputs": [
    {
     "data": {
      "text/plain": [
       "<matplotlib.legend.Legend at 0x14230d1fc18>"
      ]
     },
     "execution_count": 13,
     "metadata": {},
     "output_type": "execute_result"
    },
    {
     "data": {
      "image/png": "[encoded data removed]",
      "text/plain": [
       "<Figure size 432x288 with 1 Axes>"
      ]
     },
     "metadata": {},
     "output_type": "display_data"
    }
   ],
   "source": [
    "x_axis=np.linspace(0,5,len(losses),endpoint=True)\n",
    "plt.semilogy(x_axis,losses,label='adagrad')\n",
    "plt.legend(loc='best')"
   ]
  },
  {
   "cell_type": "markdown",
   "metadata": {},
   "source": [
    "## 二.使用自带Adagrad: `torch.optim.Adagrad()`"
   ]
  },
  {
   "cell_type": "code",
   "execution_count": 15,
   "metadata": {},
   "outputs": [
    {
     "name": "stdout",
     "output_type": "stream",
     "text": [
      "epoch:0,loss:2.72052\n",
      "epoch:1,loss:0.27309\n",
      "epoch:2,loss:0.19462\n",
      "epoch:3,loss:0.15696\n",
      "epoch:4,loss:0.13266\n",
      "Used 28.71618s\n"
     ]
    }
   ],
   "source": [
    "train_data=DataLoader(train_set,batch_size=64,shuffle=True)\n",
    "net=nn.Sequential(nn.Linear(784,200),\n",
    "                 nn.ReLU(),\n",
    "                 nn.Linear(200,10))\n",
    "\n",
    "criterion=nn.CrossEntropyLoss()\n",
    "optimizer=torch.optim.Adagrad(net.parameters(),lr=0.01)\n",
    "\n",
    "start=time.time()\n",
    "for e in range(5):\n",
    "    train_loss=0\n",
    "    for im,label in train_data:\n",
    "        out=net(Variable(im))\n",
    "        loss=criterion(out,Variable(label))\n",
    "        \n",
    "        optimizer.zero_grad()\n",
    "        loss.backward()\n",
    "        optimizer.step()\n",
    "        \n",
    "        train_loss+=loss.item()\n",
    "    print('epoch:{},loss:{:.5f}'.format(e,train_loss/len(train_data)))\n",
    "print('Used {:.5f}s'.format(time.time()-start))"
   ]
  }
 ],
 "metadata": {
  "kernelspec": {
   "display_name": "Python 3",
   "language": "python",
   "name": "python3"
  },
  "language_info": {
   "codemirror_mode": {
    "name": "ipython",
    "version": 3
   },
   "file_extension": ".py",
   "mimetype": "text/x-python",
   "name": "python",
   "nbconvert_exporter": "python",
   "pygments_lexer": "ipython3",
   "version": "3.6.5"
  }
 },
 "nbformat": 4,
 "nbformat_minor": 2
}
