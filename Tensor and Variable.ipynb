{
 "cells": [
  {
   "cell_type": "markdown",
   "metadata": {},
   "source": [
    "# 一. Tensor"
   ]
  },
  {
   "cell_type": "markdown",
   "metadata": {},
   "source": [
    "### 把Pytorch当做Numpy用"
   ]
  },
  {
   "cell_type": "code",
   "execution_count": 1,
   "metadata": {},
   "outputs": [],
   "source": [
    "import torch\n",
    "import numpy as np"
   ]
  },
  {
   "cell_type": "code",
   "execution_count": 2,
   "metadata": {},
   "outputs": [],
   "source": [
    "# 创建一个numpy ndarray\n",
    "numpy_tensor=np.random.randn(10,20)"
   ]
  },
  {
   "cell_type": "markdown",
   "metadata": {},
   "source": [
    "我们可以使用**两种方式**将numpy的ndarray转换为torch的tensor\n",
    "- `torch.Tensor(ndarray)`\n",
    "- `torch.from_numpy(ndarray)`"
   ]
  },
  {
   "cell_type": "code",
   "execution_count": 18,
   "metadata": {},
   "outputs": [
    {
     "name": "stdout",
     "output_type": "stream",
     "text": [
      "tensor([[ 0.3477,  1.7881,  0.1020, -3.0489,  0.7468,  0.5973,  0.5773, -0.0708,\n",
      "         -1.3510,  0.0036, -0.4196, -1.4115,  0.2081,  1.3612,  1.8832, -2.0351,\n",
      "         -0.8593, -0.6753,  0.5418,  0.1723],\n",
      "        [-0.4780, -0.3307, -0.5252, -0.2710,  0.3715, -1.2678, -0.4747,  0.7486,\n",
      "          0.6462,  0.0216, -1.3910, -0.6312, -0.2180,  0.3948,  0.9092, -0.6908,\n",
      "          0.6315, -0.7504, -1.6323, -2.4337],\n",
      "        [-0.3478,  0.1459,  1.4962,  0.8018,  0.2325, -1.3683, -0.2767, -0.6959,\n",
      "          0.4707, -1.4066, -1.0317, -0.1964,  0.7980, -0.6775, -1.5452,  0.4839,\n",
      "         -0.0455, -1.1354,  1.3209, -3.0151],\n",
      "        [ 1.4615, -1.8403, -1.8994, -1.1997, -0.0858,  1.6973,  1.0535,  0.3474,\n",
      "          1.3348, -1.0051,  0.3828, -0.0168,  0.0653,  1.1355, -0.2066,  0.1851,\n",
      "         -0.8155,  0.0409,  0.7851,  1.7631],\n",
      "        [-0.5739, -0.8242,  0.1789,  0.7699, -2.2492,  1.8560,  0.9774,  0.5689,\n",
      "         -0.2137, -0.6988, -0.1610, -1.2823, -0.8182,  1.5304,  0.6233,  0.4378,\n",
      "          0.3209,  0.2028, -0.4783,  2.6814],\n",
      "        [ 0.1592, -0.8178,  0.0085,  1.1814,  0.1288, -0.1295, -1.0593, -1.0653,\n",
      "         -0.6312, -1.1314, -0.1144, -0.9894,  0.7163, -0.0964,  0.1577, -1.4139,\n",
      "          0.1347, -1.7582, -3.4288,  0.7921],\n",
      "        [-0.2387, -0.8946, -0.3868,  0.9539,  0.4227, -1.6187, -1.3766,  0.5460,\n",
      "          0.3895,  0.4823,  0.9322,  0.2423, -0.5093,  0.5077,  0.6841, -0.3679,\n",
      "          0.8145, -0.8067, -1.0406,  1.1993],\n",
      "        [-0.1573,  0.6340,  0.6209,  1.0411, -0.7470, -2.3066, -0.7299,  0.2309,\n",
      "         -0.1376,  0.5543, -0.3743,  1.4747, -0.7927,  0.0891,  1.8826,  1.3366,\n",
      "         -0.7287, -0.6109,  0.0521, -0.5148],\n",
      "        [ 0.0459, -1.4416,  0.0007, -0.4745, -0.2722, -0.4629, -2.3617,  0.7347,\n",
      "         -1.6845, -2.0819,  1.2072, -1.1969, -1.1631,  0.3365, -0.2932,  1.7725,\n",
      "          1.6847, -0.6387,  1.3334, -0.6876],\n",
      "        [-1.2298, -0.3286, -1.1785, -0.0073, -0.3857,  0.3422, -0.2071,  1.3424,\n",
      "         -0.8464, -0.0420, -1.9486, -2.1149,  0.9074, -0.8289, -2.1534,  0.2712,\n",
      "         -1.3843,  0.1435,  0.4115,  0.6914]])\n",
      "tensor([[ 0.3477,  1.7881,  0.1020, -3.0489,  0.7468,  0.5973,  0.5773, -0.0708,\n",
      "         -1.3510,  0.0036, -0.4196, -1.4115,  0.2081,  1.3612,  1.8832, -2.0351,\n",
      "         -0.8593, -0.6753,  0.5418,  0.1723],\n",
      "        [-0.4780, -0.3307, -0.5252, -0.2710,  0.3715, -1.2678, -0.4747,  0.7486,\n",
      "          0.6462,  0.0216, -1.3910, -0.6312, -0.2180,  0.3948,  0.9092, -0.6908,\n",
      "          0.6315, -0.7504, -1.6323, -2.4337],\n",
      "        [-0.3478,  0.1459,  1.4962,  0.8018,  0.2325, -1.3683, -0.2767, -0.6959,\n",
      "          0.4707, -1.4066, -1.0317, -0.1964,  0.7980, -0.6775, -1.5452,  0.4839,\n",
      "         -0.0455, -1.1354,  1.3209, -3.0151],\n",
      "        [ 1.4615, -1.8403, -1.8994, -1.1997, -0.0858,  1.6973,  1.0535,  0.3474,\n",
      "          1.3348, -1.0051,  0.3828, -0.0168,  0.0653,  1.1355, -0.2066,  0.1851,\n",
      "         -0.8155,  0.0409,  0.7851,  1.7631],\n",
      "        [-0.5739, -0.8242,  0.1789,  0.7699, -2.2492,  1.8560,  0.9774,  0.5689,\n",
      "         -0.2137, -0.6988, -0.1610, -1.2823, -0.8182,  1.5304,  0.6233,  0.4378,\n",
      "          0.3209,  0.2028, -0.4783,  2.6814],\n",
      "        [ 0.1592, -0.8178,  0.0085,  1.1814,  0.1288, -0.1295, -1.0593, -1.0653,\n",
      "         -0.6312, -1.1314, -0.1144, -0.9894,  0.7163, -0.0964,  0.1577, -1.4139,\n",
      "          0.1347, -1.7582, -3.4288,  0.7921],\n",
      "        [-0.2387, -0.8946, -0.3868,  0.9539,  0.4227, -1.6187, -1.3766,  0.5460,\n",
      "          0.3895,  0.4823,  0.9322,  0.2423, -0.5093,  0.5077,  0.6841, -0.3679,\n",
      "          0.8145, -0.8067, -1.0406,  1.1993],\n",
      "        [-0.1573,  0.6340,  0.6209,  1.0411, -0.7470, -2.3066, -0.7299,  0.2309,\n",
      "         -0.1376,  0.5543, -0.3743,  1.4747, -0.7927,  0.0891,  1.8826,  1.3366,\n",
      "         -0.7287, -0.6109,  0.0521, -0.5148],\n",
      "        [ 0.0459, -1.4416,  0.0007, -0.4745, -0.2722, -0.4629, -2.3617,  0.7347,\n",
      "         -1.6845, -2.0819,  1.2072, -1.1969, -1.1631,  0.3365, -0.2932,  1.7725,\n",
      "          1.6847, -0.6387,  1.3334, -0.6876],\n",
      "        [-1.2298, -0.3286, -1.1785, -0.0073, -0.3857,  0.3422, -0.2071,  1.3424,\n",
      "         -0.8464, -0.0420, -1.9486, -2.1149,  0.9074, -0.8289, -2.1534,  0.2712,\n",
      "         -1.3843,  0.1435,  0.4115,  0.6914]], dtype=torch.float64)\n"
     ]
    }
   ],
   "source": [
    "pytorch_tensor1=torch.Tensor(numpy_tensor)\n",
    "pytorch_tensor2=torch.from_numpy(numpy_tensor)\n",
    "print(pytorch_tensor1)\n",
    "print(pytorch_tensor2)"
   ]
  },
  {
   "cell_type": "markdown",
   "metadata": {},
   "source": [
    "我们也可以使用**两种方式**将pytorch tensor转换为numpy ndarray.\n",
    "- `pytorch_tensor.numpy()`\n",
    "- `pytorch_tensor.cpu().numpy()`\n",
    "\n",
    "要注意 GPU 上的 Tensor 不能直接转换为 NumPy ndarray，需要使用.cpu()先将 GPU 上的 Tensor 转到 CPU 上"
   ]
  },
  {
   "cell_type": "code",
   "execution_count": 7,
   "metadata": {},
   "outputs": [
    {
     "name": "stdout",
     "output_type": "stream",
     "text": [
      "[[ 3.4766820e-01  1.7881441e+00  1.0196557e-01 -3.0489385e+00\n",
      "   7.4683952e-01  5.9729457e-01  5.7725328e-01 -7.0792280e-02\n",
      "  -1.3510040e+00  3.5981829e-03 -4.1961822e-01 -1.4114531e+00\n",
      "   2.0811097e-01  1.3612109e+00  1.8832421e+00 -2.0351315e+00\n",
      "  -8.5929310e-01 -6.7529601e-01  5.4178405e-01  1.7229411e-01]\n",
      " [-4.7804976e-01 -3.3073229e-01 -5.2518636e-01 -2.7100757e-01\n",
      "   3.7146404e-01 -1.2677985e+00 -4.7466570e-01  7.4856710e-01\n",
      "   6.4624727e-01  2.1555670e-02 -1.3909700e+00 -6.3121265e-01\n",
      "  -2.1798286e-01  3.9482734e-01  9.0921348e-01 -6.9077116e-01\n",
      "   6.3145703e-01 -7.5043857e-01 -1.6323138e+00 -2.4336519e+00]\n",
      " [-3.4777248e-01  1.4593977e-01  1.4962105e+00  8.0181503e-01\n",
      "   2.3249163e-01 -1.3682561e+00 -2.7667221e-01 -6.9592667e-01\n",
      "   4.7068948e-01 -1.4066013e+00 -1.0316694e+00 -1.9641460e-01\n",
      "   7.9799080e-01 -6.7745858e-01 -1.5452449e+00  4.8385838e-01\n",
      "  -4.5532495e-02 -1.1353710e+00  1.3209026e+00 -3.0151110e+00]\n",
      " [ 1.4614625e+00 -1.8402822e+00 -1.8994191e+00 -1.1997403e+00\n",
      "  -8.5754640e-02  1.6972942e+00  1.0535088e+00  3.4743884e-01\n",
      "   1.3348346e+00 -1.0050879e+00  3.8279352e-01 -1.6775187e-02\n",
      "   6.5259255e-02  1.1355478e+00 -2.0661041e-01  1.8512931e-01\n",
      "  -8.1545657e-01  4.0945310e-02  7.8509510e-01  1.7631149e+00]\n",
      " [-5.7387000e-01 -8.2415968e-01  1.7892447e-01  7.6987684e-01\n",
      "  -2.2492337e+00  1.8560495e+00  9.7739989e-01  5.6891716e-01\n",
      "  -2.1370800e-01 -6.9877970e-01 -1.6101792e-01 -1.2823142e+00\n",
      "  -8.1821376e-01  1.5303819e+00  6.2332183e-01  4.3779522e-01\n",
      "   3.2090077e-01  2.0275979e-01 -4.7828558e-01  2.6814408e+00]\n",
      " [ 1.5920529e-01 -8.1778485e-01  8.4842844e-03  1.1813681e+00\n",
      "   1.2884480e-01 -1.2949128e-01 -1.0593458e+00 -1.0652851e+00\n",
      "  -6.3121891e-01 -1.1313746e+00 -1.1435013e-01 -9.8943293e-01\n",
      "   7.1634752e-01 -9.6435457e-02  1.5769753e-01 -1.4139062e+00\n",
      "   1.3469245e-01 -1.7581954e+00 -3.4287825e+00  7.9214263e-01]\n",
      " [-2.3873226e-01 -8.9458829e-01 -3.8676453e-01  9.5394289e-01\n",
      "   4.2265666e-01 -1.6187117e+00 -1.3766284e+00  5.4604340e-01\n",
      "   3.8947257e-01  4.8232016e-01  9.3216288e-01  2.4233605e-01\n",
      "  -5.0934917e-01  5.0770348e-01  6.8409014e-01 -3.6786771e-01\n",
      "   8.1446183e-01 -8.0673730e-01 -1.0406111e+00  1.1992515e+00]\n",
      " [-1.5730672e-01  6.3398814e-01  6.2093139e-01  1.0410933e+00\n",
      "  -7.4696934e-01 -2.3065577e+00 -7.2986817e-01  2.3092091e-01\n",
      "  -1.3763875e-01  5.5426472e-01 -3.7432742e-01  1.4747214e+00\n",
      "  -7.9266870e-01  8.9071974e-02  1.8825753e+00  1.3365613e+00\n",
      "  -7.2871268e-01 -6.1089182e-01  5.2052174e-02 -5.1484406e-01]\n",
      " [ 4.5944698e-02 -1.4416128e+00  6.8031834e-04 -4.7452462e-01\n",
      "  -2.7222970e-01 -4.6290034e-01 -2.3616652e+00  7.3473382e-01\n",
      "  -1.6845340e+00 -2.0818903e+00  1.2072127e+00 -1.1969066e+00\n",
      "  -1.1630974e+00  3.3646551e-01 -2.9315636e-01  1.7725450e+00\n",
      "   1.6847440e+00 -6.3874727e-01  1.3333701e+00 -6.8758041e-01]\n",
      " [-1.2297502e+00 -3.2862324e-01 -1.1784946e+00 -7.2965110e-03\n",
      "  -3.8572428e-01  3.4222591e-01 -2.0710476e-01  1.3423690e+00\n",
      "  -8.4641522e-01 -4.2049289e-02 -1.9486159e+00 -2.1149302e+00\n",
      "   9.0743554e-01 -8.2885766e-01 -2.1533830e+00  2.7123272e-01\n",
      "  -1.3842876e+00  1.4349918e-01  4.1148469e-01  6.9138604e-01]]\n"
     ]
    }
   ],
   "source": [
    "# 如果pytorch tensor在cpu上\n",
    "numpy_array=pytorch_tensor1.numpy()\n",
    "# 如果pytorch tensor在gpu上\n",
    "numpy_array2=pytorch_tensor1.cpu().numpy()\n",
    "print(numpy_array)"
   ]
  },
  {
   "cell_type": "markdown",
   "metadata": {},
   "source": [
    "**Pytorch Tensor使用GPU加速**\n",
    "\n",
    "我们可以使用**两种方式**将Tensor放到GPU上\n",
    "- 第一种方式是定义cuda数据类型"
   ]
  },
  {
   "cell_type": "code",
   "execution_count": 10,
   "metadata": {},
   "outputs": [
    {
     "name": "stdout",
     "output_type": "stream",
     "text": [
      "tensor([[ 0.6777, -0.3711, -0.3406,  0.3745,  0.6361, -1.4560, -0.1334,  0.8859,\n",
      "         -1.5605,  1.5876, -0.4878, -2.3333, -0.1123, -0.3674, -0.8516,  0.5119,\n",
      "          0.5832, -0.3235, -0.1700, -0.0802],\n",
      "        [ 0.4313, -1.3679,  0.1289, -0.5501,  0.6701,  0.5579, -0.4278, -1.2490,\n",
      "         -1.3132, -0.0976, -0.9721, -1.6348,  1.9039,  1.2731,  1.2103,  0.6920,\n",
      "          2.2081, -0.3208,  0.8248, -0.0966],\n",
      "        [ 0.7765, -0.4996,  2.7369, -0.1760, -0.3320, -0.8590,  0.1085,  0.7133,\n",
      "          0.7077,  0.5117, -0.3836, -1.0927, -1.5854,  0.9764, -0.9618, -0.7143,\n",
      "         -0.3837, -0.3497,  0.2725,  0.4042],\n",
      "        [-0.2872,  0.2916, -0.5283,  0.3136,  2.0496,  0.2895,  0.6578,  0.0841,\n",
      "          0.6005, -0.0792,  1.4756,  0.3967,  0.9111,  0.5229, -0.4172, -0.5235,\n",
      "         -0.2882, -1.4716, -0.9194,  0.3850],\n",
      "        [-0.4937,  0.0048,  0.2866,  0.8307, -0.8006,  1.0387,  1.5810,  0.2094,\n",
      "         -1.5906, -2.1610, -0.7815, -1.1900, -0.5350, -0.7430,  1.7588,  1.0452,\n",
      "          0.3747,  1.2028,  0.0399, -1.0532],\n",
      "        [-0.0718,  0.9244, -2.2396,  0.2713, -0.2426,  1.3213, -0.5370,  1.2198,\n",
      "         -0.5694,  0.9449, -2.4275,  0.6859,  1.5341, -0.5432,  0.5833,  0.1974,\n",
      "         -0.7494,  0.4759,  0.2194, -0.6635],\n",
      "        [-2.6070, -1.0427, -0.5358,  0.8994,  0.6923, -0.6150, -0.8113, -0.1318,\n",
      "         -1.3057,  0.7413,  0.9758,  1.6619,  0.2282,  0.0758,  0.1838,  0.7445,\n",
      "          0.7036,  0.1879,  0.7552,  0.7540],\n",
      "        [ 0.3720, -0.9820,  0.0222,  0.0753, -1.5769,  0.3454, -0.9319, -0.1015,\n",
      "          0.6725,  0.8856, -0.1389,  0.7853, -0.9101, -0.3734, -0.2168,  1.4989,\n",
      "         -0.5808,  0.1451,  0.9560,  0.0337],\n",
      "        [ 0.7858, -1.7821,  0.9806, -0.4599, -0.2095, -2.0475,  0.2169, -0.6114,\n",
      "          1.5375, -0.3034, -0.6917, -0.6451,  1.9149,  0.9366,  0.1090,  1.5313,\n",
      "         -0.5107, -0.8155,  2.4136, -0.6223],\n",
      "        [-0.5853, -1.3209, -1.4995,  0.5600,  0.2472, -0.4903,  0.6194, -1.0593,\n",
      "         -1.1534,  3.1138,  0.7780,  2.3198,  0.1962,  1.4268,  0.6352, -1.4884,\n",
      "          0.7305,  0.6790, -1.4524, -0.9889]], device='cuda:0')\n"
     ]
    }
   ],
   "source": [
    "dtype=torch.cuda.FloatTensor\n",
    "gpu_tensor=torch.randn(10,20).type(dtype)\n",
    "print(gpu_tensor)"
   ]
  },
  {
   "cell_type": "markdown",
   "metadata": {},
   "source": [
    "- 第二种方式更简单, `tensor.cuda()`, 直接将tensor放到GPU上,类型跟之前的保持一致"
   ]
  },
  {
   "cell_type": "code",
   "execution_count": 13,
   "metadata": {},
   "outputs": [
    {
     "name": "stdout",
     "output_type": "stream",
     "text": [
      "tensor([[-0.8601, -1.1352, -2.0012,  0.8359,  0.5503,  2.5196, -1.0650, -0.9062,\n",
      "          0.5819, -1.1395,  0.2407, -0.7685,  0.0436,  0.6902, -0.2149,  0.4144,\n",
      "         -0.5558,  2.1616,  0.6707, -0.3136],\n",
      "        [-1.0492, -0.3998, -1.9461, -0.0103, -0.6489,  0.3162,  0.1436,  0.5702,\n",
      "         -0.9237,  1.2309,  1.0063,  0.8195,  0.3772,  0.4709, -0.6586, -0.4060,\n",
      "          0.2609,  0.6761, -1.2853, -1.0977],\n",
      "        [-0.4791, -1.4695, -0.8223,  0.9505, -1.7465,  1.0297, -0.2031,  0.0983,\n",
      "          0.3556,  0.8551, -0.3529, -0.5691, -0.7239,  1.2712, -0.2156, -0.7473,\n",
      "          3.1520,  0.3483,  0.6345, -0.4267],\n",
      "        [ 0.0374, -0.5012, -1.4752, -1.3636,  0.3391,  0.2749,  0.8439,  0.4496,\n",
      "          0.4624,  1.2606, -0.8003,  0.1185,  1.2116, -1.1107,  0.1377, -0.3489,\n",
      "          0.0246,  0.9314,  2.0422,  0.8103],\n",
      "        [-1.1382,  0.1428, -0.4872,  0.3583, -0.1730, -0.4785, -0.7477,  0.8444,\n",
      "         -0.5530, -3.5062, -0.5724, -0.6495, -1.5996,  1.3975, -0.9476, -0.6514,\n",
      "         -0.1344, -1.4758, -1.1462, -0.1142],\n",
      "        [-0.1493, -0.1102,  0.2076, -3.0709, -1.1263, -0.2054, -0.6125,  0.3059,\n",
      "         -0.8843, -1.1546,  0.0487,  1.1081,  2.5631, -0.2607,  0.5455, -0.6658,\n",
      "          1.6174, -0.5416,  0.9654, -0.9237],\n",
      "        [-1.2673,  0.0910,  1.3479, -0.9603, -0.3060,  1.2664,  0.3907,  0.2482,\n",
      "         -0.5880,  0.2673,  0.3657, -2.2291,  0.9416,  0.8937, -0.8830,  0.1644,\n",
      "          0.2555, -0.2131,  1.7744,  1.0700],\n",
      "        [ 1.3541,  0.3115,  0.3868,  0.2502,  1.3041, -1.1503, -1.0257,  0.7189,\n",
      "          1.8913,  1.1246, -2.1716, -0.0142, -0.1214,  1.5537,  1.0626, -0.7998,\n",
      "          0.8568,  1.3299, -1.9622, -0.6421],\n",
      "        [-0.2376,  0.5609, -0.0621, -1.2865, -0.0227, -0.1252, -0.7121, -1.0538,\n",
      "          1.0675,  1.2950, -0.6552,  0.0801,  1.3657, -0.7823,  2.1660, -0.1567,\n",
      "         -0.1564,  0.0156,  0.9266,  0.4913],\n",
      "        [ 1.4759,  0.5581, -1.1170, -0.9729, -0.6767, -0.5935, -0.6794,  1.1155,\n",
      "          0.4243, -1.6862,  0.9120, -1.0299,  0.4516,  2.1583, -0.7799, -0.3812,\n",
      "          2.1287,  0.2181,  0.0851,  0.3109]], device='cuda:0')\n"
     ]
    }
   ],
   "source": [
    "gpu_tensor = torch.randn(10, 20).cuda(0) # 将 tensor 放到第一个 GPU 上\n",
    "#gpu_tensor = torch.randn(10, 20).cuda(1) # 将 tensor 放到第二个 GPU 上, 因为我们只有一个GPU,所以我们注释掉这行代码\n",
    "print(gpu_tensor)"
   ]
  },
  {
   "cell_type": "markdown",
   "metadata": {},
   "source": [
    "**Pytorch 将tensor放回CPU**"
   ]
  },
  {
   "cell_type": "code",
   "execution_count": 15,
   "metadata": {},
   "outputs": [
    {
     "name": "stdout",
     "output_type": "stream",
     "text": [
      "tensor([[-0.8601, -1.1352, -2.0012,  0.8359,  0.5503,  2.5196, -1.0650, -0.9062,\n",
      "          0.5819, -1.1395,  0.2407, -0.7685,  0.0436,  0.6902, -0.2149,  0.4144,\n",
      "         -0.5558,  2.1616,  0.6707, -0.3136],\n",
      "        [-1.0492, -0.3998, -1.9461, -0.0103, -0.6489,  0.3162,  0.1436,  0.5702,\n",
      "         -0.9237,  1.2309,  1.0063,  0.8195,  0.3772,  0.4709, -0.6586, -0.4060,\n",
      "          0.2609,  0.6761, -1.2853, -1.0977],\n",
      "        [-0.4791, -1.4695, -0.8223,  0.9505, -1.7465,  1.0297, -0.2031,  0.0983,\n",
      "          0.3556,  0.8551, -0.3529, -0.5691, -0.7239,  1.2712, -0.2156, -0.7473,\n",
      "          3.1520,  0.3483,  0.6345, -0.4267],\n",
      "        [ 0.0374, -0.5012, -1.4752, -1.3636,  0.3391,  0.2749,  0.8439,  0.4496,\n",
      "          0.4624,  1.2606, -0.8003,  0.1185,  1.2116, -1.1107,  0.1377, -0.3489,\n",
      "          0.0246,  0.9314,  2.0422,  0.8103],\n",
      "        [-1.1382,  0.1428, -0.4872,  0.3583, -0.1730, -0.4785, -0.7477,  0.8444,\n",
      "         -0.5530, -3.5062, -0.5724, -0.6495, -1.5996,  1.3975, -0.9476, -0.6514,\n",
      "         -0.1344, -1.4758, -1.1462, -0.1142],\n",
      "        [-0.1493, -0.1102,  0.2076, -3.0709, -1.1263, -0.2054, -0.6125,  0.3059,\n",
      "         -0.8843, -1.1546,  0.0487,  1.1081,  2.5631, -0.2607,  0.5455, -0.6658,\n",
      "          1.6174, -0.5416,  0.9654, -0.9237],\n",
      "        [-1.2673,  0.0910,  1.3479, -0.9603, -0.3060,  1.2664,  0.3907,  0.2482,\n",
      "         -0.5880,  0.2673,  0.3657, -2.2291,  0.9416,  0.8937, -0.8830,  0.1644,\n",
      "          0.2555, -0.2131,  1.7744,  1.0700],\n",
      "        [ 1.3541,  0.3115,  0.3868,  0.2502,  1.3041, -1.1503, -1.0257,  0.7189,\n",
      "          1.8913,  1.1246, -2.1716, -0.0142, -0.1214,  1.5537,  1.0626, -0.7998,\n",
      "          0.8568,  1.3299, -1.9622, -0.6421],\n",
      "        [-0.2376,  0.5609, -0.0621, -1.2865, -0.0227, -0.1252, -0.7121, -1.0538,\n",
      "          1.0675,  1.2950, -0.6552,  0.0801,  1.3657, -0.7823,  2.1660, -0.1567,\n",
      "         -0.1564,  0.0156,  0.9266,  0.4913],\n",
      "        [ 1.4759,  0.5581, -1.1170, -0.9729, -0.6767, -0.5935, -0.6794,  1.1155,\n",
      "          0.4243, -1.6862,  0.9120, -1.0299,  0.4516,  2.1583, -0.7799, -0.3812,\n",
      "          2.1287,  0.2181,  0.0851,  0.3109]])\n"
     ]
    }
   ],
   "source": [
    "cpu_tensor=gpu_tensor.cpu()\n",
    "print(cpu_tensor)"
   ]
  },
  {
   "cell_type": "markdown",
   "metadata": {},
   "source": [
    "**我们也能访问到Tensor的一些属性**"
   ]
  },
  {
   "cell_type": "markdown",
   "metadata": {},
   "source": [
    "- 得到tensor的大小: `tensor.shape`, `tensor.size()`,注意`shape`后边没有括号"
   ]
  },
  {
   "cell_type": "code",
   "execution_count": 22,
   "metadata": {},
   "outputs": [
    {
     "name": "stdout",
     "output_type": "stream",
     "text": [
      "torch.Size([10, 20])\n",
      "torch.Size([10, 20])\n"
     ]
    }
   ],
   "source": [
    "print(pytorch_tensor1.shape)\n",
    "print(pytorch_tensor1.size())"
   ]
  },
  {
   "cell_type": "markdown",
   "metadata": {},
   "source": [
    "- 得到tensor的数据类型: `tensor.type()`"
   ]
  },
  {
   "cell_type": "code",
   "execution_count": 23,
   "metadata": {},
   "outputs": [
    {
     "name": "stdout",
     "output_type": "stream",
     "text": [
      "torch.FloatTensor\n"
     ]
    }
   ],
   "source": [
    "print(pytorch_tensor1.type())"
   ]
  },
  {
   "cell_type": "markdown",
   "metadata": {},
   "source": [
    "- 得到tensor的维度: `tensor.dim()`"
   ]
  },
  {
   "cell_type": "code",
   "execution_count": 24,
   "metadata": {},
   "outputs": [
    {
     "name": "stdout",
     "output_type": "stream",
     "text": [
      "2\n"
     ]
    }
   ],
   "source": [
    "print(pytorch_tensor1.dim())"
   ]
  },
  {
   "cell_type": "markdown",
   "metadata": {},
   "source": [
    "- 得到tensor的所有元素的个数: `tensor.numel()`"
   ]
  },
  {
   "cell_type": "code",
   "execution_count": 25,
   "metadata": {},
   "outputs": [
    {
     "name": "stdout",
     "output_type": "stream",
     "text": [
      "200\n"
     ]
    }
   ],
   "source": [
    "print(pytorch_tensor1.numel())"
   ]
  },
  {
   "cell_type": "markdown",
   "metadata": {},
   "source": [
    "**小练习**\n",
    "\n",
    "创建一个类型是float64, 大小是3\\*2,随机初始化的tensor,将其转化为numpy的ndarray,输出其数据类型 "
   ]
  },
  {
   "cell_type": "code",
   "execution_count": 29,
   "metadata": {},
   "outputs": [
    {
     "name": "stdout",
     "output_type": "stream",
     "text": [
      "tensor([[ 0.5533,  0.8228],\n",
      "        [-0.0192,  1.2652],\n",
      "        [-0.6564,  0.9479]], dtype=torch.float64)\n",
      "float64\n"
     ]
    }
   ],
   "source": [
    "mytensor=torch.randn(3,2).type(torch.DoubleTensor)\n",
    "myarray=mytensor.numpy()\n",
    "print(mytensor)\n",
    "print(myarray.dtype)"
   ]
  },
  {
   "cell_type": "markdown",
   "metadata": {},
   "source": [
    "### Tensor的操作\n",
    "Tensor 操作中的 api 和 NumPy 非常相似，如果你熟悉 NumPy 中的操作，那么 tensor 基本是一致的，下面我们来列举其中的一些操作"
   ]
  },
  {
   "cell_type": "markdown",
   "metadata": {},
   "source": [
    "#### `torch.ones()`生成全`1`tensor"
   ]
  },
  {
   "cell_type": "code",
   "execution_count": 30,
   "metadata": {},
   "outputs": [
    {
     "name": "stdout",
     "output_type": "stream",
     "text": [
      "tensor([[1., 1.],\n",
      "        [1., 1.]])\n"
     ]
    }
   ],
   "source": [
    "x=torch.ones(2,2)\n",
    "print(x)"
   ]
  },
  {
   "cell_type": "markdown",
   "metadata": {},
   "source": [
    "#### `torch.type()`得到tensor类型"
   ]
  },
  {
   "cell_type": "code",
   "execution_count": 31,
   "metadata": {},
   "outputs": [
    {
     "name": "stdout",
     "output_type": "stream",
     "text": [
      "torch.FloatTensor\n"
     ]
    }
   ],
   "source": [
    "print(x.type())"
   ]
  },
  {
   "cell_type": "markdown",
   "metadata": {},
   "source": [
    "#### 转换tensor数据类型为整形: `tensor.long()`"
   ]
  },
  {
   "cell_type": "code",
   "execution_count": 33,
   "metadata": {},
   "outputs": [
    {
     "name": "stdout",
     "output_type": "stream",
     "text": [
      "tensor([[1, 1],\n",
      "        [1, 1]])\n",
      "torch.LongTensor\n"
     ]
    }
   ],
   "source": [
    "x=x.long()\n",
    "print(x)\n",
    "print(x.type())"
   ]
  },
  {
   "cell_type": "markdown",
   "metadata": {},
   "source": [
    "#### 将整形tensor转换为float类型: `tensor.float()`"
   ]
  },
  {
   "cell_type": "code",
   "execution_count": 34,
   "metadata": {},
   "outputs": [
    {
     "name": "stdout",
     "output_type": "stream",
     "text": [
      "tensor([[1., 1.],\n",
      "        [1., 1.]])\n",
      "torch.FloatTensor\n"
     ]
    }
   ],
   "source": [
    "x=x.float()\n",
    "print(x)\n",
    "print(x.type())"
   ]
  },
  {
   "cell_type": "markdown",
   "metadata": {},
   "source": [
    "#### 沿着行取最大值: `torch.max(tensor, dim=)`"
   ]
  },
  {
   "cell_type": "code",
   "execution_count": 37,
   "metadata": {},
   "outputs": [
    {
     "name": "stdout",
     "output_type": "stream",
     "text": [
      "tensor([[ 1.6204, -0.4077, -1.3994],\n",
      "        [-0.8982,  0.4406, -1.8149],\n",
      "        [-0.8666,  1.0114, -0.7348],\n",
      "        [ 2.0932, -2.4719, -0.3610]])\n",
      "tensor([1.6204, 0.4406, 1.0114, 2.0932]) tensor([0, 1, 1, 0])\n"
     ]
    }
   ],
   "source": [
    "x=torch.randn(4,3)\n",
    "print(x)\n",
    "max_value, max_idx=torch.max(x, dim=-1)\n",
    "print(max_value, max_idx)"
   ]
  },
  {
   "cell_type": "markdown",
   "metadata": {},
   "source": [
    "#### 沿着行对`x`求和: `torch.sum(tensor, dim=)`"
   ]
  },
  {
   "cell_type": "code",
   "execution_count": 38,
   "metadata": {},
   "outputs": [
    {
     "name": "stdout",
     "output_type": "stream",
     "text": [
      "tensor([-0.1867, -2.2725, -0.5900, -0.7398])\n"
     ]
    }
   ],
   "source": [
    "sum_x=torch.sum(x,dim=1)\n",
    "print(sum_x)"
   ]
  },
  {
   "cell_type": "markdown",
   "metadata": {},
   "source": [
    "#### 增加维度或者减少维度: `tensor.unsqueeze()`"
   ]
  },
  {
   "cell_type": "code",
   "execution_count": 39,
   "metadata": {},
   "outputs": [
    {
     "name": "stdout",
     "output_type": "stream",
     "text": [
      "torch.Size([4, 3])\n",
      "torch.Size([1, 4, 3])\n"
     ]
    }
   ],
   "source": [
    "print(x.shape)\n",
    "x=x.unsqueeze(0) #在第一维度增加\n",
    "print(x.shape)"
   ]
  },
  {
   "cell_type": "code",
   "execution_count": 40,
   "metadata": {},
   "outputs": [
    {
     "name": "stdout",
     "output_type": "stream",
     "text": [
      "torch.Size([1, 1, 4, 3])\n"
     ]
    }
   ],
   "source": [
    "x=x.unsqueeze(1) #在第二维度增加\n",
    "print(x.shape)"
   ]
  },
  {
   "cell_type": "code",
   "execution_count": 41,
   "metadata": {},
   "outputs": [
    {
     "name": "stdout",
     "output_type": "stream",
     "text": [
      "torch.Size([1, 4, 3])\n"
     ]
    }
   ],
   "source": [
    "x=x.squeeze(0) #减少第一个维度\n",
    "print(x.shape)"
   ]
  },
  {
   "cell_type": "code",
   "execution_count": 43,
   "metadata": {},
   "outputs": [
    {
     "name": "stdout",
     "output_type": "stream",
     "text": [
      "torch.Size([4, 3])\n"
     ]
    }
   ],
   "source": [
    "x=x.squeeze() #将tensor中所有1维都删掉\n",
    "print(x.shape)"
   ]
  },
  {
   "cell_type": "markdown",
   "metadata": {},
   "source": [
    "#### 使用`permute`和`transpose`进行维度交换"
   ]
  },
  {
   "cell_type": "code",
   "execution_count": 44,
   "metadata": {},
   "outputs": [
    {
     "name": "stdout",
     "output_type": "stream",
     "text": [
      "torch.Size([3, 4, 5])\n",
      "torch.Size([4, 3, 5])\n"
     ]
    }
   ],
   "source": [
    "x=torch.randn(3,4,5)\n",
    "print(x.shape)\n",
    "\n",
    "x=x.permute(1,0,2) #将第0维和第1维交换\n",
    "print(x.shape)"
   ]
  },
  {
   "cell_type": "code",
   "execution_count": 45,
   "metadata": {},
   "outputs": [
    {
     "name": "stdout",
     "output_type": "stream",
     "text": [
      "torch.Size([5, 3, 4])\n"
     ]
    }
   ],
   "source": [
    "x=x.transpose(0,2) #将第0维和第2维交换\n",
    "print(x.shape)"
   ]
  },
  {
   "cell_type": "markdown",
   "metadata": {},
   "source": [
    "#### 使用`view`对tensor进行reshape"
   ]
  },
  {
   "cell_type": "code",
   "execution_count": 46,
   "metadata": {},
   "outputs": [
    {
     "name": "stdout",
     "output_type": "stream",
     "text": [
      "torch.Size([3, 4, 5])\n",
      "torch.Size([12, 5])\n",
      "torch.Size([3, 20])\n"
     ]
    }
   ],
   "source": [
    "x=torch.randn(3,4,5)\n",
    "print(x.shape)\n",
    "\n",
    "x=x.view(-1,5)\n",
    "print(x.shape)\n",
    "\n",
    "x=x.view(3,20)\n",
    "print(x.shape)"
   ]
  },
  {
   "cell_type": "markdown",
   "metadata": {},
   "source": [
    "#### 两个tensor求和: `torch.add(tensor1,tensor2)`或者`tensor1+tensor2`"
   ]
  },
  {
   "cell_type": "code",
   "execution_count": 47,
   "metadata": {},
   "outputs": [
    {
     "name": "stdout",
     "output_type": "stream",
     "text": [
      "tensor([[-0.4661,  0.0368, -3.1299, -0.4008],\n",
      "        [ 1.9232, -0.9474,  1.1776,  3.5262],\n",
      "        [-0.3276,  1.3257,  0.6753, -0.8982]])\n",
      "tensor([[-0.4661,  0.0368, -3.1299, -0.4008],\n",
      "        [ 1.9232, -0.9474,  1.1776,  3.5262],\n",
      "        [-0.3276,  1.3257,  0.6753, -0.8982]])\n"
     ]
    }
   ],
   "source": [
    "x=torch.randn(3,4)\n",
    "y=torch.randn(3,4)\n",
    "z1=torch.add(x,y)\n",
    "z2=x+y\n",
    "print(z1)\n",
    "print(z2)"
   ]
  },
  {
   "cell_type": "markdown",
   "metadata": {},
   "source": [
    "#### pytorch大多数操作支持inplace原地操作,也就是直接对tensor进行操作而不需要开辟内存空间,方式非常简单,一般是在操作的符号后面加`_`,比如:\n",
    "- `unsqueeze`进行inplace操作:`unsqueeze_`"
   ]
  },
  {
   "cell_type": "code",
   "execution_count": 49,
   "metadata": {},
   "outputs": [
    {
     "name": "stdout",
     "output_type": "stream",
     "text": [
      "torch.Size([3, 3])\n",
      "torch.Size([1, 3, 3])\n"
     ]
    }
   ],
   "source": [
    "x=torch.ones(3,3)\n",
    "print(x.shape)\n",
    "#unsqueeze进行\n",
    "x.unsqueeze_(0)\n",
    "print(x.shape)"
   ]
  },
  {
   "cell_type": "markdown",
   "metadata": {},
   "source": [
    "- `transpose()`进行inplace"
   ]
  },
  {
   "cell_type": "code",
   "execution_count": 50,
   "metadata": {},
   "outputs": [
    {
     "name": "stdout",
     "output_type": "stream",
     "text": [
      "torch.Size([3, 1, 3])\n"
     ]
    }
   ],
   "source": [
    "x.transpose_(1,0)\n",
    "print(x.shape)"
   ]
  },
  {
   "cell_type": "markdown",
   "metadata": {},
   "source": [
    "- `add`进行inplace"
   ]
  },
  {
   "cell_type": "code",
   "execution_count": 54,
   "metadata": {},
   "outputs": [
    {
     "name": "stdout",
     "output_type": "stream",
     "text": [
      "tensor([[1., 1., 1.],\n",
      "        [1., 1., 1.],\n",
      "        [1., 1., 1.]])\n",
      "tensor([[2., 2., 2.],\n",
      "        [2., 2., 2.],\n",
      "        [2., 2., 2.]])\n"
     ]
    }
   ],
   "source": [
    "x=torch.ones(3,3)\n",
    "y=torch.ones(3,3)\n",
    "print(x)\n",
    "\n",
    "x.add_(y)\n",
    "print(x)"
   ]
  },
  {
   "cell_type": "markdown",
   "metadata": {},
   "source": [
    "#### 小练习\n",
    "创建一个float32, 4\\*4的全为1的矩阵, 将矩阵中间2\\*2的矩阵,全部修改为2"
   ]
  },
  {
   "cell_type": "code",
   "execution_count": 55,
   "metadata": {},
   "outputs": [
    {
     "name": "stdout",
     "output_type": "stream",
     "text": [
      "tensor([[1., 1., 1., 1.],\n",
      "        [1., 2., 2., 1.],\n",
      "        [1., 2., 2., 1.],\n",
      "        [1., 1., 1., 1.]])\n"
     ]
    }
   ],
   "source": [
    "x=torch.ones(4,4).float()\n",
    "x[1:3,1:3]=2\n",
    "print(x)"
   ]
  },
  {
   "cell_type": "markdown",
   "metadata": {},
   "source": [
    "# 二. Variable\n",
    "tensor 是 PyTorch 中的完美组件，但是构建神经网络还远远不够，我们需要能够构建计算图的 tensor，这就是 **Variable**。Variable 是对 tensor 的封装，操作和 tensor 是一样的，但是每个 Variabel都有三个属性，Variable 中的 tensor本身`.data`，对应 tensor 的梯度`.grad`以及这个 Variable 是通过什么方式得到的`.grad_fn`"
   ]
  },
  {
   "cell_type": "markdown",
   "metadata": {},
   "source": [
    "#### 导入Variable"
   ]
  },
  {
   "cell_type": "code",
   "execution_count": 56,
   "metadata": {},
   "outputs": [],
   "source": [
    "from torch.autograd import Variable"
   ]
  },
  {
   "cell_type": "markdown",
   "metadata": {},
   "source": [
    "#### 将tensor变成Variable"
   ]
  },
  {
   "cell_type": "code",
   "execution_count": 57,
   "metadata": {},
   "outputs": [],
   "source": [
    "x_tensor=torch.randn(10,5)\n",
    "y_tensor=torch.randn(10,5)\n",
    "\n",
    "x=Variable(x_tensor, requires_grad=True) #默认Variable是不需要求梯度的, 所以我们需要用这个方式申明需要对其进行求梯度\n",
    "y=Variable(y_tensor, requires_grad=True)"
   ]
  },
  {
   "cell_type": "markdown",
   "metadata": {},
   "source": [
    "#### 得到Variable的数值及获得方式: `variable.data`,`variable.grad_fn`"
   ]
  },
  {
   "cell_type": "code",
   "execution_count": 58,
   "metadata": {},
   "outputs": [],
   "source": [
    "z=torch.sum(x+y) #不指定dim就把所有元素相加"
   ]
  },
  {
   "cell_type": "code",
   "execution_count": 59,
   "metadata": {},
   "outputs": [
    {
     "name": "stdout",
     "output_type": "stream",
     "text": [
      "tensor(-4.6818)\n",
      "<SumBackward0 object at 0x000002C8B510F2E8>\n"
     ]
    }
   ],
   "source": [
    "print(z.data)\n",
    "print(z.grad_fn)"
   ]
  },
  {
   "cell_type": "markdown",
   "metadata": {},
   "source": [
    "#### 得到Variable的梯度: `variable.grad`"
   ]
  },
  {
   "cell_type": "code",
   "execution_count": 65,
   "metadata": {},
   "outputs": [
    {
     "name": "stdout",
     "output_type": "stream",
     "text": [
      "tensor([[-0.3506, -0.6990, -0.5743,  1.0694, -1.5128],\n",
      "        [ 1.8279, -1.2237, -0.0016, -0.7818,  0.6222],\n",
      "        [ 0.1577, -1.4566,  0.9656,  1.5383, -1.1200],\n",
      "        [-0.4983, -0.1309,  0.9987, -1.5305, -0.0332],\n",
      "        [-1.6599,  1.3826,  0.0984,  0.1855,  0.1615],\n",
      "        [ 1.1625, -0.1463,  0.3584, -1.2116,  1.0982],\n",
      "        [ 1.8765,  0.9613, -0.4388, -1.0859, -0.1459],\n",
      "        [-0.4789,  0.4323, -0.7594,  0.4259,  0.7395],\n",
      "        [-0.5352,  1.2512, -1.4089,  0.4248,  1.5354],\n",
      "        [-0.4910,  0.2200, -0.3206, -0.9860, -1.6786]])\n",
      "tensor([[ 1.3893, -0.8226,  0.7317,  0.0328,  0.1455],\n",
      "        [-0.9195, -1.5158,  1.1552,  1.7297,  0.3118],\n",
      "        [-1.1521,  1.4480,  0.9226, -0.0635, -0.2216],\n",
      "        [-0.5374,  0.2624, -1.2691,  0.2510, -0.6975],\n",
      "        [-1.0064,  0.0821, -0.0102, -1.0965, -2.1435],\n",
      "        [ 1.2014,  2.0558, -1.8242,  1.2707,  0.4972],\n",
      "        [-0.2413,  1.2036, -1.6684,  1.0253, -1.7398],\n",
      "        [-1.1352, -0.2039, -0.4351, -0.4966, -0.5288],\n",
      "        [-0.5196, -0.1676,  1.7591, -0.8061,  1.7555],\n",
      "        [ 0.1072, -0.3074,  0.1803, -1.2659,  0.3616]])\n",
      "tensor([[4., 4., 4., 4., 4.],\n",
      "        [4., 4., 4., 4., 4.],\n",
      "        [4., 4., 4., 4., 4.],\n",
      "        [4., 4., 4., 4., 4.],\n",
      "        [4., 4., 4., 4., 4.],\n",
      "        [4., 4., 4., 4., 4.],\n",
      "        [4., 4., 4., 4., 4.],\n",
      "        [4., 4., 4., 4., 4.],\n",
      "        [4., 4., 4., 4., 4.],\n",
      "        [4., 4., 4., 4., 4.]])\n",
      "tensor([[4., 4., 4., 4., 4.],\n",
      "        [4., 4., 4., 4., 4.],\n",
      "        [4., 4., 4., 4., 4.],\n",
      "        [4., 4., 4., 4., 4.],\n",
      "        [4., 4., 4., 4., 4.],\n",
      "        [4., 4., 4., 4., 4.],\n",
      "        [4., 4., 4., 4., 4.],\n",
      "        [4., 4., 4., 4., 4.],\n",
      "        [4., 4., 4., 4., 4.],\n",
      "        [4., 4., 4., 4., 4.]])\n"
     ]
    }
   ],
   "source": [
    "#求x和y的梯度\n",
    "z.backward()\n",
    "\n",
    "print(x.data)\n",
    "print(y.data)\n",
    "print(x.grad)\n",
    "print(y.grad)"
   ]
  },
  {
   "cell_type": "markdown",
   "metadata": {},
   "source": [
    "#### 小练习\n",
    "尝试构建一个函数 $y=x^2$,然后求$x=2$的导数"
   ]
  },
  {
   "cell_type": "code",
   "execution_count": 67,
   "metadata": {},
   "outputs": [
    {
     "data": {
      "image/png": "[encoded data removed]",
      "text/plain": [
       "<Figure size 432x288 with 1 Axes>"
      ]
     },
     "metadata": {},
     "output_type": "display_data"
    }
   ],
   "source": [
    "import matplotlib.pyplot as plt\n",
    "x=np.arange(-3,3.01,0.1)\n",
    "y=x**2\n",
    "plt.plot(x,y)\n",
    "plt.plot(2,4,'ro')\n",
    "plt.show()"
   ]
  },
  {
   "cell_type": "markdown",
   "metadata": {},
   "source": [
    "**答案**:"
   ]
  },
  {
   "cell_type": "code",
   "execution_count": 68,
   "metadata": {},
   "outputs": [
    {
     "name": "stdout",
     "output_type": "stream",
     "text": [
      "tensor([4.])\n"
     ]
    }
   ],
   "source": [
    "x=Variable(torch.FloatTensor([2]),requires_grad=True)\n",
    "y=x**2\n",
    "y.backward()\n",
    "print(x.grad)"
   ]
  },
  {
   "cell_type": "code",
   "execution_count": null,
   "metadata": {},
   "outputs": [],
   "source": []
  }
 ],
 "metadata": {
  "kernelspec": {
   "display_name": "Python 3",
   "language": "python",
   "name": "python3"
  },
  "language_info": {
   "codemirror_mode": {
    "name": "ipython",
    "version": 3
   },
   "file_extension": ".py",
   "mimetype": "text/x-python",
   "name": "python",
   "nbconvert_exporter": "python",
   "pygments_lexer": "ipython3",
   "version": "3.6.5"
  }
 },
 "nbformat": 4,
 "nbformat_minor": 2
}
