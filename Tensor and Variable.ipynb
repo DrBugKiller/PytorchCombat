{
 "cells": [
  {
   "cell_type": "markdown",
   "metadata": {},
   "source": [
    "# 一. Tensor"
   ]
  },
  {
   "cell_type": "markdown",
   "metadata": {},
   "source": [
    "### 把Pytorch当做Numpy用"
   ]
  },
  {
   "cell_type": "code",
   "execution_count": 1,
   "metadata": {},
   "outputs": [],
   "source": [
    "import torch\n",
    "import numpy as np"
   ]
  },
  {
   "cell_type": "code",
   "execution_count": 2,
   "metadata": {},
   "outputs": [],
   "source": [
    "# 创建一个numpy ndarray\n",
    "numpy_tensor=np.random.randn(2,3)"
   ]
  },
  {
   "cell_type": "markdown",
   "metadata": {},
   "source": [
    "我们可以使用**两种方式**将numpy的ndarray转换为torch的tensor\n",
    "- `torch.Tensor(ndarray)`\n",
    "- `torch.from_numpy(ndarray)`"
   ]
  },
  {
   "cell_type": "code",
   "execution_count": 4,
   "metadata": {},
   "outputs": [
    {
     "name": "stdout",
     "output_type": "stream",
     "text": [
      "tensor([[ 0.5297, -0.8408,  0.2289],\n",
      "        [-0.1271, -0.3156, -1.1515]])\n",
      "tensor([[ 0.5297, -0.8408,  0.2289],\n",
      "        [-0.1271, -0.3156, -1.1515]], dtype=torch.float64)\n"
     ]
    }
   ],
   "source": [
    "pytorch_tensor1=torch.Tensor(numpy_tensor)\n",
    "pytorch_tensor2=torch.from_numpy(numpy_tensor)\n",
    "print(pytorch_tensor1)\n",
    "print(pytorch_tensor2)"
   ]
  },
  {
   "cell_type": "markdown",
   "metadata": {},
   "source": [
    "我们也可以使用**两种方式**将pytorch tensor转换为numpy ndarray.\n",
    "- `pytorch_tensor.numpy()`\n",
    "- `pytorch_tensor.cpu().numpy()`\n",
    "\n",
    "要注意 GPU 上的 Tensor 不能直接转换为 NumPy ndarray，需要使用.cpu()先将 GPU 上的 Tensor 转到 CPU 上"
   ]
  },
  {
   "cell_type": "code",
   "execution_count": 5,
   "metadata": {},
   "outputs": [
    {
     "name": "stdout",
     "output_type": "stream",
     "text": [
      "[[ 0.5297042  -0.8408229   0.22885658]\n",
      " [-0.12708993 -0.3156194  -1.1515012 ]]\n"
     ]
    }
   ],
   "source": [
    "# 如果pytorch tensor在cpu上\n",
    "numpy_array=pytorch_tensor1.numpy()\n",
    "# 如果pytorch tensor在gpu上\n",
    "numpy_array2=pytorch_tensor1.cpu().numpy()\n",
    "print(numpy_array)"
   ]
  },
  {
   "cell_type": "markdown",
   "metadata": {},
   "source": [
    "**Pytorch Tensor使用GPU加速**\n",
    "\n",
    "我们可以使用**两种方式**将Tensor放到GPU上\n",
    "- 第一种方式是定义cuda数据类型"
   ]
  },
  {
   "cell_type": "code",
   "execution_count": 7,
   "metadata": {},
   "outputs": [
    {
     "name": "stdout",
     "output_type": "stream",
     "text": [
      "tensor([[ 0.5909, -1.0085,  0.4924],\n",
      "        [-0.3589,  1.1792,  1.1899]], device='cuda:0')\n"
     ]
    }
   ],
   "source": [
    "dtype=torch.cuda.FloatTensor\n",
    "gpu_tensor=torch.randn(2,3).type(dtype)\n",
    "print(gpu_tensor)"
   ]
  },
  {
   "cell_type": "markdown",
   "metadata": {},
   "source": [
    "- 第二种方式更简单, `tensor.cuda()`, 直接将tensor放到GPU上,类型跟之前的保持一致"
   ]
  },
  {
   "cell_type": "code",
   "execution_count": 9,
   "metadata": {},
   "outputs": [
    {
     "name": "stdout",
     "output_type": "stream",
     "text": [
      "tensor([[-0.9175, -1.6672,  1.3201],\n",
      "        [ 1.0196,  0.6141, -0.5339]], device='cuda:0')\n"
     ]
    }
   ],
   "source": [
    "gpu_tensor = torch.randn(2,3).cuda(0) # 将 tensor 放到第一个 GPU 上\n",
    "#gpu_tensor = torch.randn(10, 20).cuda(1) # 将 tensor 放到第二个 GPU 上, 因为我们只有一个GPU,所以我们注释掉这行代码\n",
    "print(gpu_tensor)"
   ]
  },
  {
   "cell_type": "markdown",
   "metadata": {},
   "source": [
    "**Pytorch 将tensor放回CPU**"
   ]
  },
  {
   "cell_type": "code",
   "execution_count": 10,
   "metadata": {},
   "outputs": [
    {
     "name": "stdout",
     "output_type": "stream",
     "text": [
      "tensor([[-0.9175, -1.6672,  1.3201],\n",
      "        [ 1.0196,  0.6141, -0.5339]])\n"
     ]
    }
   ],
   "source": [
    "cpu_tensor=gpu_tensor.cpu()\n",
    "print(cpu_tensor)"
   ]
  },
  {
   "cell_type": "markdown",
   "metadata": {},
   "source": [
    "**我们也能访问到Tensor的一些属性**"
   ]
  },
  {
   "cell_type": "markdown",
   "metadata": {},
   "source": [
    "- 得到tensor的大小: `tensor.shape`, `tensor.size()`,注意`shape`后边没有括号,因为`shape`是`__init__`中的属性."
   ]
  },
  {
   "cell_type": "code",
   "execution_count": 11,
   "metadata": {},
   "outputs": [
    {
     "name": "stdout",
     "output_type": "stream",
     "text": [
      "torch.Size([2, 3])\n",
      "torch.Size([2, 3])\n"
     ]
    }
   ],
   "source": [
    "print(pytorch_tensor1.shape)\n",
    "print(pytorch_tensor1.size())"
   ]
  },
  {
   "cell_type": "markdown",
   "metadata": {},
   "source": [
    "- 得到tensor的数据类型: `tensor.type()`"
   ]
  },
  {
   "cell_type": "code",
   "execution_count": 12,
   "metadata": {},
   "outputs": [
    {
     "name": "stdout",
     "output_type": "stream",
     "text": [
      "torch.FloatTensor\n"
     ]
    }
   ],
   "source": [
    "print(pytorch_tensor1.type())"
   ]
  },
  {
   "cell_type": "markdown",
   "metadata": {},
   "source": [
    "- 得到tensor的维度: `tensor.dim()`"
   ]
  },
  {
   "cell_type": "code",
   "execution_count": 13,
   "metadata": {},
   "outputs": [
    {
     "name": "stdout",
     "output_type": "stream",
     "text": [
      "2\n"
     ]
    }
   ],
   "source": [
    "print(pytorch_tensor1.dim())"
   ]
  },
  {
   "cell_type": "markdown",
   "metadata": {},
   "source": [
    "- 得到tensor的所有元素的个数: `tensor.numel()`"
   ]
  },
  {
   "cell_type": "code",
   "execution_count": 14,
   "metadata": {},
   "outputs": [
    {
     "name": "stdout",
     "output_type": "stream",
     "text": [
      "6\n"
     ]
    }
   ],
   "source": [
    "print(pytorch_tensor1.numel())"
   ]
  },
  {
   "cell_type": "markdown",
   "metadata": {},
   "source": [
    "**小练习**\n",
    "\n",
    "创建一个类型是float64, 大小是3\\*2,随机初始化的tensor,将其转化为numpy的ndarray,输出其数据类型 "
   ]
  },
  {
   "cell_type": "code",
   "execution_count": 15,
   "metadata": {},
   "outputs": [
    {
     "name": "stdout",
     "output_type": "stream",
     "text": [
      "tensor([[ 0.7166,  0.0612],\n",
      "        [-0.9271,  0.4692],\n",
      "        [ 0.0770, -1.2780]], dtype=torch.float64)\n",
      "float64\n"
     ]
    }
   ],
   "source": [
    "mytensor=torch.randn(3,2).type(torch.DoubleTensor)\n",
    "myarray=mytensor.numpy()\n",
    "print(mytensor)\n",
    "print(myarray.dtype)"
   ]
  },
  {
   "cell_type": "markdown",
   "metadata": {},
   "source": [
    "#### 小结\n",
    "Pytorch tensor的属性或方法:\n",
    "- `tensor.numpy()`\n",
    "- `tensor.cpu()`\n",
    "- `tensor.shape`\n",
    "- `tensor.size()`\n",
    "- `tensor.dim()`\n",
    "- `tensor.numel()`\n",
    "- `tensor.type()`\n",
    "- `tensor.cuda()`"
   ]
  },
  {
   "cell_type": "markdown",
   "metadata": {},
   "source": [
    "### Tensor的操作\n",
    "Tensor 操作中的 api 和 NumPy 非常相似，如果你熟悉 NumPy 中的操作，那么 tensor 基本是一致的，下面我们来列举其中的一些操作"
   ]
  },
  {
   "cell_type": "markdown",
   "metadata": {},
   "source": [
    "#### `torch.ones()`生成全`1`tensor"
   ]
  },
  {
   "cell_type": "code",
   "execution_count": 30,
   "metadata": {},
   "outputs": [
    {
     "name": "stdout",
     "output_type": "stream",
     "text": [
      "tensor([[1., 1.],\n",
      "        [1., 1.]])\n"
     ]
    }
   ],
   "source": [
    "x=torch.ones(2,2)\n",
    "print(x)"
   ]
  },
  {
   "cell_type": "markdown",
   "metadata": {},
   "source": [
    "#### `tensor.type()`得到tensor类型"
   ]
  },
  {
   "cell_type": "code",
   "execution_count": 31,
   "metadata": {},
   "outputs": [
    {
     "name": "stdout",
     "output_type": "stream",
     "text": [
      "torch.FloatTensor\n"
     ]
    }
   ],
   "source": [
    "print(x.type())"
   ]
  },
  {
   "cell_type": "markdown",
   "metadata": {},
   "source": [
    "#### 转换tensor数据类型为整形: `tensor.long()`"
   ]
  },
  {
   "cell_type": "code",
   "execution_count": 33,
   "metadata": {},
   "outputs": [
    {
     "name": "stdout",
     "output_type": "stream",
     "text": [
      "tensor([[1, 1],\n",
      "        [1, 1]])\n",
      "torch.LongTensor\n"
     ]
    }
   ],
   "source": [
    "x=x.long()\n",
    "print(x)\n",
    "print(x.type())"
   ]
  },
  {
   "cell_type": "markdown",
   "metadata": {},
   "source": [
    "#### 将整形tensor转换为float类型: `tensor.float()`"
   ]
  },
  {
   "cell_type": "code",
   "execution_count": 34,
   "metadata": {},
   "outputs": [
    {
     "name": "stdout",
     "output_type": "stream",
     "text": [
      "tensor([[1., 1.],\n",
      "        [1., 1.]])\n",
      "torch.FloatTensor\n"
     ]
    }
   ],
   "source": [
    "x=x.float()\n",
    "print(x)\n",
    "print(x.type())"
   ]
  },
  {
   "cell_type": "markdown",
   "metadata": {},
   "source": [
    "#### 沿着行取最大值: `torch.max(tensor, dim=)`"
   ]
  },
  {
   "cell_type": "code",
   "execution_count": 37,
   "metadata": {},
   "outputs": [
    {
     "name": "stdout",
     "output_type": "stream",
     "text": [
      "tensor([[ 1.6204, -0.4077, -1.3994],\n",
      "        [-0.8982,  0.4406, -1.8149],\n",
      "        [-0.8666,  1.0114, -0.7348],\n",
      "        [ 2.0932, -2.4719, -0.3610]])\n",
      "tensor([1.6204, 0.4406, 1.0114, 2.0932]) tensor([0, 1, 1, 0])\n"
     ]
    }
   ],
   "source": [
    "x=torch.randn(4,3)\n",
    "print(x)\n",
    "max_value, max_idx=torch.max(x, dim=-1)\n",
    "print(max_value, max_idx)"
   ]
  },
  {
   "cell_type": "markdown",
   "metadata": {},
   "source": [
    "#### 沿着行对`x`求和: `torch.sum(tensor, dim=)`"
   ]
  },
  {
   "cell_type": "code",
   "execution_count": 38,
   "metadata": {},
   "outputs": [
    {
     "name": "stdout",
     "output_type": "stream",
     "text": [
      "tensor([-0.1867, -2.2725, -0.5900, -0.7398])\n"
     ]
    }
   ],
   "source": [
    "sum_x=torch.sum(x,dim=1)\n",
    "print(sum_x)"
   ]
  },
  {
   "cell_type": "markdown",
   "metadata": {},
   "source": [
    "#### 增加维度或者减少维度: `tensor.unsqueeze()`"
   ]
  },
  {
   "cell_type": "code",
   "execution_count": 39,
   "metadata": {},
   "outputs": [
    {
     "name": "stdout",
     "output_type": "stream",
     "text": [
      "torch.Size([4, 3])\n",
      "torch.Size([1, 4, 3])\n"
     ]
    }
   ],
   "source": [
    "print(x.shape)\n",
    "x=x.unsqueeze(0) #在第一维度增加\n",
    "print(x.shape)"
   ]
  },
  {
   "cell_type": "code",
   "execution_count": 40,
   "metadata": {},
   "outputs": [
    {
     "name": "stdout",
     "output_type": "stream",
     "text": [
      "torch.Size([1, 1, 4, 3])\n"
     ]
    }
   ],
   "source": [
    "x=x.unsqueeze(1) #在第二维度增加\n",
    "print(x.shape)"
   ]
  },
  {
   "cell_type": "code",
   "execution_count": 41,
   "metadata": {},
   "outputs": [
    {
     "name": "stdout",
     "output_type": "stream",
     "text": [
      "torch.Size([1, 4, 3])\n"
     ]
    }
   ],
   "source": [
    "x=x.squeeze(0) #减少第一个维度\n",
    "print(x.shape)"
   ]
  },
  {
   "cell_type": "code",
   "execution_count": 43,
   "metadata": {},
   "outputs": [
    {
     "name": "stdout",
     "output_type": "stream",
     "text": [
      "torch.Size([4, 3])\n"
     ]
    }
   ],
   "source": [
    "x=x.squeeze() #将tensor中所有1维都删掉\n",
    "print(x.shape)"
   ]
  },
  {
   "cell_type": "markdown",
   "metadata": {},
   "source": [
    "#### 使用`permute`和`transpose`进行维度交换"
   ]
  },
  {
   "cell_type": "code",
   "execution_count": 44,
   "metadata": {},
   "outputs": [
    {
     "name": "stdout",
     "output_type": "stream",
     "text": [
      "torch.Size([3, 4, 5])\n",
      "torch.Size([4, 3, 5])\n"
     ]
    }
   ],
   "source": [
    "x=torch.randn(3,4,5)\n",
    "print(x.shape)\n",
    "\n",
    "x=x.permute(1,0,2) #将第0维和第1维交换\n",
    "print(x.shape)"
   ]
  },
  {
   "cell_type": "code",
   "execution_count": 45,
   "metadata": {},
   "outputs": [
    {
     "name": "stdout",
     "output_type": "stream",
     "text": [
      "torch.Size([5, 3, 4])\n"
     ]
    }
   ],
   "source": [
    "x=x.transpose(0,2) #将第0维和第2维交换\n",
    "print(x.shape)"
   ]
  },
  {
   "cell_type": "markdown",
   "metadata": {},
   "source": [
    "#### 使用`view`对tensor进行reshape"
   ]
  },
  {
   "cell_type": "code",
   "execution_count": 46,
   "metadata": {},
   "outputs": [
    {
     "name": "stdout",
     "output_type": "stream",
     "text": [
      "torch.Size([3, 4, 5])\n",
      "torch.Size([12, 5])\n",
      "torch.Size([3, 20])\n"
     ]
    }
   ],
   "source": [
    "x=torch.randn(3,4,5)\n",
    "print(x.shape)\n",
    "\n",
    "x=x.view(-1,5)\n",
    "print(x.shape)\n",
    "\n",
    "x=x.view(3,20)\n",
    "print(x.shape)"
   ]
  },
  {
   "cell_type": "markdown",
   "metadata": {},
   "source": [
    "#### 两个tensor求和: `torch.add(tensor1,tensor2)`或者`tensor1+tensor2`"
   ]
  },
  {
   "cell_type": "code",
   "execution_count": 47,
   "metadata": {},
   "outputs": [
    {
     "name": "stdout",
     "output_type": "stream",
     "text": [
      "tensor([[-0.4661,  0.0368, -3.1299, -0.4008],\n",
      "        [ 1.9232, -0.9474,  1.1776,  3.5262],\n",
      "        [-0.3276,  1.3257,  0.6753, -0.8982]])\n",
      "tensor([[-0.4661,  0.0368, -3.1299, -0.4008],\n",
      "        [ 1.9232, -0.9474,  1.1776,  3.5262],\n",
      "        [-0.3276,  1.3257,  0.6753, -0.8982]])\n"
     ]
    }
   ],
   "source": [
    "x=torch.randn(3,4)\n",
    "y=torch.randn(3,4)\n",
    "z1=torch.add(x,y)\n",
    "z2=x+y\n",
    "print(z1)\n",
    "print(z2)"
   ]
  },
  {
   "cell_type": "markdown",
   "metadata": {},
   "source": [
    "#### pytorch大多数操作支持inplace原地操作,也就是直接对tensor进行操作而不需要开辟内存空间,方式非常简单,一般是在操作的符号后面加`_`,比如:\n",
    "- `unsqueeze_(dim)`进行inplace操作:`unsqueeze_`"
   ]
  },
  {
   "cell_type": "code",
   "execution_count": 49,
   "metadata": {},
   "outputs": [
    {
     "name": "stdout",
     "output_type": "stream",
     "text": [
      "torch.Size([3, 3])\n",
      "torch.Size([1, 3, 3])\n"
     ]
    }
   ],
   "source": [
    "x=torch.ones(3,3)\n",
    "print(x.shape)\n",
    "#unsqueeze进行\n",
    "x.unsqueeze_(0)\n",
    "print(x.shape)"
   ]
  },
  {
   "cell_type": "markdown",
   "metadata": {},
   "source": [
    "- `transpose_(dim1,dim2)`进行inplace"
   ]
  },
  {
   "cell_type": "code",
   "execution_count": 50,
   "metadata": {},
   "outputs": [
    {
     "name": "stdout",
     "output_type": "stream",
     "text": [
      "torch.Size([3, 1, 3])\n"
     ]
    }
   ],
   "source": [
    "x.transpose_(1,0)\n",
    "print(x.shape)"
   ]
  },
  {
   "cell_type": "markdown",
   "metadata": {},
   "source": [
    "- `add_(tensor)`进行inplace"
   ]
  },
  {
   "cell_type": "code",
   "execution_count": 54,
   "metadata": {},
   "outputs": [
    {
     "name": "stdout",
     "output_type": "stream",
     "text": [
      "tensor([[1., 1., 1.],\n",
      "        [1., 1., 1.],\n",
      "        [1., 1., 1.]])\n",
      "tensor([[2., 2., 2.],\n",
      "        [2., 2., 2.],\n",
      "        [2., 2., 2.]])\n"
     ]
    }
   ],
   "source": [
    "x=torch.ones(3,3)\n",
    "y=torch.ones(3,3)\n",
    "print(x)\n",
    "\n",
    "x.add_(y)\n",
    "print(x)"
   ]
  },
  {
   "cell_type": "markdown",
   "metadata": {},
   "source": [
    "#### 小练习\n",
    "创建一个float32, 4\\*4的全为1的矩阵, 将矩阵中间2\\*2的矩阵,全部修改为2"
   ]
  },
  {
   "cell_type": "code",
   "execution_count": 26,
   "metadata": {},
   "outputs": [
    {
     "name": "stdout",
     "output_type": "stream",
     "text": [
      "tensor([[1., 1., 1., 1.],\n",
      "        [1., 2., 2., 1.],\n",
      "        [1., 2., 2., 1.],\n",
      "        [1., 1., 1., 1.]])\n"
     ]
    }
   ],
   "source": [
    "x=torch.ones(4,4).float()\n",
    "x[1:3,1:3]=2\n",
    "print(x)"
   ]
  },
  {
   "cell_type": "markdown",
   "metadata": {},
   "source": [
    "#### 小结\n",
    "Pytorch tensor或torch的方法:\n",
    "- `torch.ones(shape)`\n",
    "- `tensor.long()`\n",
    "- `tensor.float()`\n",
    "- `torch.max(tensor,dim)`\n",
    "- `torch.sum(tensor,dim)`\n",
    "- `tensor.unsqueeze(dim).`\n",
    "- `tensor.squeeze(dim)`\n",
    "- `tensor.permute(new_dim)` \n",
    "- `tensor.transpose(dim1,dim2)`\n",
    "- `tensor.view(new_shape)`\n",
    "- `tensor.add(tensor1,tensor2)`\n",
    "- `tensor1+ tensor2`\n",
    "- `tensor.unsqueeze_(dim)`\n",
    "- `tensor.transpose_(dim)`\n",
    "- `tensor_1.add_(tensor_2)`"
   ]
  },
  {
   "cell_type": "markdown",
   "metadata": {},
   "source": [
    "# 二. Variable\n",
    "tensor 是 PyTorch 中的完美组件，但是构建神经网络还远远不够，我们需要能够构建计算图的 tensor，这就是 **Variable**。\n",
    "\n",
    "Variable 是对 tensor 的封装，操作和 tensor 是一样的，但是每个 Variabel都有三个属性:\n",
    "- Variable 中的 tensor本身`.data`，\n",
    "- 对应 tensor 的梯度`.grad`\n",
    "- Variable 是通过什么方式得到的`.grad_fn`\n",
    "\n",
    "注意: Variable(tensor)返回的依然是tensor类型.换句话说,tensor本身就带有`.data`,`.grad`,`grad_fn`三个属性."
   ]
  },
  {
   "cell_type": "markdown",
   "metadata": {},
   "source": [
    "#### 导入Variable"
   ]
  },
  {
   "cell_type": "code",
   "execution_count": 17,
   "metadata": {},
   "outputs": [],
   "source": [
    "from torch.autograd import Variable"
   ]
  },
  {
   "cell_type": "markdown",
   "metadata": {},
   "source": [
    "#### 将tensor变成Variable"
   ]
  },
  {
   "cell_type": "code",
   "execution_count": 27,
   "metadata": {},
   "outputs": [],
   "source": [
    "x_tensor=torch.randn(2,3)\n",
    "y_tensor=torch.randn(2,3)\n",
    "\n",
    "x=Variable(x_tensor, requires_grad=True) #默认Variable是不需要求梯度的, 所以我们需要用这个方式申明需要对其进行求梯度\n",
    "y=Variable(y_tensor, requires_grad=True)"
   ]
  },
  {
   "cell_type": "markdown",
   "metadata": {},
   "source": [
    "#### 得到Variable的数值及获得方式: `tensor.data`,`tensor.grad_fn`"
   ]
  },
  {
   "cell_type": "code",
   "execution_count": 30,
   "metadata": {},
   "outputs": [
    {
     "name": "stdout",
     "output_type": "stream",
     "text": [
      "tensor(-0.5982)\n",
      "<SumBackward0 object at 0x000001CC9270C828>\n",
      "tensor([[-2.1567, -1.9161,  1.4580],\n",
      "        [ 0.5328,  0.1171,  1.3667]])\n",
      "<class 'torch.Tensor'>\n"
     ]
    }
   ],
   "source": [
    "z=torch.sum(x+y) #不指定dim就把所有元素相加\n",
    "z1=x+y\n",
    "\n",
    "print(z.data)\n",
    "print(z.grad_fn)\n",
    "print(z1.data)\n",
    "print(type(z1))"
   ]
  },
  {
   "cell_type": "markdown",
   "metadata": {},
   "source": [
    "#### 得到Variable的梯度: `variable.grad`"
   ]
  },
  {
   "cell_type": "code",
   "execution_count": 31,
   "metadata": {},
   "outputs": [
    {
     "name": "stdout",
     "output_type": "stream",
     "text": [
      "tensor([[-0.1281, -0.2999,  1.1750],\n",
      "        [-1.0195, -0.2167,  1.0767]])\n",
      "tensor([[-2.0285, -1.6163,  0.2830],\n",
      "        [ 1.5523,  0.3337,  0.2900]])\n",
      "tensor([[1., 1., 1.],\n",
      "        [1., 1., 1.]])\n",
      "tensor([[1., 1., 1.],\n",
      "        [1., 1., 1.]])\n"
     ]
    }
   ],
   "source": [
    "#求x和y的梯度\n",
    "z.backward()\n",
    "\n",
    "print(x.data)\n",
    "print(y.data)\n",
    "print(x.grad)\n",
    "print(y.grad)"
   ]
  },
  {
   "cell_type": "markdown",
   "metadata": {},
   "source": [
    "#### 小练习\n",
    "尝试构建一个函数 $y=x^2$,然后求$x=2$的导数"
   ]
  },
  {
   "cell_type": "code",
   "execution_count": 67,
   "metadata": {},
   "outputs": [
    {
     "data": {
      "image/png": "[encoded data removed]",
      "text/plain": [
       "<Figure size 432x288 with 1 Axes>"
      ]
     },
     "metadata": {},
     "output_type": "display_data"
    }
   ],
   "source": [
    "import matplotlib.pyplot as plt\n",
    "x=np.arange(-3,3.01,0.1)\n",
    "y=x**2\n",
    "plt.plot(x,y)\n",
    "plt.plot(2,4,'ro')\n",
    "plt.show()"
   ]
  },
  {
   "cell_type": "markdown",
   "metadata": {},
   "source": [
    "**答案**:"
   ]
  },
  {
   "cell_type": "code",
   "execution_count": 68,
   "metadata": {},
   "outputs": [
    {
     "name": "stdout",
     "output_type": "stream",
     "text": [
      "tensor([4.])\n"
     ]
    }
   ],
   "source": [
    "x=Variable(torch.FloatTensor([2]),requires_grad=True)\n",
    "y=x**2\n",
    "y.backward()\n",
    "print(x.grad)"
   ]
  },
  {
   "cell_type": "code",
   "execution_count": null,
   "metadata": {},
   "outputs": [],
   "source": []
  }
 ],
 "metadata": {
  "kernelspec": {
   "display_name": "Python 3",
   "language": "python",
   "name": "python3"
  },
  "language_info": {
   "codemirror_mode": {
    "name": "ipython",
    "version": 3
   },
   "file_extension": ".py",
   "mimetype": "text/x-python",
   "name": "python",
   "nbconvert_exporter": "python",
   "pygments_lexer": "ipython3",
   "version": "3.6.5"
  }
 },
 "nbformat": 4,
 "nbformat_minor": 2
}
