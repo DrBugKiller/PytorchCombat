{
 "cells": [
  {
   "cell_type": "markdown",
   "metadata": {},
   "source": [
    "# RNN做图像分类"
   ]
  },
  {
   "cell_type": "code",
   "execution_count": 11,
   "metadata": {},
   "outputs": [],
   "source": [
    "import sys\n",
    "sys.path.append('..')\n",
    "sys.path.append('../4-CNN')#把4-CNN中的utils加入环境变量\n",
    "import torch\n",
    "from torch.autograd import Variable\n",
    "from torch import nn\n",
    "from torch.utils.data import DataLoader\n",
    "from torchvision import transforms as tfs\n",
    "from torchvision.datasets import MNIST"
   ]
  },
  {
   "cell_type": "code",
   "execution_count": 3,
   "metadata": {},
   "outputs": [],
   "source": [
    "data_tf=tfs.Compose([tfs.ToTensor(),\n",
    "                    tfs.Normalize([0.5],[0.5])])\n",
    "train_set=MNIST('../data',train=True,transform=data_tf)\n",
    "test_set=MNIST('../data',train=False,transform=data_tf)\n",
    "train_data=DataLoader(train_set,64,True,num_workers=2)\n",
    "test_data=DataLoader(test_set,128,False,num_workers=2)"
   ]
  },
  {
   "cell_type": "code",
   "execution_count": 15,
   "metadata": {},
   "outputs": [],
   "source": [
    "#定义模型\n",
    "class rnn_classify(nn.Module):\n",
    "    def __init__(self,in_feature=28,hidden_feature=100,num_class=10,num_layers=2):\n",
    "        super(rnn_classify,self).__init__()\n",
    "        self.rnn=nn.LSTM(in_feature,hidden_feature,num_layers)#使用两层lstm\n",
    "        self.classifier=nn.Linear(hidden_feature,num_layers)\n",
    "    def forward(self,x):\n",
    "        x=x.squeeze()# 去掉 (batch, 1, 28, 28) 中的 1，变成 (batch, 28, 28)\n",
    "        x=x.permute(2,0,1) #注意,只要使用rnn,就必须有这一步.(28,batch,28)\n",
    "        out,_=self.rnn(x) #使用默认的初始隐藏状态,得到的out是[28, batch, hidden_feature]\n",
    "        out=out[-1,:,:] # 取序列中的最后一个，大小是 (batch, hidden_feature)\n",
    "        out=self.classifier(out)# 得到分类结果\n",
    "        return out"
   ]
  },
  {
   "cell_type": "code",
   "execution_count": 16,
   "metadata": {},
   "outputs": [],
   "source": [
    "net=rnn_classify()\n",
    "criterion=nn.CrossEntropyLoss()\n",
    "optimizer=torch.optim.SGD(net.parameters(),lr=1e-1,weight_decay=1e-4)"
   ]
  },
  {
   "cell_type": "code",
   "execution_count": 17,
   "metadata": {},
   "outputs": [
    {
     "name": "stdout",
     "output_type": "stream",
     "text": [
      "Epoch 0. Train Loss: 0.661712, Train Acc: 0.162713, Valid Loss: 0.489222, Valid Acc: 0.205597, Time 00:00:07\n",
      "Epoch 1. Train Loss: 0.637440, Train Acc: 0.200843, Valid Loss: 0.485146, Valid Acc: 0.207872, Time 00:00:07\n",
      "Epoch 2. Train Loss: 0.634826, Train Acc: 0.204824, Valid Loss: 0.475037, Valid Acc: 0.209059, Time 00:00:07\n",
      "Epoch 3. Train Loss: 0.629538, Train Acc: 0.207856, Valid Loss: 0.472900, Valid Acc: 0.210344, Time 00:00:07\n",
      "Epoch 4. Train Loss: 0.626713, Train Acc: 0.208872, Valid Loss: 0.476694, Valid Acc: 0.210146, Time 00:00:07\n",
      "Epoch 5. Train Loss: 0.622990, Train Acc: 0.209488, Valid Loss: 0.469965, Valid Acc: 0.210443, Time 00:00:07\n",
      "Epoch 6. Train Loss: 0.621490, Train Acc: 0.209638, Valid Loss: 0.467361, Valid Acc: 0.210344, Time 00:00:07\n",
      "Epoch 7. Train Loss: 0.619461, Train Acc: 0.209855, Valid Loss: 0.468658, Valid Acc: 0.209850, Time 00:00:07\n",
      "Epoch 8. Train Loss: 0.618508, Train Acc: 0.209838, Valid Loss: 0.464815, Valid Acc: 0.210542, Time 00:00:07\n",
      "Epoch 9. Train Loss: 0.615037, Train Acc: 0.209755, Valid Loss: 0.464367, Valid Acc: 0.210542, Time 00:00:07\n"
     ]
    }
   ],
   "source": [
    "from utils import train\n",
    "train(net,train_data,test_data,10,optimizer,criterion)"
   ]
  },
  {
   "cell_type": "code",
   "execution_count": null,
   "metadata": {},
   "outputs": [],
   "source": []
  }
 ],
 "metadata": {
  "kernelspec": {
   "display_name": "Python 3",
   "language": "python",
   "name": "python3"
  },
  "language_info": {
   "codemirror_mode": {
    "name": "ipython",
    "version": 3
   },
   "file_extension": ".py",
   "mimetype": "text/x-python",
   "name": "python",
   "nbconvert_exporter": "python",
   "pygments_lexer": "ipython3",
   "version": "3.6.5"
  }
 },
 "nbformat": 4,
 "nbformat_minor": 2
}
