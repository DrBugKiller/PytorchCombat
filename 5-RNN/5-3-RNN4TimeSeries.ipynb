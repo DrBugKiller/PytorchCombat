{
 "cells": [
  {
   "cell_type": "markdown",
   "metadata": {},
   "source": [
    "# RNN用于时间序列的分析"
   ]
  },
  {
   "cell_type": "code",
   "execution_count": 2,
   "metadata": {},
   "outputs": [],
   "source": [
    "import numpy as np\n",
    "import pandas as pd\n",
    "import matplotlib.pyplot as plt"
   ]
  },
  {
   "cell_type": "code",
   "execution_count": 3,
   "metadata": {},
   "outputs": [],
   "source": [
    "data_csv=pd.read_csv('./data.csv',usecols=[1])\n",
    "data_csv2=pd.read_csv('./data.csv')"
   ]
  },
  {
   "cell_type": "code",
   "execution_count": 7,
   "metadata": {},
   "outputs": [
    {
     "name": "stdout",
     "output_type": "stream",
     "text": [
      "Index(['Month', 'International airline passengers: monthly totals in thousands. Jan 49 ? Dec 60'], dtype='object')\n"
     ]
    }
   ],
   "source": [
    "# print(data_csv)\n",
    "print(data_csv2.columns)\n",
    "# plt.plot(data_csv)"
   ]
  },
  {
   "cell_type": "code",
   "execution_count": 43,
   "metadata": {},
   "outputs": [],
   "source": [
    "#首先我们进行预处理，将数据中 na 的数据去掉，然后将数据标准化到 0 ~ 1 之间。\n",
    "data_csv=data_csv.dropna()\n",
    "dataset=data_csv.values #[[num1][num2]...]是numpy类型\n",
    "dataset=dataset.astype('float32')\n",
    "max_value=np.max(dataset)\n",
    "min_value=np.min(dataset)\n",
    "scalar=max_value-min_value\n",
    "dataset=list(map(lambda x:x/scalar, dataset))"
   ]
  },
  {
   "cell_type": "code",
   "execution_count": 44,
   "metadata": {},
   "outputs": [
    {
     "name": "stdout",
     "output_type": "stream",
     "text": [
      "[array([0.21621622], dtype=float32), array([0.22779922], dtype=float32), array([0.25482625], dtype=float32), array([0.24903475], dtype=float32), array([0.23359074], dtype=float32), array([0.26061776], dtype=float32), array([0.2857143], dtype=float32), array([0.2857143], dtype=float32), array([0.26254827], dtype=float32), array([0.22972973], dtype=float32), array([0.2007722], dtype=float32), array([0.22779922], dtype=float32), array([0.22200772], dtype=float32), array([0.24324325], dtype=float32), array([0.27220076], dtype=float32), array([0.26061776], dtype=float32), array([0.24131274], dtype=float32), array([0.28764477], dtype=float32), array([0.32818532], dtype=float32), array([0.32818532], dtype=float32), array([0.30501932], dtype=float32), array([0.25675675], dtype=float32), array([0.22007722], dtype=float32), array([0.27027026], dtype=float32), array([0.27992278], dtype=float32), array([0.28957528], dtype=float32), array([0.34362933], dtype=float32), array([0.3146718], dtype=float32), array([0.33204633], dtype=float32), array([0.34362933], dtype=float32), array([0.38416988], dtype=float32), array([0.38416988], dtype=float32), array([0.35521236], dtype=float32), array([0.3127413], dtype=float32), array([0.2818533], dtype=float32), array([0.32046333], dtype=float32), array([0.33011582], dtype=float32), array([0.34749034], dtype=float32), array([0.37258688], dtype=float32), array([0.34942085], dtype=float32), array([0.35328186], dtype=float32), array([0.4208494], dtype=float32), array([0.44401544], dtype=float32), array([0.46718147], dtype=float32), array([0.4034749], dtype=float32), array([0.36872587], dtype=float32), array([0.33204633], dtype=float32), array([0.37451738], dtype=float32), array([0.3783784], dtype=float32), array([0.3783784], dtype=float32), array([0.45559844], dtype=float32), array([0.45366797], dtype=float32), array([0.44208494], dtype=float32), array([0.46911198], dtype=float32), array([0.5096525], dtype=float32), array([0.52509654], dtype=float32), array([0.45752895], dtype=float32), array([0.4073359], dtype=float32), array([0.34749034], dtype=float32), array([0.3880309], dtype=float32), array([0.3938224], dtype=float32), array([0.36293435], dtype=float32), array([0.45366797], dtype=float32), array([0.43822393], dtype=float32), array([0.45173746], dtype=float32), array([0.5096525], dtype=float32), array([0.58301157], dtype=float32), array([0.56563705], dtype=float32), array([0.5], dtype=float32), array([0.44208494], dtype=float32), array([0.3918919], dtype=float32), array([0.44208494], dtype=float32), array([0.46718147], dtype=float32), array([0.44980696], dtype=float32), array([0.51544404], dtype=float32), array([0.519305], dtype=float32), array([0.5212355], dtype=float32), array([0.6081081], dtype=float32), array([0.7027027], dtype=float32), array([0.66988415], dtype=float32), array([0.6023166], dtype=float32), array([0.52895755], dtype=float32), array([0.45752895], dtype=float32), array([0.53667957], dtype=float32), array([0.54826254], dtype=float32), array([0.53474903], dtype=float32), array([0.6119691], dtype=float32), array([0.6042471], dtype=float32), array([0.6138996], dtype=float32), array([0.72200775], dtype=float32), array([0.7972973], dtype=float32), array([0.78185326], dtype=float32), array([0.6853282], dtype=float32), array([0.5907336], dtype=float32), array([0.523166], dtype=float32), array([0.5907336], dtype=float32), array([0.6081081], dtype=float32), array([0.5810811], dtype=float32), array([0.68725866], dtype=float32), array([0.6718147], dtype=float32), array([0.6853282], dtype=float32), array([0.8146718], dtype=float32), array([0.8976834], dtype=float32), array([0.9015444], dtype=float32), array([0.7799228], dtype=float32), array([0.66988415], dtype=float32), array([0.5888031], dtype=float32), array([0.6486486], dtype=float32), array([0.65637064], dtype=float32), array([0.6138996], dtype=float32), array([0.6988417], dtype=float32), array([0.6718147], dtype=float32), array([0.7007722], dtype=float32), array([0.83976835], dtype=float32), array([0.94787645], dtype=float32), array([0.97490346], dtype=float32), array([0.7799228], dtype=float32), array([0.6930502], dtype=float32), array([0.5984556], dtype=float32), array([0.65057915], dtype=float32), array([0.6949807], dtype=float32), array([0.66023165], dtype=float32), array([0.7837838], dtype=float32), array([0.76447874], dtype=float32), array([0.8108108], dtype=float32), array([0.9111969], dtype=float32), array([1.0579151], dtype=float32), array([1.0791506], dtype=float32), array([0.8938224], dtype=float32), array([0.78571427], dtype=float32), array([0.6988417], dtype=float32), array([0.78185326], dtype=float32), array([0.8050193], dtype=float32), array([0.75482625], dtype=float32), array([0.8088803], dtype=float32), array([0.88996136], dtype=float32), array([0.9111969], dtype=float32), array([1.0328186], dtype=float32), array([1.2007722], dtype=float32), array([1.1698842], dtype=float32), array([0.980695], dtype=float32), array([0.88996136], dtype=float32), array([0.7528958], dtype=float32), array([0.8339768], dtype=float32)]\n"
     ]
    }
   ],
   "source": [
    "print(dataset)"
   ]
  },
  {
   "cell_type": "code",
   "execution_count": 45,
   "metadata": {},
   "outputs": [],
   "source": [
    "def create_dataset(dataset,look_back=2):\n",
    "    dataX,dataY=[],[]\n",
    "    for i in range(len(dataset)-look_back):\n",
    "        a=dataset[i:(i+look_back)]\n",
    "        dataX.append(a)\n",
    "        dataY.append(dataset[i+look_back])\n",
    "    return np.array(dataX),np.array(dataY)"
   ]
  },
  {
   "cell_type": "code",
   "execution_count": 46,
   "metadata": {},
   "outputs": [],
   "source": [
    "data_X,data_Y=create_dataset(dataset)"
   ]
  },
  {
   "cell_type": "code",
   "execution_count": 47,
   "metadata": {},
   "outputs": [],
   "source": [
    "# 划分训练集和测试集，70% 作为训练集\n",
    "train_size=int(len(data_X)*0.7)\n",
    "test_size=len(data_X)-train_size\n",
    "train_X=data_X[:train_size]\n",
    "train_Y=data_Y[:train_size]\n",
    "test_X=data_X[train_size:]\n",
    "test_Y=data_Y[train_size:]"
   ]
  },
  {
   "cell_type": "code",
   "execution_count": 48,
   "metadata": {},
   "outputs": [],
   "source": [
    "#最后，我们需要将数据改变一下形状，因为 RNN 读入的数据维度是 (seq, batch, feature)，所以要重新改变一下数据的维度.\n",
    "#这里只有一个序列，所以 batch 是 1，而输入的 feature 就是我们希望依据的几个月份，这里我们定的是两个月份，所以 feature 就是 2.\n",
    "import torch\n",
    "train_X=train_X.reshape(-1,1,2)\n",
    "train_Y=train_Y.reshape(-1,1,1)\n",
    "test_X=test_X.reshape(-1,1,2)\n",
    "\n",
    "train_x=torch.from_numpy(train_X)\n",
    "train_y = torch.from_numpy(train_Y)\n",
    "test_x = torch.from_numpy(test_X)"
   ]
  },
  {
   "cell_type": "code",
   "execution_count": 49,
   "metadata": {},
   "outputs": [
    {
     "name": "stdout",
     "output_type": "stream",
     "text": [
      "(99, 1, 2)\n",
      "(99, 1, 1)\n"
     ]
    }
   ],
   "source": [
    "print(train_X.shape)\n",
    "print(train_Y.shape)"
   ]
  },
  {
   "cell_type": "code",
   "execution_count": 50,
   "metadata": {},
   "outputs": [],
   "source": [
    "from torch import nn\n",
    "from torch.autograd import Variable"
   ]
  },
  {
   "cell_type": "code",
   "execution_count": 51,
   "metadata": {},
   "outputs": [],
   "source": [
    "class lstm_reg(nn.Module):\n",
    "    def __init__(self,input_size,hidden_size,output_size=1,num_layers=2):\n",
    "        super(lstm_reg,self).__init__()\n",
    "        self.rnn=nn.LSTM(input_size,hidden_size,num_layers)#rnn\n",
    "        self.reg=nn.Linear(hidden_size,output_size) # 回归\n",
    "    def forward(self,x):\n",
    "        x,_=self.rnn(x)\n",
    "        s,b,h=x.shape\n",
    "        x=x.view(s*b,h)#tensor.view()是reshape的作用\n",
    "        x=self.reg(x)\n",
    "        x=x.view(s,b,-1)\n",
    "        return x"
   ]
  },
  {
   "cell_type": "code",
   "execution_count": 52,
   "metadata": {},
   "outputs": [],
   "source": [
    "net=lstm_reg(2,4)\n",
    "criterion=nn.MSELoss()\n",
    "optimizer=torch.optim.Adam(net.parameters(),lr=1e-2)"
   ]
  },
  {
   "cell_type": "code",
   "execution_count": 53,
   "metadata": {},
   "outputs": [
    {
     "name": "stdout",
     "output_type": "stream",
     "text": [
      "Epoch:100,Loss:0.00407\n",
      "Epoch:200,Loss:0.00390\n",
      "Epoch:300,Loss:0.00373\n",
      "Epoch:400,Loss:0.00350\n",
      "Epoch:500,Loss:0.00316\n",
      "Epoch:600,Loss:0.00281\n",
      "Epoch:700,Loss:0.00194\n",
      "Epoch:800,Loss:0.00125\n",
      "Epoch:900,Loss:0.00112\n",
      "Epoch:1000,Loss:0.00123\n"
     ]
    }
   ],
   "source": [
    "#定义好网络结构，输入的维度是 2，因为我们使用两个月的流量作为输入，隐藏层的维度可以任意指定，这里我们选的 4\n",
    "for e in range(1000):\n",
    "    var_x=Variable(train_x)\n",
    "    var_y=Variable(train_y)\n",
    "    #前向传播\n",
    "    out=net(var_x)\n",
    "    loss=criterion(out,var_y)\n",
    "    optimizer.zero_grad()\n",
    "    loss.backward()\n",
    "    optimizer.step()\n",
    "    if (e+1)%100==0:\n",
    "        print('Epoch:{},Loss:{:.5f}'.format(e+1,loss.item()))"
   ]
  },
  {
   "cell_type": "code",
   "execution_count": 54,
   "metadata": {},
   "outputs": [],
   "source": [
    "net=net.eval()"
   ]
  },
  {
   "cell_type": "code",
   "execution_count": 55,
   "metadata": {},
   "outputs": [],
   "source": [
    "data_X=data_X.reshape(-1,1,2)\n",
    "data_X=torch.from_numpy(data_X)\n",
    "var_data=Variable(data_X)\n",
    "pred_test=net(var_data)"
   ]
  },
  {
   "cell_type": "code",
   "execution_count": 56,
   "metadata": {},
   "outputs": [
    {
     "data": {
      "text/plain": [
       "<matplotlib.legend.Legend at 0x1f446a649b0>"
      ]
     },
     "execution_count": 56,
     "metadata": {},
     "output_type": "execute_result"
    },
    {
     "data": {
      "image/png": "[encoded data removed]",
      "text/plain": [
       "<Figure size 432x288 with 1 Axes>"
      ]
     },
     "metadata": {},
     "output_type": "display_data"
    }
   ],
   "source": [
    "# 改变输出的格式\n",
    "pred_test = pred_test.view(-1).data.numpy()\n",
    "# 画出实际结果和预测的结果\n",
    "plt.plot(pred_test, 'r', label='prediction')\n",
    "plt.plot(dataset, 'b', label='real')\n",
    "plt.legend(loc='best')"
   ]
  },
  {
   "cell_type": "markdown",
   "metadata": {},
   "source": [
    "### 小结:\n",
    "- `tensor=tensor.view(new_shape)`:相当于tensorflow中的tensor.reshape()\n",
    "- `pandas.read_csv(file)`:返回一个DataFrame的对象\n",
    "- `csvObject.columns`:dataFrame查看字段名称\n",
    "- `csvObject['column']`:查看某个字段"
   ]
  },
  {
   "cell_type": "code",
   "execution_count": null,
   "metadata": {},
   "outputs": [],
   "source": []
  }
 ],
 "metadata": {
  "kernelspec": {
   "display_name": "Python 3",
   "language": "python",
   "name": "python3"
  },
  "language_info": {
   "codemirror_mode": {
    "name": "ipython",
    "version": 3
   },
   "file_extension": ".py",
   "mimetype": "text/x-python",
   "name": "python",
   "nbconvert_exporter": "python",
   "pygments_lexer": "ipython3",
   "version": "3.6.5"
  }
 },
 "nbformat": 4,
 "nbformat_minor": 2
}
