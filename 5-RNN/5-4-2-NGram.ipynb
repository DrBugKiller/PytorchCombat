{
 "cells": [
  {
   "cell_type": "markdown",
   "metadata": {},
   "source": [
    "# N-Gram 模型\n",
    "上一节课，我们讲了词嵌入以及词嵌入是如何得到的，现在我们来讲讲词嵌入如何来训练语言模型，首先我们介绍一下 N-Gram 模型的原理和其要解决的问题。\n",
    "\n",
    "对于一句话，单词的排列顺序是非常重要的，所以我们能否由前面的几个词来预测后面的几个单词呢，比如 'I lived in France for 10 years, I can speak _' 这句话中，我们能够预测出最后一个词是 French。\n",
    "\n",
    "对于一句话 T，其由 $w_1, w_2, \\cdots, w_n$ 这 n 个词构成，\n",
    "\n",
    "$$\n",
    "P(T) = P(w_1)P(w_2 | w_1)P(w_3 |w_2 w_1) \\cdots P(w_n |w_{n-1} w_{n-2}\\cdots w_2w_1)\n",
    "$$\n",
    "\n",
    "我们可以再简化一下这个模型，比如对于一个词，它并不需要前面所有的词作为条件概率，也就是说一个词可以只与其前面的几个词有关，这就是马尔科夫假设。\n",
    "\n",
    "对于这里的条件概率，传统的方法是统计语料中每个词出现的频率，根据贝叶斯定理来估计这个条件概率，这里我们就可以用词嵌入对其进行代替，然后使用 RNN 进行条件概率的计算，然后最大化这个条件概率不仅修改词嵌入，同时能够使得模型可以依据计算的条件概率对其中的一个单词进行预测。\n",
    "\n",
    "下面我们直接用代码进行说明"
   ]
  },
  {
   "cell_type": "code",
   "execution_count": 2,
   "metadata": {},
   "outputs": [],
   "source": [
    "CONTEXT_SIZE = 2 # 依据的单词数\n",
    "EMBEDDING_DIM = 10 # 词向量的维度\n",
    "# 我们使用莎士比亚的诗\n",
    "test_sentence = \"\"\"When forty winters shall besiege thy brow,\n",
    "And dig deep trenches in thy beauty's field,\n",
    "Thy youth's proud livery so gazed on now,\n",
    "Will be a totter'd weed of small worth held:\n",
    "Then being asked, where all thy beauty lies,\n",
    "Where all the treasure of thy lusty days;\n",
    "To say, within thine own deep sunken eyes,\n",
    "Were an all-eating shame, and thriftless praise.\n",
    "How much more praise deserv'd thy beauty's use,\n",
    "If thou couldst answer 'This fair child of mine\n",
    "Shall sum my count, and make my old excuse,'\n",
    "Proving his beauty by succession thine!\n",
    "This were to be new made when thou art old,\n",
    "And see thy blood warm when thou feel'st it cold.\"\"\".split()"
   ]
  },
  {
   "cell_type": "markdown",
   "metadata": {},
   "source": [
    "这里的 `CONTEXT_SIZE` 表示我们希望由前面几个单词来预测这个单词，这里使用两个单词，`EMBEDDING_DIM` 表示词嵌入的维度。\n",
    "\n",
    "接着我们建立训练集，便利整个语料库，将单词三个分组，前面两个作为输入，最后一个作为预测的结果。"
   ]
  },
  {
   "cell_type": "code",
   "execution_count": 3,
   "metadata": {},
   "outputs": [],
   "source": [
    "trigram=[((test_sentence[i],test_sentence[i+1]),test_sentence[i+2]) for i in range(len(test_sentence)-2)]"
   ]
  },
  {
   "cell_type": "code",
   "execution_count": 6,
   "metadata": {},
   "outputs": [
    {
     "name": "stdout",
     "output_type": "stream",
     "text": [
      "113\n",
      "(('When', 'forty'), 'winters')\n"
     ]
    }
   ],
   "source": [
    "#总的数据量\n",
    "print(len(trigram))\n",
    "# 取出第一个数据看看\n",
    "print(trigram[0])"
   ]
  },
  {
   "cell_type": "code",
   "execution_count": 7,
   "metadata": {},
   "outputs": [
    {
     "name": "stdout",
     "output_type": "stream",
     "text": [
      "{\"feel'st\": 0, 'Were': 1, 'beauty': 2, 'livery': 3, 'Thy': 4, 'Proving': 5, 'see': 6, 'sunken': 7, 'make': 8, 'old': 9, 'his': 10, 'besiege': 11, 'brow,': 12, 'thriftless': 13, 'thine!': 14, 'When': 15, 'field,': 16, 'within': 17, 'be': 18, 'were': 19, 'my': 20, 'lies,': 21, 'made': 22, 'count,': 23, \"'This\": 24, 'thy': 25, 'This': 26, 'proud': 27, 'eyes,': 28, 'mine': 29, 'all-eating': 30, 'How': 31, 'dig': 32, 'say,': 33, 'worth': 34, 'more': 35, 'succession': 36, 'And': 37, 'praise': 38, 'now,': 39, 'small': 40, 'sum': 41, 'a': 42, 'gazed': 43, 'To': 44, 'weed': 45, 'lusty': 46, \"totter'd\": 47, 'shall': 48, 'days;': 49, 'forty': 50, 'Will': 51, 'treasure': 52, 'an': 53, 'when': 54, 'thou': 55, 'so': 56, 'old,': 57, 'shame,': 58, 'by': 59, 'and': 60, \"beauty's\": 61, 'of': 62, 'fair': 63, 'held:': 64, 'winters': 65, 'answer': 66, 'thine': 67, 'warm': 68, 'use,': 69, \"youth's\": 70, 'cold.': 71, 'trenches': 72, 'couldst': 73, 'in': 74, 'art': 75, 'blood': 76, 'Shall': 77, 'praise.': 78, 'being': 79, 'much': 80, 'asked,': 81, 'the': 82, \"deserv'd\": 83, 'Where': 84, 'to': 85, \"excuse,'\": 86, 'own': 87, 'where': 88, 'Then': 89, 'all': 90, 'deep': 91, 'If': 92, 'it': 93, 'child': 94, 'new': 95, 'on': 96}\n",
      "{0: \"feel'st\", 1: 'Were', 2: 'beauty', 3: 'livery', 4: 'Thy', 5: 'Proving', 6: 'see', 7: 'sunken', 8: 'make', 9: 'old', 10: 'his', 11: 'besiege', 12: 'brow,', 13: 'thriftless', 14: 'thine!', 15: 'When', 16: 'field,', 17: 'within', 18: 'be', 19: 'were', 20: 'my', 21: 'lies,', 22: 'made', 23: 'count,', 24: \"'This\", 25: 'thy', 26: 'This', 27: 'proud', 28: 'eyes,', 29: 'mine', 30: 'all-eating', 31: 'How', 32: 'dig', 33: 'say,', 34: 'worth', 35: 'more', 36: 'succession', 37: 'And', 38: 'praise', 39: 'now,', 40: 'small', 41: 'sum', 42: 'a', 43: 'gazed', 44: 'To', 45: 'weed', 46: 'lusty', 47: \"totter'd\", 48: 'shall', 49: 'days;', 50: 'forty', 51: 'Will', 52: 'treasure', 53: 'an', 54: 'when', 55: 'thou', 56: 'so', 57: 'old,', 58: 'shame,', 59: 'by', 60: 'and', 61: \"beauty's\", 62: 'of', 63: 'fair', 64: 'held:', 65: 'winters', 66: 'answer', 67: 'thine', 68: 'warm', 69: 'use,', 70: \"youth's\", 71: 'cold.', 72: 'trenches', 73: 'couldst', 74: 'in', 75: 'art', 76: 'blood', 77: 'Shall', 78: 'praise.', 79: 'being', 80: 'much', 81: 'asked,', 82: 'the', 83: \"deserv'd\", 84: 'Where', 85: 'to', 86: \"excuse,'\", 87: 'own', 88: 'where', 89: 'Then', 90: 'all', 91: 'deep', 92: 'If', 93: 'it', 94: 'child', 95: 'new', 96: 'on'}\n"
     ]
    }
   ],
   "source": [
    "#建立词典\n",
    "vocab=set(test_sentence)\n",
    "word_to_idx={word:i for i,word in enumerate(vocab)}\n",
    "idx_to_word=dict(zip(word_to_idx.values(),word_to_idx.keys()))\n",
    "\n",
    "print(word_to_idx)\n",
    "print(idx_to_word)"
   ]
  },
  {
   "cell_type": "code",
   "execution_count": 8,
   "metadata": {},
   "outputs": [],
   "source": [
    "import torch\n",
    "from torch.autograd import Variable\n",
    "import torch.nn.functional as F\n",
    "from torch import nn"
   ]
  },
  {
   "cell_type": "code",
   "execution_count": 20,
   "metadata": {},
   "outputs": [],
   "source": [
    "class n_gram(nn.Module):\n",
    "    def __init__(self,vocab_size,context_size=CONTEXT_SIZE,n_dim=EMBEDDING_DIM):\n",
    "        super(n_gram,self).__init__()\n",
    "        self.embed=nn.Embedding(vocab_size,n_dim)#构建embeddingTable\n",
    "        self.classify=nn.Sequential(nn.Linear(context_size*n_dim,128),\n",
    "                                   nn.ReLU(),\n",
    "                                   nn.Linear(128,vocab_size))\n",
    "    def forward(self,x):\n",
    "        voc_embed=self.embed(x)#voc_embed shape=[context,n_dim],[2,10]\n",
    "        voc_embed=voc_embed.view(1,-1)# 将两个词向量拼在一起,[1,20]\n",
    "        out=self.classify(voc_embed)\n",
    "        return out"
   ]
  },
  {
   "cell_type": "code",
   "execution_count": 21,
   "metadata": {},
   "outputs": [],
   "source": [
    "net = n_gram(len(word_to_idx))\n",
    "\n",
    "criterion = nn.CrossEntropyLoss()\n",
    "optimizer = torch.optim.SGD(net.parameters(), lr=1e-2, weight_decay=1e-5)#用的是l2正则"
   ]
  },
  {
   "cell_type": "code",
   "execution_count": 22,
   "metadata": {},
   "outputs": [
    {
     "name": "stdout",
     "output_type": "stream",
     "text": [
      "epoch: 20, Loss: 0.757198\n",
      "epoch: 40, Loss: 0.143966\n",
      "epoch: 60, Loss: 0.095272\n",
      "epoch: 80, Loss: 0.078094\n",
      "epoch: 100, Loss: 0.068487\n"
     ]
    }
   ],
   "source": [
    "for e in range(100):\n",
    "    train_loss=0\n",
    "    for word,label in trigram:\n",
    "        word=Variable(torch.LongTensor([word_to_idx[i] for i in word]))\n",
    "        label=Variable(torch.LongTensor([word_to_idx[label]]))\n",
    "        #前向传播\n",
    "        out=net(word)\n",
    "        loss=criterion(out,label)\n",
    "        train_loss+=loss.item()\n",
    "        \n",
    "        optimizer.zero_grad()\n",
    "        loss.backward()\n",
    "        optimizer.step()\n",
    "    if (e + 1) % 20 == 0:\n",
    "        print('epoch: {}, Loss: {:.6f}'.format(e + 1, train_loss / len(trigram)))"
   ]
  },
  {
   "cell_type": "code",
   "execution_count": 32,
   "metadata": {},
   "outputs": [
    {
     "name": "stdout",
     "output_type": "stream",
     "text": [
      "input: ('so', 'gazed')\n",
      "label: on\n",
      "real word is on, predicted word is on\n"
     ]
    }
   ],
   "source": [
    "net = net.eval()\n",
    "\n",
    "# 测试一下结果\n",
    "word, label = trigram[19]\n",
    "print('input: {}'.format(word))\n",
    "print('label: {}'.format(label))\n",
    "word = Variable(torch.LongTensor([word_to_idx[i] for i in word]))\n",
    "out = net(word)\n",
    "\n",
    "pred_label_prob,pred_label_idx = out.max(1)# tensor.max(dim=1)返回的有两个值,一个是具体value,一个是index\n",
    "\n",
    "predict_word = idx_to_word[pred_label_idx.item()]\n",
    "print('real word is {}, predicted word is {}'.format(label, predict_word))"
   ]
  },
  {
   "cell_type": "code",
   "execution_count": 33,
   "metadata": {},
   "outputs": [
    {
     "name": "stdout",
     "output_type": "stream",
     "text": [
      "input: (\"'This\", 'fair')\n",
      "label: child\n",
      "real word is child, predicted word is child\n"
     ]
    }
   ],
   "source": [
    "word, label = trigram[75]\n",
    "print('input: {}'.format(word))\n",
    "print('label: {}'.format(label))\n",
    "\n",
    "word = Variable(torch.LongTensor([word_to_idx[i] for i in word]))\n",
    "out = net(word)\n",
    "pred_label_prob,pred_label_idx = out.max(dim=1)\n",
    "predict_word = idx_to_word[pred_label_idx.item()]\n",
    "print('real word is {}, predicted word is {}'.format(label, predict_word))"
   ]
  },
  {
   "cell_type": "markdown",
   "metadata": {},
   "source": [
    "### 扩展: tensor.max(dim=)"
   ]
  },
  {
   "cell_type": "code",
   "execution_count": 34,
   "metadata": {},
   "outputs": [
    {
     "name": "stdout",
     "output_type": "stream",
     "text": [
      "tensor([[-1.0764, -0.6976,  0.0015, -0.9912,  0.2761],\n",
      "        [ 0.1534,  0.1551,  1.4026, -0.4309,  0.2014]])\n",
      "tensor([0.2761, 1.4026])\n",
      "tensor([4, 2])\n"
     ]
    }
   ],
   "source": [
    "a=torch.randn(2,5)\n",
    "print(a)\n",
    "prob,index=a.max(dim=1)\n",
    "print(prob)\n",
    "print(index)"
   ]
  }
 ],
 "metadata": {
  "kernelspec": {
   "display_name": "Python 3",
   "language": "python",
   "name": "python3"
  },
  "language_info": {
   "codemirror_mode": {
    "name": "ipython",
    "version": 3
   },
   "file_extension": ".py",
   "mimetype": "text/x-python",
   "name": "python",
   "nbconvert_exporter": "python",
   "pygments_lexer": "ipython3",
   "version": "3.6.5"
  }
 },
 "nbformat": 4,
 "nbformat_minor": 2
}
