{
 "cells": [
  {
   "cell_type": "markdown",
   "metadata": {},
   "source": [
    "# 线性模型和梯度下降\n",
    "这是神经网络的第一课，我们会学习一个非常简单的模型，线性回归，同时也会学习一个优化算法-梯度下降法，对这个模型进行优化。线性回归是监督学习里面一个非常简单的模型，同时梯度下降也是深度学习中应用最广的优化算法，我们将从这里开始我们的深度学习之旅"
   ]
  },
  {
   "cell_type": "code",
   "execution_count": 1,
   "metadata": {},
   "outputs": [
    {
     "data": {
      "text/plain": [
       "<torch._C.Generator at 0x2754c9d8f30>"
      ]
     },
     "execution_count": 1,
     "metadata": {},
     "output_type": "execute_result"
    }
   ],
   "source": [
    "import torch\n",
    "import numpy as np\n",
    "from torch.autograd import Variable\n",
    "\n",
    "torch.manual_seed(2017) #torch.manual_seed"
   ]
  },
  {
   "cell_type": "markdown",
   "metadata": {},
   "source": [
    "## 一. 一元线性回归模型"
   ]
  },
  {
   "cell_type": "code",
   "execution_count": 6,
   "metadata": {},
   "outputs": [],
   "source": [
    "# 读入数据 x 和 y\n",
    "x_train = np.array([[3.3], [4.4], [5.5], [6.71], [6.93], [4.168],\n",
    "                    [9.779], [6.182], [7.59], [2.167], [7.042],\n",
    "                    [10.791], [5.313], [7.997], [3.1]], dtype=np.float32)\n",
    "\n",
    "y_train = np.array([[1.7], [2.76], [2.09], [3.19], [1.694], [1.573],\n",
    "                    [3.366], [2.596], [2.53], [1.221], [2.827],\n",
    "                    [3.465], [1.65], [2.904], [1.3]], dtype=np.float32)"
   ]
  },
  {
   "cell_type": "code",
   "execution_count": 7,
   "metadata": {},
   "outputs": [
    {
     "data": {
      "image/png": "[encoded data removed]",
      "text/plain": [
       "<Figure size 432x288 with 1 Axes>"
      ]
     },
     "metadata": {},
     "output_type": "display_data"
    }
   ],
   "source": [
    "#画出图像\n",
    "import matplotlib.pyplot as plt\n",
    "plt.scatter(x_train,y_train)\n",
    "plt.show()"
   ]
  },
  {
   "cell_type": "code",
   "execution_count": 8,
   "metadata": {},
   "outputs": [],
   "source": [
    "# ndarray转换为Tensor\n",
    "x_train= torch.Tensor(x_train)\n",
    "y_train=torch.Tensor(y_train)\n",
    "\n",
    "#定义参数w和b\n",
    "w=Variable(torch.randn(1),requires_grad=True)\n",
    "b=Variable(torch.randn(1),requires_grad=True)"
   ]
  },
  {
   "cell_type": "markdown",
   "metadata": {},
   "source": [
    "### 构建线性回归模型"
   ]
  },
  {
   "cell_type": "code",
   "execution_count": 9,
   "metadata": {},
   "outputs": [],
   "source": [
    "x_train=Variable(x_train)\n",
    "y_train=Variable(y_train)\n",
    "\n",
    "def linear_model(x):\n",
    "    y_=x*w+b\n",
    "    return y_\n",
    "y_pred=linear_model(x_train)"
   ]
  },
  {
   "cell_type": "markdown",
   "metadata": {},
   "source": [
    "经过上面的步骤我们就定义好了模型，在进行参数更新之前，我们可以先看看模型的输出结果长什么样"
   ]
  },
  {
   "cell_type": "code",
   "execution_count": 10,
   "metadata": {},
   "outputs": [
    {
     "data": {
      "text/plain": [
       "<matplotlib.legend.Legend at 0x2754fdf9a90>"
      ]
     },
     "execution_count": 10,
     "metadata": {},
     "output_type": "execute_result"
    },
    {
     "data": {
      "image/png": "[encoded data removed]",
      "text/plain": [
       "<Figure size 432x288 with 1 Axes>"
      ]
     },
     "metadata": {},
     "output_type": "display_data"
    }
   ],
   "source": [
    "plt.scatter(x_train.data.numpy(),y_train.data.numpy(),label='real')\n",
    "plt.scatter(x_train.data.numpy(),y_pred.data.numpy(),label='predicted')\n",
    "plt.legend() #show的话不显示label名称"
   ]
  },
  {
   "cell_type": "markdown",
   "metadata": {},
   "source": [
    "### 计算误差"
   ]
  },
  {
   "cell_type": "code",
   "execution_count": 11,
   "metadata": {},
   "outputs": [],
   "source": [
    "def get_loss(y_pred,y_real):\n",
    "    return torch.mean((y_pred-y_real)**2)\n",
    "loss=get_loss(y_pred,y_train)"
   ]
  },
  {
   "cell_type": "code",
   "execution_count": 12,
   "metadata": {},
   "outputs": [
    {
     "name": "stdout",
     "output_type": "stream",
     "text": [
      "tensor(128.8117, grad_fn=<MeanBackward1>)\n"
     ]
    }
   ],
   "source": [
    "#打印一下看看loss的大小\n",
    "print(loss)"
   ]
  },
  {
   "cell_type": "markdown",
   "metadata": {},
   "source": [
    "### 反向自动求导"
   ]
  },
  {
   "cell_type": "code",
   "execution_count": 13,
   "metadata": {},
   "outputs": [
    {
     "name": "stdout",
     "output_type": "stream",
     "text": [
      "tensor([147.3155])\n",
      "tensor([20.6158])\n"
     ]
    }
   ],
   "source": [
    "loss.backward()\n",
    "#查看w和b的梯度\n",
    "print(w.grad)\n",
    "print(b.grad)"
   ]
  },
  {
   "cell_type": "markdown",
   "metadata": {},
   "source": [
    "### 更新一次参数,看一下模型输出的结果"
   ]
  },
  {
   "cell_type": "code",
   "execution_count": 14,
   "metadata": {},
   "outputs": [
    {
     "data": {
      "text/plain": [
       "<matplotlib.legend.Legend at 0x2754fe61fd0>"
      ]
     },
     "execution_count": 14,
     "metadata": {},
     "output_type": "execute_result"
    },
    {
     "data": {
      "image/png": "[encoded data removed]",
      "text/plain": [
       "<Figure size 432x288 with 1 Axes>"
      ]
     },
     "metadata": {},
     "output_type": "display_data"
    }
   ],
   "source": [
    "w.data=w.data - 1e-2*w.grad.data\n",
    "b.data=b.data - 1e-2*b.grad.data\n",
    "y_pred=linear_model(x_train)\n",
    "plt.scatter(x_train.data.numpy(),y_train.data.numpy(),label='real')\n",
    "plt.scatter(x_train.data.numpy(),y_pred.data.numpy(),label='pred')\n",
    "plt.legend()"
   ]
  },
  {
   "cell_type": "markdown",
   "metadata": {},
   "source": [
    "### 循环更新参数"
   ]
  },
  {
   "cell_type": "code",
   "execution_count": 15,
   "metadata": {},
   "outputs": [
    {
     "name": "stdout",
     "output_type": "stream",
     "text": [
      "epoch:0, loss:3.125429630279541\n",
      "epoch:1, loss:0.7964361310005188\n",
      "epoch:2, loss:0.7503958344459534\n",
      "epoch:3, loss:0.7466204762458801\n",
      "epoch:4, loss:0.7436421513557434\n",
      "epoch:5, loss:0.7406939268112183\n",
      "epoch:6, loss:0.737760603427887\n",
      "epoch:7, loss:0.7348425388336182\n",
      "epoch:8, loss:0.731939435005188\n",
      "epoch:9, loss:0.7290513515472412\n",
      "epoch:10, loss:0.7261778116226196\n",
      "epoch:11, loss:0.7233193516731262\n",
      "epoch:12, loss:0.7204752564430237\n",
      "epoch:13, loss:0.7176458835601807\n",
      "epoch:14, loss:0.7148309946060181\n",
      "epoch:15, loss:0.7120305895805359\n",
      "epoch:16, loss:0.709244430065155\n",
      "epoch:17, loss:0.706472635269165\n",
      "epoch:18, loss:0.7037149667739868\n",
      "epoch:19, loss:0.7009716033935547\n",
      "epoch:20, loss:0.6982423067092896\n",
      "epoch:21, loss:0.6955268383026123\n",
      "epoch:22, loss:0.6928253769874573\n",
      "epoch:23, loss:0.690138041973114\n",
      "epoch:24, loss:0.68746417760849\n",
      "epoch:25, loss:0.6848042011260986\n",
      "epoch:26, loss:0.6821576952934265\n",
      "epoch:27, loss:0.679524838924408\n",
      "epoch:28, loss:0.676905632019043\n",
      "epoch:29, loss:0.6742995977401733\n",
      "epoch:30, loss:0.6717072129249573\n",
      "epoch:31, loss:0.6691280603408813\n",
      "epoch:32, loss:0.666562020778656\n",
      "epoch:33, loss:0.6640092134475708\n",
      "epoch:34, loss:0.6614693403244019\n",
      "epoch:35, loss:0.6589425802230835\n",
      "epoch:36, loss:0.6564289331436157\n",
      "epoch:37, loss:0.6539280414581299\n",
      "epoch:38, loss:0.6514399647712708\n",
      "epoch:39, loss:0.6489647626876831\n",
      "epoch:40, loss:0.6465021371841431\n",
      "epoch:41, loss:0.644052267074585\n",
      "epoch:42, loss:0.6416149735450745\n",
      "epoch:43, loss:0.6391900181770325\n",
      "epoch:44, loss:0.6367776989936829\n",
      "epoch:45, loss:0.6343774795532227\n",
      "epoch:46, loss:0.6319898366928101\n",
      "epoch:47, loss:0.6296142935752869\n",
      "epoch:48, loss:0.6272510886192322\n",
      "epoch:49, loss:0.6248998641967773\n",
      "epoch:50, loss:0.6225607395172119\n",
      "epoch:51, loss:0.6202337145805359\n",
      "epoch:52, loss:0.6179185509681702\n",
      "epoch:53, loss:0.6156153082847595\n",
      "epoch:54, loss:0.6133238077163696\n",
      "epoch:55, loss:0.6110440492630005\n",
      "epoch:56, loss:0.6087759733200073\n",
      "epoch:57, loss:0.6065195798873901\n",
      "epoch:58, loss:0.6042746901512146\n",
      "epoch:59, loss:0.6020413637161255\n",
      "epoch:60, loss:0.599819540977478\n",
      "epoch:61, loss:0.5976091623306274\n",
      "epoch:62, loss:0.5954100489616394\n",
      "epoch:63, loss:0.5932223200798035\n",
      "epoch:64, loss:0.5910455584526062\n",
      "epoch:65, loss:0.5888800024986267\n",
      "epoch:66, loss:0.5867257714271545\n",
      "epoch:67, loss:0.5845824480056763\n",
      "epoch:68, loss:0.5824502110481262\n",
      "epoch:69, loss:0.5803288817405701\n",
      "epoch:70, loss:0.5782184600830078\n",
      "epoch:71, loss:0.5761186480522156\n",
      "epoch:72, loss:0.574029803276062\n",
      "epoch:73, loss:0.571951687335968\n",
      "epoch:74, loss:0.5698841214179993\n",
      "epoch:75, loss:0.5678272843360901\n",
      "epoch:76, loss:0.5657809376716614\n",
      "epoch:77, loss:0.5637450814247131\n",
      "epoch:78, loss:0.5617197751998901\n",
      "epoch:79, loss:0.5597047209739685\n",
      "epoch:80, loss:0.557699978351593\n",
      "epoch:81, loss:0.5557056665420532\n",
      "epoch:82, loss:0.5537214279174805\n",
      "epoch:83, loss:0.5517475008964539\n",
      "epoch:84, loss:0.5497837066650391\n",
      "epoch:85, loss:0.5478298664093018\n",
      "epoch:86, loss:0.5458860993385315\n",
      "epoch:87, loss:0.5439522862434387\n",
      "epoch:88, loss:0.5420283675193787\n",
      "epoch:89, loss:0.5401144623756409\n",
      "epoch:90, loss:0.5382103323936462\n",
      "epoch:91, loss:0.53631591796875\n",
      "epoch:92, loss:0.5344311594963074\n",
      "epoch:93, loss:0.5325561165809631\n",
      "epoch:94, loss:0.5306907296180725\n",
      "epoch:95, loss:0.528834879398346\n",
      "epoch:96, loss:0.5269885659217834\n",
      "epoch:97, loss:0.525151789188385\n",
      "epoch:98, loss:0.5233243107795715\n",
      "epoch:99, loss:0.5215062499046326\n"
     ]
    }
   ],
   "source": [
    "for e in range(100):\n",
    "    y_pred=linear_model(x_train)\n",
    "    loss=get_loss(y_pred,y_train)\n",
    "    w.grad.zero_() #梯度需要归零\n",
    "    b.grad.zero_()\n",
    "    \n",
    "    loss.backward()\n",
    "    w.data=w.data- 1e-2*w.grad.data\n",
    "    b.data=b.data- 1e-2*b.grad.data\n",
    "    \n",
    "    print('epoch:{}, loss:{}'.format(e, loss.data))"
   ]
  },
  {
   "cell_type": "markdown",
   "metadata": {},
   "source": [
    "### 展示一下迭代后的结果"
   ]
  },
  {
   "cell_type": "code",
   "execution_count": 16,
   "metadata": {},
   "outputs": [
    {
     "data": {
      "text/plain": [
       "<matplotlib.legend.Legend at 0x2754fec8400>"
      ]
     },
     "execution_count": 16,
     "metadata": {},
     "output_type": "execute_result"
    },
    {
     "data": {
      "image/png": "[encoded data removed]",
      "text/plain": [
       "<Figure size 432x288 with 1 Axes>"
      ]
     },
     "metadata": {},
     "output_type": "display_data"
    }
   ],
   "source": [
    "y_pred=linear_model(x_train)\n",
    "plt.scatter(x_train.data.numpy(), y_train.data.numpy(),label='real')\n",
    "plt.scatter(x_train.data.numpy(), y_pred.data.numpy(), label='pred')\n",
    "plt.legend()"
   ]
  },
  {
   "cell_type": "markdown",
   "metadata": {},
   "source": [
    "### 完整版"
   ]
  },
  {
   "cell_type": "code",
   "execution_count": 17,
   "metadata": {},
   "outputs": [
    {
     "name": "stdout",
     "output_type": "stream",
     "text": [
      "tensor(61.3291)\n",
      "tensor(1.4631)\n",
      "tensor(0.3543)\n",
      "tensor(0.3330)\n",
      "tensor(0.3318)\n",
      "tensor(0.3309)\n",
      "tensor(0.3301)\n",
      "tensor(0.3293)\n",
      "tensor(0.3284)\n",
      "tensor(0.3276)\n",
      "tensor(0.3268)\n",
      "tensor(0.3260)\n",
      "tensor(0.3252)\n",
      "tensor(0.3244)\n",
      "tensor(0.3236)\n",
      "tensor(0.3228)\n",
      "tensor(0.3220)\n",
      "tensor(0.3212)\n",
      "tensor(0.3204)\n",
      "tensor(0.3197)\n",
      "tensor(0.3189)\n",
      "tensor(0.3181)\n",
      "tensor(0.3174)\n",
      "tensor(0.3166)\n",
      "tensor(0.3158)\n",
      "tensor(0.3151)\n",
      "tensor(0.3143)\n",
      "tensor(0.3136)\n",
      "tensor(0.3128)\n",
      "tensor(0.3121)\n",
      "tensor(0.3114)\n",
      "tensor(0.3106)\n",
      "tensor(0.3099)\n",
      "tensor(0.3092)\n",
      "tensor(0.3085)\n",
      "tensor(0.3078)\n",
      "tensor(0.3070)\n",
      "tensor(0.3063)\n",
      "tensor(0.3056)\n",
      "tensor(0.3049)\n",
      "tensor(0.3042)\n",
      "tensor(0.3035)\n",
      "tensor(0.3028)\n",
      "tensor(0.3022)\n",
      "tensor(0.3015)\n",
      "tensor(0.3008)\n",
      "tensor(0.3001)\n",
      "tensor(0.2994)\n",
      "tensor(0.2988)\n",
      "tensor(0.2981)\n",
      "tensor(0.2975)\n",
      "tensor(0.2968)\n",
      "tensor(0.2961)\n",
      "tensor(0.2955)\n",
      "tensor(0.2948)\n",
      "tensor(0.2942)\n",
      "tensor(0.2935)\n",
      "tensor(0.2929)\n",
      "tensor(0.2923)\n",
      "tensor(0.2916)\n",
      "tensor(0.2910)\n",
      "tensor(0.2904)\n",
      "tensor(0.2898)\n",
      "tensor(0.2891)\n",
      "tensor(0.2885)\n",
      "tensor(0.2879)\n",
      "tensor(0.2873)\n",
      "tensor(0.2867)\n",
      "tensor(0.2861)\n",
      "tensor(0.2855)\n",
      "tensor(0.2849)\n",
      "tensor(0.2843)\n",
      "tensor(0.2837)\n",
      "tensor(0.2831)\n",
      "tensor(0.2825)\n",
      "tensor(0.2819)\n",
      "tensor(0.2814)\n",
      "tensor(0.2808)\n",
      "tensor(0.2802)\n",
      "tensor(0.2796)\n",
      "tensor(0.2791)\n",
      "tensor(0.2785)\n",
      "tensor(0.2779)\n",
      "tensor(0.2774)\n",
      "tensor(0.2768)\n",
      "tensor(0.2763)\n",
      "tensor(0.2757)\n",
      "tensor(0.2752)\n",
      "tensor(0.2746)\n",
      "tensor(0.2741)\n",
      "tensor(0.2736)\n",
      "tensor(0.2730)\n",
      "tensor(0.2725)\n",
      "tensor(0.2719)\n",
      "tensor(0.2714)\n",
      "tensor(0.2709)\n",
      "tensor(0.2704)\n",
      "tensor(0.2699)\n",
      "tensor(0.2693)\n",
      "tensor(0.2688)\n"
     ]
    },
    {
     "data": {
      "text/plain": [
       "<matplotlib.legend.Legend at 0x2754ff48dd8>"
      ]
     },
     "execution_count": 17,
     "metadata": {},
     "output_type": "execute_result"
    },
    {
     "data": {
      "image/png": "[encoded data removed]",
      "text/plain": [
       "<Figure size 432x288 with 1 Axes>"
      ]
     },
     "metadata": {},
     "output_type": "display_data"
    }
   ],
   "source": [
    "x_train = np.array([[3.3], [4.4], [5.5], [6.71], [6.93], [4.168],\n",
    "                    [9.779], [6.182], [7.59], [2.167], [7.042],\n",
    "                    [10.791], [5.313], [7.997], [3.1]], dtype=np.float32)\n",
    "\n",
    "y_train = np.array([[1.7], [2.76], [2.09], [3.19], [1.694], [1.573],\n",
    "                    [3.366], [2.596], [2.53], [1.221], [2.827],\n",
    "                    [3.465], [1.65], [2.904], [1.3]], dtype=np.float32)\n",
    "x_train=Variable(torch.Tensor(x_train))\n",
    "y_train=Variable(torch.Tensor(y_train))\n",
    "\n",
    "def linear_model(x_train,w,b):\n",
    "    y_pred=x_train*w+b\n",
    "    return y_pred\n",
    "w=Variable(torch.randn(1),requires_grad=True)\n",
    "b=Variable(torch.randn(1),requires_grad=True)\n",
    "for e in range(100):\n",
    "    y_pred=linear_model(x_train,w,b)\n",
    "    loss= torch.mean((y_pred-y_train)**2)\n",
    "    print(loss.data)\n",
    "    loss.backward()\n",
    "    \n",
    "    w.data=w.data-0.01*w.grad.data\n",
    "    b.data=b.data-0.01*b.grad.data\n",
    "    \n",
    "    w.grad.zero_()\n",
    "    b.grad.zero_()\n",
    "plt.scatter(x_train.data.numpy(),y_train.data.numpy(), label='real')\n",
    "plt.scatter(x_train.data.numpy(),y_pred.data.numpy(), label='pred')\n",
    "plt.legend()"
   ]
  },
  {
   "cell_type": "markdown",
   "metadata": {},
   "source": [
    "## 二. 多项式回归模式"
   ]
  },
  {
   "cell_type": "code",
   "execution_count": 18,
   "metadata": {},
   "outputs": [
    {
     "name": "stdout",
     "output_type": "stream",
     "text": [
      "y=0.90+0.50*x+3.00*x^2+2.40*x^3\n"
     ]
    }
   ],
   "source": [
    "# 定义一个多变量函数\n",
    "w_target=np.array([0.5,3,2.4])\n",
    "b_target=np.array([0.9])\n",
    "\n",
    "f_des='y={:.2f}+{:.2f}*x+{:.2f}*x^2+{:.2f}*x^3'.format(b_target[0],w_target[0],w_target[1],w_target[2]) #打印出函数的式子\n",
    "print(f_des)"
   ]
  },
  {
   "cell_type": "code",
   "execution_count": 19,
   "metadata": {},
   "outputs": [
    {
     "data": {
      "text/plain": [
       "<matplotlib.legend.Legend at 0x2754ff77390>"
      ]
     },
     "execution_count": 19,
     "metadata": {},
     "output_type": "execute_result"
    },
    {
     "data": {
      "image/png": "[encoded data removed]",
      "text/plain": [
       "<Figure size 432x288 with 1 Axes>"
      ]
     },
     "metadata": {},
     "output_type": "display_data"
    }
   ],
   "source": [
    "# 画出一个函数的曲线\n",
    "x_sample=np.arange(-3,3.1,0.1)\n",
    "y_sample=b_target[0]+ w_target[0]*x_sample + w_target[1]*x_sample**2+ w_target[2]*x_sample**3\n",
    "\n",
    "plt.plot(x_sample,y_sample,label='real curve')\n",
    "plt.legend()"
   ]
  },
  {
   "cell_type": "code",
   "execution_count": 21,
   "metadata": {},
   "outputs": [
    {
     "data": {
      "text/plain": [
       "tensor([[-38.4000],\n",
       "        [-33.8536],\n",
       "        [-29.6648],\n",
       "        [-25.8192],\n",
       "        [-22.3024],\n",
       "        [-19.1000],\n",
       "        [-16.1976],\n",
       "        [-13.5808],\n",
       "        [-11.2352],\n",
       "        [ -9.1464],\n",
       "        [ -7.3000],\n",
       "        [ -5.6816],\n",
       "        [ -4.2768],\n",
       "        [ -3.0712],\n",
       "        [ -2.0504],\n",
       "        [ -1.2000],\n",
       "        [ -0.5056],\n",
       "        [  0.0472],\n",
       "        [  0.4728],\n",
       "        [  0.7856],\n",
       "        [  1.0000],\n",
       "        [  1.1304],\n",
       "        [  1.1912],\n",
       "        [  1.1968],\n",
       "        [  1.1616],\n",
       "        [  1.1000],\n",
       "        [  1.0264],\n",
       "        [  0.9552],\n",
       "        [  0.9008],\n",
       "        [  0.8776],\n",
       "        [  0.9000],\n",
       "        [  0.9824],\n",
       "        [  1.1392],\n",
       "        [  1.3848],\n",
       "        [  1.7336],\n",
       "        [  2.2000],\n",
       "        [  2.7984],\n",
       "        [  3.5432],\n",
       "        [  4.4488],\n",
       "        [  5.5296],\n",
       "        [  6.8000],\n",
       "        [  8.2744],\n",
       "        [  9.9672],\n",
       "        [ 11.8928],\n",
       "        [ 14.0656],\n",
       "        [ 16.5000],\n",
       "        [ 19.2104],\n",
       "        [ 22.2112],\n",
       "        [ 25.5168],\n",
       "        [ 29.1416],\n",
       "        [ 33.1000],\n",
       "        [ 37.4064],\n",
       "        [ 42.0752],\n",
       "        [ 47.1208],\n",
       "        [ 52.5576],\n",
       "        [ 58.4000],\n",
       "        [ 64.6624],\n",
       "        [ 71.3592],\n",
       "        [ 78.5048],\n",
       "        [ 86.1136],\n",
       "        [ 94.2000]])"
      ]
     },
     "execution_count": 21,
     "metadata": {},
     "output_type": "execute_result"
    }
   ],
   "source": [
    "# 构建数据 x和y\n",
    "# x是一个如下矩阵[x, x^2, x^3]\n",
    "# y是函数的结果 [y]\n",
    "x_train=np.stack([x_sample**i for i in range(1,4)], axis=1) #分别做1,2,3次方操作\n",
    "\n",
    "x_train=torch.Tensor(x_train).float()\n",
    "y_train=torch.Tensor(y_sample).float()\n",
    "y_train.unsqueeze_(1)"
   ]
  },
  {
   "cell_type": "code",
   "execution_count": 22,
   "metadata": {},
   "outputs": [
    {
     "data": {
      "text/plain": [
       "<matplotlib.legend.Legend at 0x2754fcf75f8>"
      ]
     },
     "execution_count": 22,
     "metadata": {},
     "output_type": "execute_result"
    },
    {
     "data": {
      "image/png": "[encoded data removed]",
      "text/plain": [
       "<Figure size 432x288 with 1 Axes>"
      ]
     },
     "metadata": {},
     "output_type": "display_data"
    }
   ],
   "source": [
    "#画出更新之前的模型\n",
    "y_pred=multi_linear(x_train)\n",
    "plt.plot(x_train.data.numpy()[:,0],y_train.data.numpy(),label='real')#注意此处的[:,0]我们只要零次方的x,不需要高次方的\n",
    "plt.plot(x_train.data.numpy()[:,0],y_pred.data.numpy(),label='pred')\n",
    "plt.legend()"
   ]
  },
  {
   "cell_type": "markdown",
   "metadata": {},
   "source": [
    "### 定义参数和模型,计算误差,自动求导, 反向传播求梯度, 得到结果图"
   ]
  },
  {
   "cell_type": "code",
   "execution_count": 24,
   "metadata": {},
   "outputs": [
    {
     "name": "stdout",
     "output_type": "stream",
     "text": [
      "step:0,loss:600.6475830078125\n",
      "step:5,loss:120.02611541748047\n",
      "step:10,loss:62.97459411621094\n",
      "step:15,loss:42.38547897338867\n"
     ]
    },
    {
     "data": {
      "text/plain": [
       "<matplotlib.legend.Legend at 0x27550035860>"
      ]
     },
     "execution_count": 24,
     "metadata": {},
     "output_type": "execute_result"
    },
    {
     "data": {
      "image/png": "[encoded data removed]",
      "text/plain": [
       "<Figure size 432x288 with 1 Axes>"
      ]
     },
     "metadata": {},
     "output_type": "display_data"
    }
   ],
   "source": [
    "# 定义参数和模型\n",
    "w=Variable(torch.randn(3,1),requires_grad=True)\n",
    "b=Variable(torch.zeros(1),requires_grad=True)\n",
    "x_train=Variable(x_train)\n",
    "y_train=Variable(y_train)\n",
    "def multi_linear(x):\n",
    "    y_pred=torch.mm(x,w)+b\n",
    "    return y_pred\n",
    "for e in range(20):\n",
    "    y_pred=torch.matmul(x_train,w)+b\n",
    "    loss=torch.mean((y_pred-y_train)**2)\n",
    "    loss.backward() #这一步要在求导之前\n",
    "    w.data=w.data-0.001*w.grad.data\n",
    "    b.data=b.data-0.001*b.grad.data\n",
    "    w.grad.data.zero_()#归零操作, 此步操作只能在求导之后\n",
    "    b.grad.data.zero_()\n",
    "    if e%5==0:\n",
    "        print('step:{},loss:{}'.format(e,loss.data.numpy()))\n",
    "y_pred=multi_linear(x_train)\n",
    "plt.plot(x_train.data.numpy()[:,0],y_train.data.numpy(),label='real')\n",
    "plt.plot(x_train.data.numpy()[:,0],y_pred.data.numpy(),label='pred')\n",
    "plt.legend()"
   ]
  },
  {
   "cell_type": "markdown",
   "metadata": {},
   "source": [
    "我们可以看到, 多项式回归模型的学习效率是及其之高的,只需要20步,就可以完全拟合的差不多了,牛逼!"
   ]
  },
  {
   "cell_type": "markdown",
   "metadata": {},
   "source": [
    "## 小结:\n",
    "- `torch.mm(x,w)`:矩阵乘法,相当于`torch.matmul(x,w)`\n"
   ]
  },
  {
   "cell_type": "code",
   "execution_count": null,
   "metadata": {},
   "outputs": [],
   "source": []
  }
 ],
 "metadata": {
  "kernelspec": {
   "display_name": "Python 3",
   "language": "python",
   "name": "python3"
  },
  "language_info": {
   "codemirror_mode": {
    "name": "ipython",
    "version": 3
   },
   "file_extension": ".py",
   "mimetype": "text/x-python",
   "name": "python",
   "nbconvert_exporter": "python",
   "pygments_lexer": "ipython3",
   "version": "3.6.5"
  }
 },
 "nbformat": 4,
 "nbformat_minor": 2
}
