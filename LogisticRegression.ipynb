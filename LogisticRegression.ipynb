{
 "cells": [
  {
   "cell_type": "markdown",
   "metadata": {},
   "source": [
    "# Chap3-2: Logistic回归模型"
   ]
  },
  {
   "cell_type": "code",
   "execution_count": 8,
   "metadata": {},
   "outputs": [],
   "source": [
    "import torch\n",
    "from torch.autograd import Variable\n",
    "import numpy as np\n",
    "import matplotlib.pyplot as plt"
   ]
  },
  {
   "cell_type": "code",
   "execution_count": 9,
   "metadata": {},
   "outputs": [
    {
     "data": {
      "text/plain": [
       "<torch._C.Generator at 0x2324125bcf0>"
      ]
     },
     "execution_count": 9,
     "metadata": {},
     "output_type": "execute_result"
    }
   ],
   "source": [
    "#设定随机种子\n",
    "torch.manual_seed(2017)"
   ]
  },
  {
   "cell_type": "markdown",
   "metadata": {},
   "source": [
    "### 导入数据并可视化"
   ]
  },
  {
   "cell_type": "code",
   "execution_count": 10,
   "metadata": {},
   "outputs": [
    {
     "data": {
      "text/plain": [
       "<matplotlib.legend.Legend at 0x23244819be0>"
      ]
     },
     "execution_count": 10,
     "metadata": {},
     "output_type": "execute_result"
    },
    {
     "data": {
      "image/png": "[encoded data removed]",
      "text/plain": [
       "<Figure size 432x288 with 1 Axes>"
      ]
     },
     "metadata": {},
     "output_type": "display_data"
    }
   ],
   "source": [
    "f=open('./data.txt','r')\n",
    "data_list=[i.split('\\n')[0].split(',') for i in f.readlines()]\n",
    "data = [(float(i[0]), float(i[1]), float(i[2])) for i in data_list]\n",
    "f.close()\n",
    "# print(data)\n",
    "# 标准化\n",
    "x0_max=max([i[0] for i in data])\n",
    "x1_max=max([i[1] for i in data])\n",
    "data=[(i[0]/x0_max, i[1]/x1_max, i[2]) for i in data]\n",
    "#从list中筛选部分参数的写法!\n",
    "x0 = list(filter(lambda x:x[-1]==0.0, data)) #第一类点\n",
    "x1 = list(filter(lambda x:x[-1]==1.0, data)) #第二类点\n",
    "\n",
    "plot_x0 = [i[0] for i in x0]\n",
    "plot_y0 = [i[1] for i in x0]\n",
    "plot_x1 = [i[0] for i in x1]\n",
    "plot_y1 = [i[1] for i in x1]\n",
    "\n",
    "plt.plot(plot_x0, plot_y0, 'ro', label='x_0')\n",
    "plt.plot(plot_x1, plot_y1, 'bo', label='x_1')\n",
    "plt.legend(loc='best')\n"
   ]
  },
  {
   "cell_type": "markdown",
   "metadata": {},
   "source": [
    "### 得到训练数据\n",
    "接下来我们将数据转换成 NumPy 的类型，接着转换到 Tensor 为之后的训练做准备"
   ]
  },
  {
   "cell_type": "code",
   "execution_count": 11,
   "metadata": {},
   "outputs": [],
   "source": [
    "np_data = np.array(data, dtype='float32') # 转换成 numpy array\n",
    "x_data = torch.from_numpy(np_data[:, 0:2]) # 转换成 Tensor, 大小是 [100, 2]\n",
    "y_data = torch.from_numpy(np_data[:, -1]).unsqueeze(1) # 转换成 Tensor，大小是 [100, 1]\n",
    "\n",
    "x_data = Variable(x_data)\n",
    "y_data = Variable(y_data)"
   ]
  },
  {
   "cell_type": "markdown",
   "metadata": {},
   "source": [
    "### 定义logistic回归模型\n",
    "在 PyTorch 当中，不需要我们自己写 Sigmoid 的函数，PyTorch 已经用底层的 C++ 语言为我们写好了一些常用的函数，不仅方便我们使用，同时速度上比我们自己实现的更快，稳定性更好\n",
    "\n",
    "通过导入 `torch.nn.functional` 来使用，下面就是使用方法"
   ]
  },
  {
   "cell_type": "code",
   "execution_count": 12,
   "metadata": {},
   "outputs": [],
   "source": [
    "import torch.nn.functional as F\n",
    "\n",
    "# 定义 logistic 回归模型\n",
    "w = Variable(torch.randn(2, 1), requires_grad=True) #因为输入是2维,所以w的shape是[2,1]\n",
    "b = Variable(torch.zeros(1), requires_grad=True)\n",
    "\n",
    "def logistic_regression(x):\n",
    "    return F.sigmoid(torch.mm(x, w) + b)"
   ]
  },
  {
   "cell_type": "markdown",
   "metadata": {},
   "source": [
    "### 训练之前的分类效果"
   ]
  },
  {
   "cell_type": "code",
   "execution_count": 26,
   "metadata": {},
   "outputs": [
    {
     "data": {
      "text/plain": [
       "<matplotlib.legend.Legend at 0x23245af6cf8>"
      ]
     },
     "execution_count": 26,
     "metadata": {},
     "output_type": "execute_result"
    },
    {
     "data": {
      "image/png": "[encoded data removed]",
      "text/plain": [
       "<Figure size 432x288 with 1 Axes>"
      ]
     },
     "metadata": {},
     "output_type": "display_data"
    }
   ],
   "source": [
    "w0 = w[0].data[0]\n",
    "w1 = w[1].data[0]\n",
    "b0 = b.data[0]\n",
    "\n",
    "plot_x = torch.Tensor(np.arange(0.2, 1, 0.01)) #之所以要转换为Tensor, 是因为要参与到下边的共识运算, ndarray不能直接参与运算.\n",
    "plot_y = (-w0 * plot_x - b0) / w1 #这个公式从何而来?,下边见详解\n",
    "\n",
    "plt.plot(plot_x.data.numpy(), plot_y.data.numpy(), 'g', label='cutting line')#分割线\n",
    "\n",
    "plt.plot(plot_x0, plot_y0, 'ro', label='x_0')\n",
    "plt.plot(plot_x1, plot_y1, 'bo', label='x_1')\n",
    "plt.legend(loc='best')"
   ]
  },
  {
   "cell_type": "markdown",
   "metadata": {},
   "source": [
    "#### 扩展: `plot_y = (-w0 * plot_x - b0) / w1`从何而来?\n",
    "输入有两个维度,即\n",
    "$$\n",
    "x=(x_0,x_1)\n",
    "$$\n",
    "对应分割线的公式是\n",
    "$$\n",
    "w_0*x_0+w_1*x_1+b_0=0\n",
    "$$\n",
    "上面的`plot_x`对应着$x_0$,`plot_y`对应$x_1$,所以从以上公式自然有:\n",
    "$$\n",
    "x_1=(-w_0*x_0-b_0)/w_1\n",
    "$$"
   ]
  },
  {
   "cell_type": "markdown",
   "metadata": {},
   "source": [
    "可以看到分类效果基本是混乱的，我们来计算一下 loss，公式如下\n",
    "\n",
    "$$\n",
    "loss = -(y * log(\\hat{y}) + (1 - y) * log(1 - \\hat{y}))\n",
    "$$"
   ]
  },
  {
   "cell_type": "markdown",
   "metadata": {},
   "source": [
    "### 定义损失函数"
   ]
  },
  {
   "cell_type": "code",
   "execution_count": 30,
   "metadata": {},
   "outputs": [],
   "source": [
    "def binary_loss(y_pred,y_true):\n",
    "    loss=y_true*y_pred.clamp(1e-12).log()+(1-y_true)*(1-y_pred).clamp(1e-12).log()\n",
    "    \n",
    "    return -loss.mean()\n",
    "#log函数不能接受负值, 所以我们此处加上了tensor.clamp(1e-12),保证是个正数. tensor.clamp(min,max)是保证tensor的数值在区间之内"
   ]
  },
  {
   "cell_type": "markdown",
   "metadata": {},
   "source": [
    "#### 扩展: `tensor.clamp(min,max)`, `tensor.clamp_(min,max)`\n",
    "clamp: v. 夹紧，固定住；用夹锁锁住（车）；保持（电信号）电压极限在规定水平"
   ]
  },
  {
   "cell_type": "code",
   "execution_count": 28,
   "metadata": {},
   "outputs": [
    {
     "name": "stdout",
     "output_type": "stream",
     "text": [
      "原始tensor:\n",
      "tensor([[-1.0780,  1.7048,  0.1365],\n",
      "        [ 0.7977,  0.7078,  0.4767]])\n",
      "框定区间后:\n",
      "tensor([[-0.5000,  0.5000,  0.1365],\n",
      "        [ 0.5000,  0.5000,  0.4767]])\n",
      "框定区间后:\n",
      "tensor([[-0.5000,  0.5000,  0.1365],\n",
      "        [ 0.5000,  0.5000,  0.4767]])\n"
     ]
    }
   ],
   "source": [
    "tensor=torch.randn(2,3)\n",
    "print('原始tensor:\\n{}'.format(tensor))\n",
    "tensor2=tensor.clamp(-0.5,0.5)\n",
    "tensor.clamp_(-0.5,0.5)\n",
    "print('框定区间后:\\n{}'.format(tensor))\n",
    "print('框定区间后:\\n{}'.format(tensor2))"
   ]
  },
  {
   "cell_type": "markdown",
   "metadata": {},
   "source": [
    "### 得到损失"
   ]
  },
  {
   "cell_type": "code",
   "execution_count": 31,
   "metadata": {},
   "outputs": [
    {
     "name": "stdout",
     "output_type": "stream",
     "text": [
      "tensor(0.6412, grad_fn=<NegBackward>)\n"
     ]
    },
    {
     "name": "stderr",
     "output_type": "stream",
     "text": [
      "C:\\APP\\Anaconda\\lib\\site-packages\\torch\\nn\\functional.py:1006: UserWarning: nn.functional.sigmoid is deprecated. Use torch.sigmoid instead.\n",
      "  warnings.warn(\"nn.functional.sigmoid is deprecated. Use torch.sigmoid instead.\")\n"
     ]
    }
   ],
   "source": [
    "y_pred=logistic_regression(x_data)\n",
    "loss=binary_loss(y_pred, y_data)\n",
    "print(loss)"
   ]
  },
  {
   "cell_type": "markdown",
   "metadata": {},
   "source": [
    "### 更新一次参数"
   ]
  },
  {
   "cell_type": "code",
   "execution_count": 32,
   "metadata": {},
   "outputs": [
    {
     "name": "stdout",
     "output_type": "stream",
     "text": [
      "tensor(0.6407, grad_fn=<NegBackward>)\n"
     ]
    },
    {
     "name": "stderr",
     "output_type": "stream",
     "text": [
      "C:\\APP\\Anaconda\\lib\\site-packages\\torch\\nn\\functional.py:1006: UserWarning: nn.functional.sigmoid is deprecated. Use torch.sigmoid instead.\n",
      "  warnings.warn(\"nn.functional.sigmoid is deprecated. Use torch.sigmoid instead.\")\n"
     ]
    }
   ],
   "source": [
    "loss.backward()\n",
    "w.data=w.data-0.1*w.grad.data\n",
    "b.data=b.data-0.1*b.grad.data\n",
    "\n",
    "# 算出一次更新之后的loss\n",
    "y_pred= logistic_regression(x_data)\n",
    "loss= binary_loss(y_pred, y_data)\n",
    "print(loss)"
   ]
  },
  {
   "cell_type": "markdown",
   "metadata": {},
   "source": [
    "### Pytorch自带的优化更新函数-- torch.optim"
   ]
  },
  {
   "cell_type": "markdown",
   "metadata": {},
   "source": [
    "上面的参数更新方式其实是繁琐的重复操作，如果我们的参数很多，比如有 100 个，那么我们需要写 100 行来更新参数，为了方便，我们可以写成一个函数来更新，其实 PyTorch 已经为我们封装了一个函数来做这件事，这就是 PyTorch 中的优化器 `torch.optim`\n",
    "\n",
    "使用 `torch.optim` 需要另外一个数据类型，就是 `nn.Parameter`，这个本质上和 `Variable` 是一样的，只不过 `nn.Parameter` 默认是要求梯度的，而 `Variable` 默认是不求梯度的\n",
    "\n",
    "使用 `torch.optim.SGD` 可以使用梯度下降法来更新参数，PyTorch 中的优化器有更多的优化算法，在本章后面的课程我们会更加详细的介绍.\n",
    "\n",
    "将参数`w`和`b`放到`torch.optim.SGD`中之后,说明一下学习率的大小,就可以使用`optimizer.step()`来更新参数了,比如下面我们将参数传入优化器,学习率设置为`1.0`"
   ]
  },
  {
   "cell_type": "markdown",
   "metadata": {},
   "source": [
    "### 1. 使用torch.optim更新参数"
   ]
  },
  {
   "cell_type": "code",
   "execution_count": 95,
   "metadata": {},
   "outputs": [],
   "source": [
    "from torch import nn\n",
    "w=nn.Parameter(torch.randn(2,1))\n",
    "b=nn.Parameter(torch.zeros(1))\n",
    "def logistic_regression(x):\n",
    "    return F.sigmoid(torch.mm(x,w)+b)\n",
    "optimizer=torch.optim.SGD([w,b],lr=1)"
   ]
  },
  {
   "cell_type": "markdown",
   "metadata": {},
   "source": [
    "### 2.使用torch.optim进行1000次更新, 注意在更新参数之前要将梯度归零."
   ]
  },
  {
   "cell_type": "code",
   "execution_count": 96,
   "metadata": {},
   "outputs": [
    {
     "name": "stderr",
     "output_type": "stream",
     "text": [
      "C:\\APP\\Anaconda\\lib\\site-packages\\torch\\nn\\functional.py:1006: UserWarning: nn.functional.sigmoid is deprecated. Use torch.sigmoid instead.\n",
      "  warnings.warn(\"nn.functional.sigmoid is deprecated. Use torch.sigmoid instead.\")\n",
      "C:\\APP\\Anaconda\\lib\\site-packages\\ipykernel_launcher.py:15: UserWarning: invalid index of a 0-dim tensor. This will be an error in PyTorch 0.5. Use tensor.item() to convert a 0-dim tensor to a Python number\n",
      "  from ipykernel import kernelapp as app\n"
     ]
    },
    {
     "name": "stdout",
     "output_type": "stream",
     "text": [
      "epoch:0,Loss:0.65544,Acc:0.63000\n",
      "epoch:200,Loss:0.39688,Acc:0.91000\n",
      "epoch:400,Loss:0.32460,Acc:0.92000\n",
      "epoch:600,Loss:0.29067,Acc:0.91000\n",
      "epoch:800,Loss:0.27079,Acc:0.91000\n",
      "During Time: 0.310 s\n"
     ]
    }
   ],
   "source": [
    "import time\n",
    "start=time.time()\n",
    "for e in range(1000):\n",
    "    y_pred=logistic_regression(x_data)#y_pred=[100,1],是100个样本是正例的概率\n",
    "    loss=binary_loss(y_pred,y_data)\n",
    "    #反向传播\n",
    "    optimizer.zero_grad() #使用优化器将梯度归0\n",
    "    loss.backward()\n",
    "    optimizer.step() #使用优化器来更新参数,这一步便是核心更新公式.\n",
    "    \n",
    "    #计算正确率,mask代表模型真正的输出,1代表正例,0代表负例.\n",
    "    mask=y_pred.ge(0.5).float()#因为是long类型,转换为float类型\n",
    "    acc=(mask==y_data).sum().numpy()/y_data.shape[0]\n",
    "    if e%200==0:\n",
    "        print('epoch:{},Loss:{:.5f},Acc:{:.5f}'.format(e,loss.data[0],acc))\n",
    "during=time.time() -start\n",
    "print('During Time: {:.3f} s'.format(during))"
   ]
  },
  {
   "cell_type": "markdown",
   "metadata": {},
   "source": [
    "#### 扩展一: tensor.ge() 阈值函数\n",
    "通过设置一个阈值, 大于此值的元素设为1, 小于此值设为0"
   ]
  },
  {
   "cell_type": "code",
   "execution_count": 57,
   "metadata": {},
   "outputs": [
    {
     "name": "stdout",
     "output_type": "stream",
     "text": [
      "tensor([[ 1.3656, -0.0504, -1.8136],\n",
      "        [-0.2775,  0.4706, -0.0737]])\n",
      "tensor([[1, 0, 0],\n",
      "        [0, 0, 0]], dtype=torch.uint8)\n"
     ]
    }
   ],
   "source": [
    "a=torch.randn(2,3)\n",
    "print(a)\n",
    "print(a.ge(0.5))"
   ]
  },
  {
   "cell_type": "markdown",
   "metadata": {},
   "source": [
    "#### 扩展二: acc的计算过程, tensor1==tensor2对应元素比较大小\n",
    "`acc=(mask==y_data).sum().numpy()/y_data.shape[0]`"
   ]
  },
  {
   "cell_type": "code",
   "execution_count": 68,
   "metadata": {},
   "outputs": [
    {
     "name": "stdout",
     "output_type": "stream",
     "text": [
      "tensor([1, 0, 0, 1, 1], dtype=torch.uint8)\n",
      "判断正确的数量:3\n",
      "所有样本的数量:5\n",
      "准确率:0.6\n"
     ]
    }
   ],
   "source": [
    "a=torch.Tensor([1,2,3,4,5])\n",
    "b=torch.Tensor([1,3,2,4,5])\n",
    "right_tensor=(a==b)\n",
    "print(right_tensor)\n",
    "right_num=right_tensor.sum()\n",
    "print('判断正确的数量:{}'.format(right_num))\n",
    "all_num=a.shape[0]\n",
    "print('所有样本的数量:{}'.format(all_num))\n",
    "acc=right_num.numpy()/all_num\n",
    "print('准确率:{}'.format(acc))"
   ]
  },
  {
   "cell_type": "markdown",
   "metadata": {},
   "source": [
    "#### 扩展三: format中保留指定位数的小数:"
   ]
  },
  {
   "cell_type": "code",
   "execution_count": 76,
   "metadata": {},
   "outputs": [
    {
     "name": "stdout",
     "output_type": "stream",
     "text": [
      "保留2位小数后:3.14\n",
      "保留3位小数后:3.142\n"
     ]
    }
   ],
   "source": [
    "a=3.1415926\n",
    "print('保留2位小数后:{:.2f}'.format(a))\n",
    "print('保留3位小数后:{:.3f}'.format(a))"
   ]
  },
  {
   "cell_type": "markdown",
   "metadata": {},
   "source": [
    "### 3.画出更新之后的结果"
   ]
  },
  {
   "cell_type": "code",
   "execution_count": 97,
   "metadata": {},
   "outputs": [
    {
     "data": {
      "text/plain": [
       "<matplotlib.legend.Legend at 0x23245dbbac8>"
      ]
     },
     "execution_count": 97,
     "metadata": {},
     "output_type": "execute_result"
    },
    {
     "data": {
      "image/png": "[encoded data removed]",
      "text/plain": [
       "<Figure size 432x288 with 1 Axes>"
      ]
     },
     "metadata": {},
     "output_type": "display_data"
    }
   ],
   "source": [
    "w0=w[0].data[0] #w0即便是都.data[0],类型依旧是tensor\n",
    "w1=w[1].data[0]\n",
    "b0=b.data[0]\n",
    "\n",
    "plot_x=torch.Tensor(np.arange(0.2,1,0.01))\n",
    "plot_y=(-w0*plot_x-b0)/w1\n",
    "\n",
    "plt.plot(plot_x.data.numpy(),plot_y.data.numpy(),'g',label='cutting_line')\n",
    "\n",
    "plt.plot(plot_x0,plot_y0,'ro',label='x_0')\n",
    "plt.plot(plot_x1,plot_y1,'bo',label='x_1')\n",
    "\n",
    "plt.legend()"
   ]
  },
  {
   "cell_type": "markdown",
   "metadata": {},
   "source": [
    "### Pytorch自带的loss函数--`nn.MSE()`,`nn.BCEWithLogitsLoss()`\n",
    "\n",
    "前面我们使用了自己写的 loss，其实 PyTorch 已经为我们写好了一些常见的 loss，比如线性回归里面的 loss 是 nn.MSE()，而 Logistic 回归的二分类 loss 在 PyTorch 中是 nn.BCEWithLogitsLoss()，关于更多的 loss，可以查看文档\n",
    "\n",
    "PyTorch 为我们实现的 loss 函数有两个好处，第一是方便我们使用，不需要重复造轮子，第二就是其实现是在底层 C++ 语言上的，所以速度上和稳定性上都要比我们自己实现的要好\n",
    "\n",
    "另外，PyTorch 出于稳定性考虑，将模型的 Sigmoid 操作和最后的 loss 都合在了 nn.BCEWithLogitsLoss()，所以我们使用 PyTorch 自带的 loss 就不需要再加上 Sigmoid 操作了"
   ]
  },
  {
   "cell_type": "code",
   "execution_count": 103,
   "metadata": {},
   "outputs": [
    {
     "name": "stdout",
     "output_type": "stream",
     "text": [
      "tensor(0.6649, grad_fn=<MeanBackward1>)\n"
     ]
    }
   ],
   "source": [
    "criterion=nn.BCEWithLogitsLoss() #criterion denotes 标准\n",
    "w=nn.Parameter(torch.randn(2,1))\n",
    "b=nn.Parameter(torch.zeros(1))\n",
    "\n",
    "def logistic_reg(x): #reg denotes regression\n",
    "    return torch.mm(x,w)+b #\n",
    "optimizer=torch.optim.SGD([w,b],lr=1.0)\n",
    "\n",
    "y_pred=logistic_reg(x_data)\n",
    "loss=nn.BCEWithLogitsLoss()(y_pred, y_data)\n",
    "print(loss)"
   ]
  },
  {
   "cell_type": "markdown",
   "metadata": {},
   "source": [
    "#### 1.使用自带的loss进行1000次更新"
   ]
  },
  {
   "cell_type": "code",
   "execution_count": 104,
   "metadata": {},
   "outputs": [
    {
     "name": "stdout",
     "output_type": "stream",
     "text": [
      "epoch:199,loss:0.38986,acc:0.88000\n",
      "epoch:399,loss:0.32178,acc:0.87000\n",
      "epoch:599,loss:0.28913,acc:0.87000\n",
      "epoch:799,loss:0.26981,acc:0.87000\n",
      "epoch:999,loss:0.25698,acc:0.88000\n",
      "0.2533223628997803\n"
     ]
    }
   ],
   "source": [
    "start=time.time()\n",
    "for e in range(1000):\n",
    "    #前向传播\n",
    "    y_pred=logistic_reg(x_data)\n",
    "    loss=criterion(y_pred,y_data)\n",
    "    #反向传播\n",
    "    optimizer.zero_grad()\n",
    "    loss.backward()\n",
    "    optimizer.step()\n",
    "    #计算正确率\n",
    "    mask=y_pred.ge(0.5).float()\n",
    "    acc=(mask==y_data).sum().numpy()/y_data.shape[0]\n",
    "    if (e+1)%200==0:\n",
    "        print('epoch:{},loss:{:.5f},acc:{:.5f}'.format(e,loss,acc))\n",
    "during=time.time()-start\n",
    "\n",
    "print(during)"
   ]
  },
  {
   "cell_type": "markdown",
   "metadata": {},
   "source": [
    "可以看到，使用了 PyTorch 自带的 loss 之后，速度有了一定的上升，虽然看上去速度的提升并不多，但是这只是一个小网络，对于大网络，使用自带的 loss 不管对于稳定性还是速度而言，都有质的飞跃，同时也避免了重复造轮子的困扰"
   ]
  },
  {
   "cell_type": "markdown",
   "metadata": {},
   "source": [
    "## 总结\n",
    "- `list(filter(lambda func, data))`:python从list中筛选某些值\n",
    "- `tensor.clamp(min,max)`,`tensor.clamp_(min,max)`:顾名思义,从tensor中clamp出设定区间的元素.\n",
    "- `torch.optim.SGD`:pytorch自带优化更新函数:\n",
    " 1. 定义优化器: `optimizer=torch.optim.SGD([Parameter],lr=)`\n",
    " 2. 归零梯度:`optimizer.zero_grad()`\n",
    " 3. 定义损失求导:`loss.backward()`\n",
    " 4. 优化更新:`optimizer.step()`\n",
    "- `tensor.ge(number)`:判断是否大于阈值,大于为1,小于为0.常用于计算acc\n",
    "- `tensor==tensor`:对应元素比较是否相等,相等为1,不相等为0.常用于计算acc\n",
    "- `nn.BCEWithLogitsLoss()(y_pred,y_true)`:逻辑回归二分类损失,自带sigmoid函数,`y_pred`只需要是`torch.mm(x,w)+b`之后就可以,不需要`F.sigmoid()`"
   ]
  },
  {
   "cell_type": "code",
   "execution_count": null,
   "metadata": {},
   "outputs": [],
   "source": []
  }
 ],
 "metadata": {
  "kernelspec": {
   "display_name": "Python 3",
   "language": "python",
   "name": "python3"
  },
  "language_info": {
   "codemirror_mode": {
    "name": "ipython",
    "version": 3
   },
   "file_extension": ".py",
   "mimetype": "text/x-python",
   "name": "python",
   "nbconvert_exporter": "python",
   "pygments_lexer": "ipython3",
   "version": "3.6.5"
  }
 },
 "nbformat": 4,
 "nbformat_minor": 2
}
