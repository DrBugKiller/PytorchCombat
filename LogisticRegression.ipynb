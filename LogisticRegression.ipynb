{
 "cells": [
  {
   "cell_type": "markdown",
   "metadata": {},
   "source": [
    "## Logistic回归模型"
   ]
  },
  {
   "cell_type": "code",
   "execution_count": 2,
   "metadata": {},
   "outputs": [],
   "source": [
    "import torch\n",
    "from torch.autograd import Variable\n",
    "import numpy as np\n",
    "import matplotlib.pyplot as plt"
   ]
  },
  {
   "cell_type": "code",
   "execution_count": 3,
   "metadata": {},
   "outputs": [
    {
     "data": {
      "text/plain": [
       "<torch._C.Generator at 0x219435493b0>"
      ]
     },
     "execution_count": 3,
     "metadata": {},
     "output_type": "execute_result"
    }
   ],
   "source": [
    "#设定随机种子\n",
    "torch.manual_seed(2017)"
   ]
  },
  {
   "cell_type": "markdown",
   "metadata": {},
   "source": [
    "### 导入数据并可视化"
   ]
  },
  {
   "cell_type": "code",
   "execution_count": 5,
   "metadata": {},
   "outputs": [
    {
     "data": {
      "text/plain": [
       "<matplotlib.legend.Legend at 0x219464e91d0>"
      ]
     },
     "execution_count": 5,
     "metadata": {},
     "output_type": "execute_result"
    },
    {
     "data": {
      "image/png": "[encoded data removed]",
      "text/plain": [
       "<Figure size 432x288 with 1 Axes>"
      ]
     },
     "metadata": {},
     "output_type": "display_data"
    }
   ],
   "source": [
    "f=open('./data.txt','r')\n",
    "data_list=[i.split('\\n')[0].split(',') for i in f.readlines()]\n",
    "data = [(float(i[0]), float(i[1]), float(i[2])) for i in data_list]\n",
    "f.close()\n",
    "# print(data)\n",
    "# 标准化\n",
    "x0_max=max([i[0] for i in data])\n",
    "x1_max=max([i[1] for i in data])\n",
    "data=[(i[0]/x0_max, i[1]/x1_max, i[2]) for i in data]\n",
    "#从list中筛选部分参数的写法!\n",
    "x0 = list(filter(lambda x:x[-1]==0.0, data)) #第一类点\n",
    "x1 = list(filter(lambda x:x[-1]==1.0, data)) #第二类点\n",
    "\n",
    "plot_x0 = [i[0] for i in x0]\n",
    "plot_y0 = [i[1] for i in x0]\n",
    "plot_x1 = [i[0] for i in x1]\n",
    "plot_y1 = [i[1] for i in x1]\n",
    "\n",
    "plt.plot(plot_x0, plot_y0, 'ro', label='x_0')\n",
    "plt.plot(plot_x1, plot_y1, 'bo', label='x_1')\n",
    "plt.legend(loc='best')\n"
   ]
  },
  {
   "cell_type": "markdown",
   "metadata": {},
   "source": [
    "### 得到训练数据\n",
    "接下来我们将数据转换成 NumPy 的类型，接着转换到 Tensor 为之后的训练做准备"
   ]
  },
  {
   "cell_type": "code",
   "execution_count": 8,
   "metadata": {},
   "outputs": [],
   "source": [
    "np_data = np.array(data, dtype='float32') # 转换成 numpy array\n",
    "x_data = torch.from_numpy(np_data[:, 0:2]) # 转换成 Tensor, 大小是 [100, 2]\n",
    "y_data = torch.from_numpy(np_data[:, -1]).unsqueeze(1) # 转换成 Tensor，大小是 [100, 1]\n",
    "\n",
    "x_data = Variable(x_data)\n",
    "y_data = Variable(y_data)"
   ]
  },
  {
   "cell_type": "markdown",
   "metadata": {},
   "source": [
    "### 定义logistic回归模型\n",
    "在 PyTorch 当中，不需要我们自己写 Sigmoid 的函数，PyTorch 已经用底层的 C++ 语言为我们写好了一些常用的函数，不仅方便我们使用，同时速度上比我们自己实现的更快，稳定性更好\n",
    "\n",
    "通过导入 `torch.nn.functional` 来使用，下面就是使用方法"
   ]
  },
  {
   "cell_type": "code",
   "execution_count": 9,
   "metadata": {},
   "outputs": [],
   "source": [
    "import torch.nn.functional as F\n",
    "\n",
    "# 定义 logistic 回归模型\n",
    "w = Variable(torch.randn(2, 1), requires_grad=True) #因为输入是2维,所以w的shape是[2,1]\n",
    "b = Variable(torch.zeros(1), requires_grad=True)\n",
    "\n",
    "def logistic_regression(x):\n",
    "    return F.sigmoid(torch.mm(x, w) + b)"
   ]
  },
  {
   "cell_type": "markdown",
   "metadata": {},
   "source": [
    "### 训练之前的分类效果"
   ]
  },
  {
   "cell_type": "code",
   "execution_count": 15,
   "metadata": {},
   "outputs": [
    {
     "data": {
      "text/plain": [
       "<matplotlib.legend.Legend at 0x219466e36d8>"
      ]
     },
     "execution_count": 15,
     "metadata": {},
     "output_type": "execute_result"
    },
    {
     "data": {
      "image/png": "[encoded data removed]",
      "text/plain": [
       "<Figure size 432x288 with 1 Axes>"
      ]
     },
     "metadata": {},
     "output_type": "display_data"
    }
   ],
   "source": [
    "w0 = w[0].data[0]\n",
    "w1 = w[1].data[0]\n",
    "b0 = b.data[0]\n",
    "\n",
    "plot_x = torch.Tensor(np.arange(0.2, 1, 0.01))\n",
    "plot_y = (-w0 * plot_x - b0) / w1 #这个公式从何而来?,下边见详解\n",
    "\n",
    "plt.plot(plot_x, plot_y, 'g', label='cutting line')#分割线\n",
    "\n",
    "plt.plot(plot_x0, plot_y0, 'ro', label='x_0')\n",
    "plt.plot(plot_x1, plot_y1, 'bo', label='x_1')\n",
    "plt.legend(loc='best')"
   ]
  },
  {
   "cell_type": "markdown",
   "metadata": {},
   "source": [
    "#### 扩展: `plot_y = (-w0 * plot_x - b0) / w1`从何而来?\n",
    "输入有两个维度,即\n",
    "$$\n",
    "x=(x_0,x_1)\n",
    "$$\n",
    "对应分割线的公式是\n",
    "$$\n",
    "w_0*x_0+w_1*x_1+b_0=0\n",
    "$$\n",
    "上面的`plot_x`对应着$x_0$,`plot_y`对应$x_1$,所以从以上公式自然有:\n",
    "$$\n",
    "x_1=(-w_0*x_0-b_0)/w_1\n",
    "$$"
   ]
  },
  {
   "cell_type": "markdown",
   "metadata": {},
   "source": [
    "可以看到分类效果基本是混乱的，我们来计算一下 loss，公式如下\n",
    "\n",
    "$$\n",
    "loss = -(y * log(\\hat{y}) + (1 - y) * log(1 - \\hat{y}))\n",
    "$$"
   ]
  },
  {
   "cell_type": "markdown",
   "metadata": {},
   "source": [
    "### 定义损失函数"
   ]
  },
  {
   "cell_type": "code",
   "execution_count": 17,
   "metadata": {},
   "outputs": [],
   "source": [
    "def binary_loss(y_pred,y_true):\n",
    "    loss=y_true*y_pred.clamp(1e-12).log()+(1-y_true)*(1-y_pred).clamp(1e-12).log()\n",
    "    return -loss\n",
    "#log函数不能接受负值, 所以我们此处加上了tensor.clamp(1e-12),保证是个正数. tensor.clamp(min,max)是保证tensor的数值在区间之内"
   ]
  },
  {
   "cell_type": "markdown",
   "metadata": {},
   "source": [
    "#### 扩展: `tensor.clamp(min,max)`, `tensor.clamp_(min,max)`"
   ]
  },
  {
   "cell_type": "code",
   "execution_count": 22,
   "metadata": {},
   "outputs": [
    {
     "name": "stdout",
     "output_type": "stream",
     "text": [
      "原始tensor:\n",
      "tensor([[-1.3343, -0.1449,  0.5423],\n",
      "        [ 2.0257,  0.6302,  1.2472]])\n",
      "框定区间后:\n",
      "tensor([[-0.5000, -0.1449,  0.5000],\n",
      "        [ 0.5000,  0.5000,  0.5000]])\n",
      "框定区间后:\n",
      "tensor([[-0.5000, -0.1449,  0.5000],\n",
      "        [ 0.5000,  0.5000,  0.5000]])\n"
     ]
    }
   ],
   "source": [
    "tensor=torch.randn(2,3)\n",
    "print('原始tensor:\\n{}'.format(tensor))\n",
    "tensor2=tensor.clamp(-0.5,0.5)\n",
    "tensor.clamp_(-0.5,0.5)\n",
    "print('框定区间后:\\n{}'.format(tensor))\n",
    "print('框定区间后:\\n{}'.format(tensor2))"
   ]
  },
  {
   "cell_type": "code",
   "execution_count": null,
   "metadata": {},
   "outputs": [],
   "source": []
  }
 ],
 "metadata": {
  "kernelspec": {
   "display_name": "Python 3",
   "language": "python",
   "name": "python3"
  },
  "language_info": {
   "codemirror_mode": {
    "name": "ipython",
    "version": 3
   },
   "file_extension": ".py",
   "mimetype": "text/x-python",
   "name": "python",
   "nbconvert_exporter": "python",
   "pygments_lexer": "ipython3",
   "version": "3.6.5"
  }
 },
 "nbformat": 4,
 "nbformat_minor": 2
}
