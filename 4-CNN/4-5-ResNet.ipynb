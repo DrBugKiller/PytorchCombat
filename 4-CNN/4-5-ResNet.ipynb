{
 "cells": [
  {
   "cell_type": "markdown",
   "metadata": {},
   "source": [
    "# ResNet"
   ]
  },
  {
   "cell_type": "code",
   "execution_count": 1,
   "metadata": {},
   "outputs": [],
   "source": [
    "import sys\n",
    "sys.path.append('..')\n",
    "\n",
    "import numpy as np\n",
    "import torch\n",
    "from torch import nn\n",
    "import torch.nn.functional as F\n",
    "from torch.autograd import Variable\n",
    "from torchvision.datasets import CIFAR10"
   ]
  },
  {
   "cell_type": "code",
   "execution_count": 2,
   "metadata": {},
   "outputs": [],
   "source": [
    "def conv3x3(in_channel, out_channel, stride=1):\n",
    "    return nn.Conv2d(in_channel, out_channel, 3, stride=stride, padding=1, bias=False)"
   ]
  },
  {
   "cell_type": "code",
   "execution_count": 3,
   "metadata": {},
   "outputs": [],
   "source": [
    "class residual_block(nn.Module): #/ri'zidrul/\n",
    "    def __init__(self, in_channel, out_channel, same_shape=True):\n",
    "        super(residual_block, self).__init__()\n",
    "        self.same_shape = same_shape\n",
    "        stride=1 if self.same_shape else 2 #控制stride\n",
    "        \n",
    "        self.conv1 = conv3x3(in_channel, out_channel, stride=stride)\n",
    "        self.bn1 = nn.BatchNorm2d(out_channel)\n",
    "        \n",
    "        self.conv2 = conv3x3(out_channel, out_channel)\n",
    "        self.bn2 = nn.BatchNorm2d(out_channel)\n",
    "        if not self.same_shape:\n",
    "            self.conv3 = nn.Conv2d(in_channel, out_channel, 1, stride=stride)\n",
    "        \n",
    "    def forward(self, x):\n",
    "        out = self.conv1(x)\n",
    "        out = F.relu(self.bn1(out), True)\n",
    "        out = self.conv2(out)\n",
    "        out = F.relu(self.bn2(out), True)\n",
    "        \n",
    "        if not self.same_shape:\n",
    "            x = self.conv3(x)\n",
    "        return F.relu(x+out, True) #residual的核心,nn.ReLU(out+x)"
   ]
  },
  {
   "cell_type": "code",
   "execution_count": 5,
   "metadata": {},
   "outputs": [
    {
     "name": "stdout",
     "output_type": "stream",
     "text": [
      "input: torch.Size([1, 32, 96, 96])\n",
      "output: torch.Size([1, 32, 96, 96])\n"
     ]
    }
   ],
   "source": [
    "# 输入输出形状相同\n",
    "test_net = residual_block(32, 32)\n",
    "test_x = Variable(torch.zeros(1, 32, 96, 96))\n",
    "print('input: {}'.format(test_x.shape))\n",
    "test_y = test_net(test_x)\n",
    "print('output: {}'.format(test_y.shape))"
   ]
  },
  {
   "cell_type": "code",
   "execution_count": 6,
   "metadata": {},
   "outputs": [
    {
     "name": "stdout",
     "output_type": "stream",
     "text": [
      "input: torch.Size([1, 3, 96, 96])\n",
      "output: torch.Size([1, 32, 48, 48])\n"
     ]
    }
   ],
   "source": [
    "# 输入输出形状不同\n",
    "test_net = residual_block(3, 32, False)\n",
    "test_x = Variable(torch.zeros(1, 3, 96, 96))\n",
    "print('input: {}'.format(test_x.shape))\n",
    "test_y = test_net(test_x)\n",
    "print('output: {}'.format(test_y.shape))"
   ]
  },
  {
   "cell_type": "code",
   "execution_count": 7,
   "metadata": {},
   "outputs": [],
   "source": [
    "class resnet(nn.Module):\n",
    "    def __init__(self, in_channel, num_classes, verbose=False):\n",
    "        super(resnet, self).__init__()\n",
    "        self.verbose = verbose\n",
    "        \n",
    "        self.block1 = nn.Conv2d(in_channel, 64, 7, 2)\n",
    "        \n",
    "        self.block2 = nn.Sequential(\n",
    "            nn.MaxPool2d(3, 2),\n",
    "            residual_block(64, 64),\n",
    "            residual_block(64, 64) )\n",
    "        \n",
    "        self.block3 = nn.Sequential(residual_block(64, 128, False),\n",
    "            residual_block(128, 128))\n",
    "        \n",
    "        self.block4 = nn.Sequential(residual_block(128, 256, False),\n",
    "            residual_block(256, 256) )\n",
    "        \n",
    "        self.block5 = nn.Sequential( residual_block(256, 512, False),\n",
    "                                    residual_block(512, 512),\n",
    "                                    nn.AvgPool2d(3) )\n",
    "        \n",
    "        self.classifier = nn.Linear(512, num_classes)\n",
    "        \n",
    "    def forward(self, x):\n",
    "        x = self.block1(x)\n",
    "        if self.verbose:\n",
    "            print('block 1 output: {}'.format(x.shape))\n",
    "        x = self.block2(x)\n",
    "        if self.verbose:\n",
    "            print('block 2 output: {}'.format(x.shape))\n",
    "        x = self.block3(x)\n",
    "        if self.verbose:\n",
    "            print('block 3 output: {}'.format(x.shape))\n",
    "        x = self.block4(x)\n",
    "        if self.verbose:\n",
    "            print('block 4 output: {}'.format(x.shape))\n",
    "        x = self.block5(x)\n",
    "        if self.verbose:\n",
    "            print('block 5 output: {}'.format(x.shape))\n",
    "        x = x.view(x.shape[0], -1)\n",
    "        x = self.classifier(x)\n",
    "        return x"
   ]
  },
  {
   "cell_type": "code",
   "execution_count": 8,
   "metadata": {},
   "outputs": [
    {
     "name": "stdout",
     "output_type": "stream",
     "text": [
      "block 1 output: torch.Size([1, 64, 45, 45])\n",
      "block 2 output: torch.Size([1, 64, 22, 22])\n",
      "block 3 output: torch.Size([1, 128, 11, 11])\n",
      "block 4 output: torch.Size([1, 256, 6, 6])\n",
      "block 5 output: torch.Size([1, 512, 1, 1])\n",
      "output: torch.Size([1, 10])\n"
     ]
    }
   ],
   "source": [
    "test_net = resnet(3, 10, True)\n",
    "test_x = Variable(torch.zeros(1, 3, 96, 96))\n",
    "test_y = test_net(test_x)\n",
    "print('output: {}'.format(test_y.shape))"
   ]
  },
  {
   "cell_type": "code",
   "execution_count": 9,
   "metadata": {},
   "outputs": [
    {
     "name": "stdout",
     "output_type": "stream",
     "text": [
      "Epoch 0. Train Loss: 1.434532, Train Acc: 0.475523, Valid Loss: 2.177341, Valid Acc: 0.336729, Time 00:01:38\n",
      "Epoch 1. Train Loss: 0.987843, Train Acc: 0.650675, Valid Loss: 1.663084, Valid Acc: 0.464102, Time 00:01:45\n",
      "Epoch 2. Train Loss: 0.765679, Train Acc: 0.732836, Valid Loss: 0.971504, Valid Acc: 0.657634, Time 00:01:44\n",
      "Epoch 3. Train Loss: 0.605976, Train Acc: 0.788263, Valid Loss: 1.015542, Valid Acc: 0.662975, Time 00:01:44\n",
      "Epoch 4. Train Loss: 0.477899, Train Acc: 0.832820, Valid Loss: 1.520569, Valid Acc: 0.580498, Time 00:01:44\n",
      "Epoch 5. Train Loss: 0.369632, Train Acc: 0.874261, Valid Loss: 1.213158, Valid Acc: 0.645075, Time 00:01:44\n",
      "Epoch 6. Train Loss: 0.277539, Train Acc: 0.906050, Valid Loss: 0.870092, Valid Acc: 0.727057, Time 00:01:45\n",
      "Epoch 7. Train Loss: 0.197819, Train Acc: 0.931546, Valid Loss: 1.553567, Valid Acc: 0.605716, Time 00:01:45\n",
      "Epoch 8. Train Loss: 0.152319, Train Acc: 0.948909, Valid Loss: 1.119592, Valid Acc: 0.693137, Time 00:04:36\n",
      "Epoch 9. Train Loss: 0.104841, Train Acc: 0.965713, Valid Loss: 1.104668, Valid Acc: 0.711729, Time 00:07:06\n",
      "Epoch 10. Train Loss: 0.080764, Train Acc: 0.973845, Valid Loss: 0.973726, Valid Acc: 0.739814, Time 00:07:07\n",
      "Epoch 11. Train Loss: 0.062898, Train Acc: 0.979699, Valid Loss: 1.445769, Valid Acc: 0.673754, Time 00:07:05\n",
      "Epoch 12. Train Loss: 0.042575, Train Acc: 0.987212, Valid Loss: 0.939170, Valid Acc: 0.764142, Time 00:07:05\n",
      "Epoch 13. Train Loss: 0.036994, Train Acc: 0.988611, Valid Loss: 1.450851, Valid Acc: 0.685720, Time 00:07:05\n",
      "Epoch 14. Train Loss: 0.034150, Train Acc: 0.989230, Valid Loss: 1.508385, Valid Acc: 0.680380, Time 00:07:08\n",
      "Epoch 15. Train Loss: 0.031177, Train Acc: 0.990909, Valid Loss: 1.750524, Valid Acc: 0.671578, Time 00:07:04\n",
      "Epoch 16. Train Loss: 0.020592, Train Acc: 0.994385, Valid Loss: 1.033783, Valid Acc: 0.763746, Time 00:06:12\n",
      "Epoch 17. Train Loss: 0.012566, Train Acc: 0.997023, Valid Loss: 0.910199, Valid Acc: 0.790744, Time 00:01:58\n",
      "Epoch 18. Train Loss: 0.009541, Train Acc: 0.997642, Valid Loss: 1.126720, Valid Acc: 0.755142, Time 00:01:58\n",
      "Epoch 19. Train Loss: 0.009939, Train Acc: 0.997702, Valid Loss: 0.919820, Valid Acc: 0.798853, Time 00:01:58\n"
     ]
    }
   ],
   "source": [
    "from utils import train\n",
    "\n",
    "def data_tf(x):\n",
    "    x = x.resize((96, 96), 2) # 将图片放大到 96 x 96\n",
    "    x = np.array(x, dtype='float32') / 255\n",
    "    x = (x - 0.5) / 0.5 # 标准化，这个技巧之后会讲到\n",
    "    x = x.transpose((2, 0, 1)) # 将 channel 放到第一维，只是 pytorch 要求的输入方式\n",
    "    x = torch.from_numpy(x)\n",
    "    return x\n",
    "     \n",
    "train_set = CIFAR10('./data', train=True, transform=data_tf)\n",
    "train_data = torch.utils.data.DataLoader(train_set, batch_size=64, shuffle=True)\n",
    "test_set = CIFAR10('./data', train=False, transform=data_tf)\n",
    "test_data = torch.utils.data.DataLoader(test_set, batch_size=128, shuffle=False)\n",
    "\n",
    "net = resnet(3, 10)\n",
    "optimizer = torch.optim.SGD(net.parameters(), lr=0.01)\n",
    "criterion = nn.CrossEntropyLoss()\n",
    "\n",
    "\n",
    "train(net, train_data, test_data, 20, optimizer, criterion)"
   ]
  }
 ],
 "metadata": {
  "kernelspec": {
   "display_name": "Python 3",
   "language": "python",
   "name": "python3"
  },
  "language_info": {
   "codemirror_mode": {
    "name": "ipython",
    "version": 3
   },
   "file_extension": ".py",
   "mimetype": "text/x-python",
   "name": "python",
   "nbconvert_exporter": "python",
   "pygments_lexer": "ipython3",
   "version": "3.6.5"
  }
 },
 "nbformat": 4,
 "nbformat_minor": 2
}
